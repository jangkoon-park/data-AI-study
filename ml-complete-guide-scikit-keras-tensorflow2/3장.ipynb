{
 "cells": [
  {
   "cell_type": "code",
   "execution_count": 1,
   "id": "c8c95cfb-5289-484d-948e-9751082e251e",
   "metadata": {},
   "outputs": [],
   "source": [
    "import numpy as np\n",
    "from packaging import version\n",
    "from pathlib import Path\n",
    "from zlib import crc32\n",
    "from scipy import stats\n",
    "from scipy.stats import binom\n",
    "from scipy.stats import expon\n",
    "from scipy.stats import geom\n",
    "from scipy.stats import randint\n",
    "from scipy.stats import uniform\n",
    "from scipy.stats import loguniform\n",
    "from sklearn import set_config\n",
    "from sklearn.base import BaseEstimator, TransformerMixin\n",
    "from sklearn.cluster import KMeans\n",
    "from sklearn.compose import ColumnTransformer\n",
    "from sklearn.compose import make_column_selector, make_column_transformer\n",
    "from sklearn.compose import TransformedTargetRegressor\n",
    "from sklearn.ensemble import IsolationForest\n",
    "from sklearn.ensemble import RandomForestRegressor\n",
    "from sklearn.experimental import enable_halving_search_cv\n",
    "from sklearn.impute import SimpleImputer\n",
    "from sklearn.linear_model import LinearRegression\n",
    "from sklearn.metrics import mean_squared_error\n",
    "from sklearn.metrics.pairwise import rbf_kernel\n",
    "from sklearn.model_selection import cross_val_score\n",
    "from sklearn.model_selection import GridSearchCV\n",
    "from sklearn.model_selection import HalvingRandomSearchCV\n",
    "from sklearn.model_selection import RandomizedSearchCV\n",
    "from sklearn.model_selection import StratifiedShuffleSplit\n",
    "from sklearn.model_selection import train_test_split\n",
    "from sklearn.pipeline import Pipeline\n",
    "from sklearn.pipeline import make_pipeline\n",
    "from sklearn.preprocessing import FunctionTransformer\n",
    "from sklearn.preprocessing import MinMaxScaler\n",
    "from sklearn.preprocessing import OneHotEncoder\n",
    "from sklearn.preprocessing import OrdinalEncoder\n",
    "from sklearn.preprocessing import StandardScaler\n",
    "from sklearn.svm import SVR\n",
    "from sklearn.tree import DecisionTreeRegressor\n",
    "from sklearn.utils.validation import check_array, check_is_fitted\n",
    "import pandas as pd"
   ]
  },
  {
   "cell_type": "code",
   "execution_count": 2,
   "id": "aa97daf6-4dd5-4b61-9adc-c34b3dbdcc0d",
   "metadata": {},
   "outputs": [],
   "source": [
    "import sys\n",
    "\n",
    "assert sys.version_info >= (3, 7)"
   ]
  },
  {
   "cell_type": "code",
   "execution_count": 3,
   "id": "879e5efc-8428-49fa-9552-d6da4fcd1d71",
   "metadata": {},
   "outputs": [],
   "source": [
    "from packaging import version\n",
    "import sklearn\n",
    "\n",
    "assert version.parse(sklearn.__version__) >= version.parse(\"1.0.1\")"
   ]
  },
  {
   "cell_type": "code",
   "execution_count": 4,
   "id": "10271217-3cdc-484e-8202-68dcf9456f35",
   "metadata": {},
   "outputs": [],
   "source": [
    "import matplotlib.pyplot as plt\n",
    "\n",
    "plt.rc('font', size=14)\n",
    "plt.rc('axes', labelsize=14, titlesize=14)\n",
    "plt.rc('legend', fontsize=14)\n",
    "plt.rc('xtick', labelsize=10)\n",
    "plt.rc('ytick', labelsize=10)"
   ]
  },
  {
   "cell_type": "code",
   "execution_count": 5,
   "id": "cbd3bebb-b3c1-42ce-8004-f5db4b9aa90c",
   "metadata": {},
   "outputs": [],
   "source": [
    "from pathlib import Path\n",
    "\n",
    "IMAGES_PATH = Path() / \"images\" / \"classification\"\n",
    "IMAGES_PATH.mkdir(parents=True, exist_ok=True)\n",
    "\n",
    "def save_fig(fig_id, tight_layout=True, fig_extension=\"png\", resolution=300):\n",
    "    path = IMAGES_PATH / f\"{fig_id}.{fig_extension}\"\n",
    "    if tight_layout:\n",
    "        plt.tight_layout()\n",
    "    plt.savefig(path, format=fig_extension, dpi=resolution)"
   ]
  },
  {
   "cell_type": "markdown",
   "id": "42bf2d50-0aae-44d1-bbc6-90550d2e6816",
   "metadata": {},
   "source": [
    "# MNIST"
   ]
  },
  {
   "cell_type": "code",
   "execution_count": 6,
   "id": "c642fb66-b387-42e3-bc62-5e6bdef6a2d3",
   "metadata": {},
   "outputs": [],
   "source": [
    "from sklearn.datasets import fetch_openml\n",
    "\n",
    "# 사이킷런 1.2에서 추가된 parser 매개변수 기본값이 1.4 버전에서 'liac-arff'에서 'auto'로 바뀝니다.\n",
    "# 'auto'일 경우 희소한 ARFF 포맷일 때는 'liac-arff', 그렇지 않을 때는 'pandas'가 됩니다.\n",
    "# 이에 대한 경고를 피하려면 parser='auto'로 지정하세요.\n",
    "# mnist = fetch_openml('mnist_784', as_frame=False)"
   ]
  },
  {
   "cell_type": "code",
   "execution_count": 7,
   "id": "086022e0-0e05-4a9f-91e5-05d3e96772cb",
   "metadata": {},
   "outputs": [],
   "source": [
    "# 추가 코드 - 조금 내용이 깁니다\n",
    "# print(mnist.DESCR)"
   ]
  },
  {
   "cell_type": "code",
   "execution_count": 8,
   "id": "0596e424-f45a-4d2e-b000-732868f52d99",
   "metadata": {},
   "outputs": [],
   "source": [
    "# import numpy as np\n",
    "# import gzip\n",
    "# import os\n",
    "\n",
    "# def load_mnist_images(filename):\n",
    "#     with gzip.open(filename, 'rb') as f:\n",
    "#         _ = int.from_bytes(f.read(4), 'big')  # magic number\n",
    "#         num_images = int.from_bytes(f.read(4), 'big')\n",
    "#         rows = int.from_bytes(f.read(4), 'big')\n",
    "#         cols = int.from_bytes(f.read(4), 'big')\n",
    "#         images = np.frombuffer(f.read(), dtype=np.uint8).reshape(num_images, rows * cols)\n",
    "#         return images\n",
    "\n",
    "# def load_mnist_labels(filename):\n",
    "#     with gzip.open(filename, 'rb') as f:\n",
    "#         _ = int.from_bytes(f.read(4), 'big')  # magic number\n",
    "#         num_labels = int.from_bytes(f.read(4), 'big')\n",
    "#         labels = np.frombuffer(f.read(), dtype=np.uint8)\n",
    "#         return labels\n",
    "\n",
    "# # 다운로드 받은 파일 경로\n",
    "# path = 'C:/Users/CJ/사이킥런/datasets/mnist'\n",
    "\n",
    "# X_train = load_mnist_images(os.path.join(path, 'train-images-idx3-ubyte.gz'))\n",
    "# y_train = load_mnist_labels(os.path.join(path, 'train-labels-idx1-ubyte.gz'))\n",
    "# X_test = load_mnist_images(os.path.join(path, 't10k-images-idx3-ubyte.gz'))\n",
    "# y_test = load_mnist_labels(os.path.join(path, 't10k-labels-idx1-ubyte.gz'))\n",
    "\n",
    "# print(f\"Training set shape: {X_train.shape}, Labels: {y_train.shape}\")\n",
    "# print(f\"Test set shape: {X_test.shape}, Labels: {y_test.shape}\")"
   ]
  },
  {
   "cell_type": "code",
   "execution_count": 9,
   "id": "ad093802-c6ad-4016-a1ea-5d21761ce5c3",
   "metadata": {},
   "outputs": [
    {
     "name": "stdout",
     "output_type": "stream",
     "text": [
      "dict_keys(['data', 'target', 'frame', 'feature_names', 'target_names', 'DESCR', 'details', 'url'])\n"
     ]
    }
   ],
   "source": [
    "from scipy.io import arff\n",
    "import pandas as pd\n",
    "\n",
    "# ARFF 파일 로딩\n",
    "data, meta = arff.loadarff('C:/Users/CJ/사이킥런/datasets/mnist/mnist_784.arff')\n",
    "df = pd.DataFrame(data)\n",
    "\n",
    "# target 열 (레이블) 추출 - 마지막 열이라고 가정\n",
    "target_col = df.columns[-1]\n",
    "\n",
    "# byte 형식을 문자열로 디코딩\n",
    "df[target_col] = df[target_col].apply(lambda x: x.decode('utf-8'))\n",
    "\n",
    "# 딕셔너리 형태로 구성 (fetch_openml 흉내)\n",
    "mnist = {\n",
    "    'data': df.drop(columns=target_col).values,      # X\n",
    "    'target': df[target_col].values,                 # y\n",
    "    'frame': df,                                     # 전체 DataFrame\n",
    "    'feature_names': df.columns[:-1].tolist(),       # 특성 이름\n",
    "    'target_names': sorted(df[target_col].unique()), # 타겟 클래스들\n",
    "    'DESCR': 'MNIST handwritten digits dataset loaded from ARFF file.',\n",
    "    'details': {'source': 'local .arff file'},\n",
    "    'url': 'https://www.openml.org/d/554'\n",
    "}\n",
    "\n",
    "# 확인\n",
    "print(mnist.keys())\n"
   ]
  },
  {
   "cell_type": "code",
   "execution_count": 10,
   "id": "72709f10-f69e-4cd9-b594-a7fe511b0f88",
   "metadata": {},
   "outputs": [
    {
     "data": {
      "text/plain": [
       "dict_keys(['data', 'target', 'frame', 'feature_names', 'target_names', 'DESCR', 'details', 'url'])"
      ]
     },
     "execution_count": 10,
     "metadata": {},
     "output_type": "execute_result"
    }
   ],
   "source": [
    "mnist.keys()"
   ]
  },
  {
   "cell_type": "code",
   "execution_count": 11,
   "id": "75d239b6-6f45-4246-8878-b19724c3d273",
   "metadata": {},
   "outputs": [],
   "source": [
    "from sklearn.utils import Bunch\n",
    "\n",
    "mnist = Bunch(\n",
    "    data=df.drop(columns=target_col).values,\n",
    "    target=df[target_col].values,\n",
    "    frame=df,\n",
    "    feature_names=df.columns[:-1].tolist(),\n",
    "    target_names=sorted(df[target_col].unique()),\n",
    "    DESCR='MNIST handwritten digits dataset loaded from ARFF file.',\n",
    "    details={'source': 'local .arff file'},\n",
    "    url='https://www.openml.org/d/554'\n",
    ")\n",
    "\n",
    "# 이제 아래처럼 사용 가능\n",
    "X, y = mnist.data, mnist.target"
   ]
  },
  {
   "cell_type": "code",
   "execution_count": 12,
   "id": "22223a39-efad-403b-9cd7-10b2b80449fc",
   "metadata": {},
   "outputs": [
    {
     "data": {
      "text/plain": [
       "array([[0., 0., 0., ..., 0., 0., 0.],\n",
       "       [0., 0., 0., ..., 0., 0., 0.],\n",
       "       [0., 0., 0., ..., 0., 0., 0.],\n",
       "       ...,\n",
       "       [0., 0., 0., ..., 0., 0., 0.],\n",
       "       [0., 0., 0., ..., 0., 0., 0.],\n",
       "       [0., 0., 0., ..., 0., 0., 0.]])"
      ]
     },
     "execution_count": 12,
     "metadata": {},
     "output_type": "execute_result"
    }
   ],
   "source": [
    "X"
   ]
  },
  {
   "cell_type": "code",
   "execution_count": 13,
   "id": "3bd9281e-488e-42e7-85f9-bc6f1d92dfac",
   "metadata": {},
   "outputs": [
    {
     "data": {
      "text/plain": [
       "(70000, 784)"
      ]
     },
     "execution_count": 13,
     "metadata": {},
     "output_type": "execute_result"
    }
   ],
   "source": [
    "X.shape"
   ]
  },
  {
   "cell_type": "code",
   "execution_count": 14,
   "id": "914ec2a5-4c35-46d0-869c-3c099a69c5ca",
   "metadata": {},
   "outputs": [
    {
     "data": {
      "text/plain": [
       "array(['5', '0', '4', ..., '4', '5', '6'], dtype=object)"
      ]
     },
     "execution_count": 14,
     "metadata": {},
     "output_type": "execute_result"
    }
   ],
   "source": [
    "y"
   ]
  },
  {
   "cell_type": "code",
   "execution_count": 15,
   "id": "b8d3b7cf-b54f-4de4-925d-920346a881e2",
   "metadata": {},
   "outputs": [
    {
     "data": {
      "text/plain": [
       "(70000,)"
      ]
     },
     "execution_count": 15,
     "metadata": {},
     "output_type": "execute_result"
    }
   ],
   "source": [
    "y.shape"
   ]
  },
  {
   "cell_type": "code",
   "execution_count": 16,
   "id": "d1cb36fb-19b9-4ad6-b75d-3308305cafce",
   "metadata": {},
   "outputs": [
    {
     "data": {
      "text/plain": [
       "784"
      ]
     },
     "execution_count": 16,
     "metadata": {},
     "output_type": "execute_result"
    }
   ],
   "source": [
    "28 * 28"
   ]
  },
  {
   "cell_type": "code",
   "execution_count": 17,
   "id": "0da61ba4-f30b-411d-8c59-85f95c586c41",
   "metadata": {},
   "outputs": [
    {
     "data": {
      "image/png": "[encoded data removed]",
      "text/plain": [
       "<Figure size 640x480 with 1 Axes>"
      ]
     },
     "metadata": {},
     "output_type": "display_data"
    }
   ],
   "source": [
    "import matplotlib.pyplot as plt\n",
    "\n",
    "def plot_digit(image_data):\n",
    "    image = image_data.reshape(28, 28)\n",
    "    plt.imshow(image, cmap=\"binary\")\n",
    "    plt.axis(\"off\")\n",
    "\n",
    "some_digit = X[0]\n",
    "plot_digit(some_digit)\n",
    "save_fig(\"some_digit_plot\")  # 추가 코드\n",
    "plt.show()"
   ]
  },
  {
   "cell_type": "code",
   "execution_count": 18,
   "id": "4c6e0bc7-3e22-4c46-bdd0-5a20218e72f9",
   "metadata": {},
   "outputs": [
    {
     "data": {
      "text/plain": [
       "'5'"
      ]
     },
     "execution_count": 18,
     "metadata": {},
     "output_type": "execute_result"
    }
   ],
   "source": [
    "y[0]"
   ]
  },
  {
   "cell_type": "code",
   "execution_count": 19,
   "id": "9822b5e8-2f9c-4244-8b6c-c15adfbe3ca8",
   "metadata": {},
   "outputs": [
    {
     "data": {
      "image/png": "[encoded data removed]",
      "text/plain": [
       "<Figure size 900x900 with 100 Axes>"
      ]
     },
     "metadata": {},
     "output_type": "display_data"
    }
   ],
   "source": [
    "plt.figure(figsize=(9, 9))\n",
    "for idx, image_data in enumerate(X[:100]):\n",
    "    plt.subplot(10, 10, idx + 1)\n",
    "    plot_digit(image_data)\n",
    "plt.subplots_adjust(wspace=0, hspace=0)\n",
    "save_fig(\"more_digits_plot\", tight_layout=False)\n",
    "plt.show()"
   ]
  },
  {
   "cell_type": "code",
   "execution_count": 20,
   "id": "4e3aaea6-968e-4a9a-a0cd-13a824d4d17f",
   "metadata": {},
   "outputs": [],
   "source": [
    "X_train, X_test, y_train, y_test = X[:60000], X[60000:], y[:60000], y[60000:]"
   ]
  },
  {
   "cell_type": "markdown",
   "id": "92cf54fb-3071-4d7f-aefa-83404a4be725",
   "metadata": {},
   "source": [
    "## 이진 분류기 훈련"
   ]
  },
  {
   "cell_type": "code",
   "execution_count": 21,
   "id": "af7c2e20-9f0f-4b04-bcdb-37f9c7c2be7b",
   "metadata": {},
   "outputs": [],
   "source": [
    "y_train_5 = (y_train == '5')  # 5는 True고, 다른 숫자는 모두 False\n",
    "y_test_5 = (y_test == '5')"
   ]
  },
  {
   "cell_type": "code",
   "execution_count": 22,
   "id": "03a5d3c1-2a4c-4173-a5fb-60af15623d6a",
   "metadata": {},
   "outputs": [
    {
     "data": {
      "text/html": [
       "<style>#sk-container-id-1 {color: black;}#sk-container-id-1 pre{padding: 0;}#sk-container-id-1 div.sk-toggleable {background-color: white;}#sk-container-id-1 label.sk-toggleable__label {cursor: pointer;display: block;width: 100%;margin-bottom: 0;padding: 0.3em;box-sizing: border-box;text-align: center;}#sk-container-id-1 label.sk-toggleable__label-arrow:before {content: \"▸\";float: left;margin-right: 0.25em;color: #696969;}#sk-container-id-1 label.sk-toggleable__label-arrow:hover:before {color: black;}#sk-container-id-1 div.sk-estimator:hover label.sk-toggleable__label-arrow:before {color: black;}#sk-container-id-1 div.sk-toggleable__content {max-height: 0;max-width: 0;overflow: hidden;text-align: left;background-color: #f0f8ff;}#sk-container-id-1 div.sk-toggleable__content pre {margin: 0.2em;color: black;border-radius: 0.25em;background-color: #f0f8ff;}#sk-container-id-1 input.sk-toggleable__control:checked~div.sk-toggleable__content {max-height: 200px;max-width: 100%;overflow: auto;}#sk-container-id-1 input.sk-toggleable__control:checked~label.sk-toggleable__label-arrow:before {content: \"▾\";}#sk-container-id-1 div.sk-estimator input.sk-toggleable__control:checked~label.sk-toggleable__label {background-color: #d4ebff;}#sk-container-id-1 div.sk-label input.sk-toggleable__control:checked~label.sk-toggleable__label {background-color: #d4ebff;}#sk-container-id-1 input.sk-hidden--visually {border: 0;clip: rect(1px 1px 1px 1px);clip: rect(1px, 1px, 1px, 1px);height: 1px;margin: -1px;overflow: hidden;padding: 0;position: absolute;width: 1px;}#sk-container-id-1 div.sk-estimator {font-family: monospace;background-color: #f0f8ff;border: 1px dotted black;border-radius: 0.25em;box-sizing: border-box;margin-bottom: 0.5em;}#sk-container-id-1 div.sk-estimator:hover {background-color: #d4ebff;}#sk-container-id-1 div.sk-parallel-item::after {content: \"\";width: 100%;border-bottom: 1px solid gray;flex-grow: 1;}#sk-container-id-1 div.sk-label:hover label.sk-toggleable__label {background-color: #d4ebff;}#sk-container-id-1 div.sk-serial::before {content: \"\";position: absolute;border-left: 1px solid gray;box-sizing: border-box;top: 0;bottom: 0;left: 50%;z-index: 0;}#sk-container-id-1 div.sk-serial {display: flex;flex-direction: column;align-items: center;background-color: white;padding-right: 0.2em;padding-left: 0.2em;position: relative;}#sk-container-id-1 div.sk-item {position: relative;z-index: 1;}#sk-container-id-1 div.sk-parallel {display: flex;align-items: stretch;justify-content: center;background-color: white;position: relative;}#sk-container-id-1 div.sk-item::before, #sk-container-id-1 div.sk-parallel-item::before {content: \"\";position: absolute;border-left: 1px solid gray;box-sizing: border-box;top: 0;bottom: 0;left: 50%;z-index: -1;}#sk-container-id-1 div.sk-parallel-item {display: flex;flex-direction: column;z-index: 1;position: relative;background-color: white;}#sk-container-id-1 div.sk-parallel-item:first-child::after {align-self: flex-end;width: 50%;}#sk-container-id-1 div.sk-parallel-item:last-child::after {align-self: flex-start;width: 50%;}#sk-container-id-1 div.sk-parallel-item:only-child::after {width: 0;}#sk-container-id-1 div.sk-dashed-wrapped {border: 1px dashed gray;margin: 0 0.4em 0.5em 0.4em;box-sizing: border-box;padding-bottom: 0.4em;background-color: white;}#sk-container-id-1 div.sk-label label {font-family: monospace;font-weight: bold;display: inline-block;line-height: 1.2em;}#sk-container-id-1 div.sk-label-container {text-align: center;}#sk-container-id-1 div.sk-container {/* jupyter's `normalize.less` sets `[hidden] { display: none; }` but bootstrap.min.css set `[hidden] { display: none !important; }` so we also need the `!important` here to be able to override the default hidden behavior on the sphinx rendered scikit-learn.org. See: https://github.com/scikit-learn/scikit-learn/issues/21755 */display: inline-block !important;position: relative;}#sk-container-id-1 div.sk-text-repr-fallback {display: none;}</style><div id=\"sk-container-id-1\" class=\"sk-top-container\"><div class=\"sk-text-repr-fallback\"><pre>SGDClassifier(random_state=42)</pre><b>In a Jupyter environment, please rerun this cell to show the HTML representation or trust the notebook. <br />On GitHub, the HTML representation is unable to render, please try loading this page with nbviewer.org.</b></div><div class=\"sk-container\" hidden><div class=\"sk-item\"><div class=\"sk-estimator sk-toggleable\"><input class=\"sk-toggleable__control sk-hidden--visually\" id=\"sk-estimator-id-1\" type=\"checkbox\" checked><label for=\"sk-estimator-id-1\" class=\"sk-toggleable__label sk-toggleable__label-arrow\">SGDClassifier</label><div class=\"sk-toggleable__content\"><pre>SGDClassifier(random_state=42)</pre></div></div></div></div></div>"
      ],
      "text/plain": [
       "SGDClassifier(random_state=42)"
      ]
     },
     "execution_count": 22,
     "metadata": {},
     "output_type": "execute_result"
    }
   ],
   "source": [
    "from sklearn.linear_model import SGDClassifier\n",
    "\n",
    "sgd_clf = SGDClassifier(random_state=42)\n",
    "sgd_clf.fit(X_train, y_train_5)"
   ]
  },
  {
   "cell_type": "code",
   "execution_count": 23,
   "id": "71863982-fd35-42c5-8910-ce69dea2cfcd",
   "metadata": {},
   "outputs": [
    {
     "data": {
      "text/plain": [
       "array([ True])"
      ]
     },
     "execution_count": 23,
     "metadata": {},
     "output_type": "execute_result"
    }
   ],
   "source": [
    "sgd_clf.predict([some_digit])"
   ]
  },
  {
   "cell_type": "markdown",
   "id": "0fa3b82c-ad4b-4f29-9631-9afa4403f03a",
   "metadata": {},
   "source": [
    "## 성능측정"
   ]
  },
  {
   "cell_type": "code",
   "execution_count": 24,
   "id": "28dbe9d6-f7d0-4aa5-b8b9-754fd68005d0",
   "metadata": {},
   "outputs": [
    {
     "data": {
      "text/plain": [
       "array([0.95035, 0.96035, 0.9604 ])"
      ]
     },
     "execution_count": 24,
     "metadata": {},
     "output_type": "execute_result"
    }
   ],
   "source": [
    "from sklearn.model_selection import cross_val_score\n",
    "\n",
    "cross_val_score(sgd_clf, X_train, y_train_5, cv=3, scoring=\"accuracy\")"
   ]
  },
  {
   "cell_type": "code",
   "execution_count": 25,
   "id": "89f64518-1d94-4bc1-bbde-087918ff7595",
   "metadata": {},
   "outputs": [
    {
     "name": "stdout",
     "output_type": "stream",
     "text": [
      "0.95035\n",
      "0.96035\n",
      "0.9604\n"
     ]
    }
   ],
   "source": [
    "from sklearn.model_selection import StratifiedKFold\n",
    "from sklearn.base import clone\n",
    "\n",
    "skfolds = StratifiedKFold(n_splits=3)  # 데이터셋이 미리 섞여 있지 않다면\n",
    "                                       # shuffle=True를 추가하세요.\n",
    "for train_index, test_index in skfolds.split(X_train, y_train_5):\n",
    "    clone_clf = clone(sgd_clf)\n",
    "    X_train_folds = X_train[train_index]\n",
    "    y_train_folds = y_train_5[train_index]\n",
    "    X_test_fold = X_train[test_index]\n",
    "    y_test_fold = y_train_5[test_index]\n",
    "\n",
    "    clone_clf.fit(X_train_folds, y_train_folds)\n",
    "    y_pred = clone_clf.predict(X_test_fold)\n",
    "    n_correct = sum(y_pred == y_test_fold)\n",
    "    print(n_correct / len(y_pred))"
   ]
  },
  {
   "cell_type": "code",
   "execution_count": 26,
   "id": "1baf91b8-5dc4-4739-b415-6c368ca7fdd4",
   "metadata": {},
   "outputs": [
    {
     "name": "stdout",
     "output_type": "stream",
     "text": [
      "False\n"
     ]
    }
   ],
   "source": [
    "from sklearn.dummy import DummyClassifier\n",
    "\n",
    "dummy_clf = DummyClassifier()\n",
    "dummy_clf.fit(X_train, y_train_5)\n",
    "print(any(dummy_clf.predict(X_train)))"
   ]
  },
  {
   "cell_type": "code",
   "execution_count": 27,
   "id": "5003b2e8-42ac-4d07-b49b-48f5d621fa0d",
   "metadata": {},
   "outputs": [
    {
     "data": {
      "text/plain": [
       "array([0.90965, 0.90965, 0.90965])"
      ]
     },
     "execution_count": 27,
     "metadata": {},
     "output_type": "execute_result"
    }
   ],
   "source": [
    "cross_val_score(dummy_clf, X_train, y_train_5, cv=3, scoring=\"accuracy\")"
   ]
  },
  {
   "cell_type": "markdown",
   "id": "30e92506-7973-4b71-964c-d812897d20d5",
   "metadata": {},
   "source": [
    "## 오차 행렬"
   ]
  },
  {
   "cell_type": "code",
   "execution_count": 28,
   "id": "6f761128-b3fd-47b8-950b-99ed77a71d5f",
   "metadata": {},
   "outputs": [],
   "source": [
    "from sklearn.model_selection import cross_val_predict\n",
    "\n",
    "y_train_pred = cross_val_predict(sgd_clf, X_train, y_train_5, cv=3)"
   ]
  },
  {
   "cell_type": "code",
   "execution_count": 29,
   "id": "8ccd12c4-7119-4990-a5bb-d1efea36bd7b",
   "metadata": {},
   "outputs": [
    {
     "data": {
      "text/plain": [
       "array([[53892,   687],\n",
       "       [ 1891,  3530]], dtype=int64)"
      ]
     },
     "execution_count": 29,
     "metadata": {},
     "output_type": "execute_result"
    }
   ],
   "source": [
    "from sklearn.metrics import confusion_matrix\n",
    "\n",
    "cm = confusion_matrix(y_train_5, y_train_pred)\n",
    "cm"
   ]
  },
  {
   "cell_type": "code",
   "execution_count": 30,
   "id": "851ebd98-a8e8-47d9-ac51-ca697229176e",
   "metadata": {},
   "outputs": [
    {
     "data": {
      "text/plain": [
       "array([[54579,     0],\n",
       "       [    0,  5421]], dtype=int64)"
      ]
     },
     "execution_count": 30,
     "metadata": {},
     "output_type": "execute_result"
    }
   ],
   "source": [
    "y_train_perfect_predictions = y_train_5  # 완벽한 분류기일 경우\n",
    "confusion_matrix(y_train_5, y_train_perfect_predictions)"
   ]
  },
  {
   "cell_type": "markdown",
   "id": "6f61035b-6793-46f9-b753-2400d46b004c",
   "metadata": {},
   "source": [
    "## 정밀도와 재현율"
   ]
  },
  {
   "cell_type": "code",
   "execution_count": 31,
   "id": "ecfee1e5-f278-45d7-9476-c8c7f0255a4e",
   "metadata": {},
   "outputs": [
    {
     "data": {
      "text/plain": [
       "0.8370879772350012"
      ]
     },
     "execution_count": 31,
     "metadata": {},
     "output_type": "execute_result"
    }
   ],
   "source": [
    "from sklearn.metrics import precision_score, recall_score\n",
    "\n",
    "precision_score(y_train_5, y_train_pred)  # == 3530 / (687 + 3530)"
   ]
  },
  {
   "cell_type": "code",
   "execution_count": 32,
   "id": "9377f586-26c3-4c09-89dc-8117fc79516f",
   "metadata": {},
   "outputs": [
    {
     "data": {
      "text/plain": [
       "0.8370879772350012"
      ]
     },
     "execution_count": 32,
     "metadata": {},
     "output_type": "execute_result"
    }
   ],
   "source": [
    "# 추가 코드 – TP / (FP + TP) 식으로 정밀도를 계산합니다\n",
    "cm[1, 1] / (cm[0, 1] + cm[1, 1])"
   ]
  },
  {
   "cell_type": "code",
   "execution_count": 33,
   "id": "b61c82e4-e02a-419d-9548-a73214946d1a",
   "metadata": {},
   "outputs": [
    {
     "data": {
      "text/plain": [
       "0.6511713705958311"
      ]
     },
     "execution_count": 33,
     "metadata": {},
     "output_type": "execute_result"
    }
   ],
   "source": [
    "recall_score(y_train_5, y_train_pred)  # == 3530 / (1891 + 3530)"
   ]
  },
  {
   "cell_type": "code",
   "execution_count": 34,
   "id": "0838ce00-2992-4dea-8eb1-43bf933f6384",
   "metadata": {},
   "outputs": [
    {
     "data": {
      "text/plain": [
       "0.6511713705958311"
      ]
     },
     "execution_count": 34,
     "metadata": {},
     "output_type": "execute_result"
    }
   ],
   "source": [
    "# 추가 코드 – TP / (FN + TP) 식으로 정밀도를 계산합니다\n",
    "cm[1, 1] / (cm[1, 0] + cm[1, 1])"
   ]
  },
  {
   "cell_type": "code",
   "execution_count": 35,
   "id": "a7b7435d-e966-47c8-b427-cef28a4ce791",
   "metadata": {},
   "outputs": [
    {
     "data": {
      "text/plain": [
       "0.7325171197343846"
      ]
     },
     "execution_count": 35,
     "metadata": {},
     "output_type": "execute_result"
    }
   ],
   "source": [
    "from sklearn.metrics import f1_score\n",
    "\n",
    "f1_score(y_train_5, y_train_pred)"
   ]
  },
  {
   "cell_type": "code",
   "execution_count": 36,
   "id": "e4012c46-13f4-4dff-a024-ce93924bdd21",
   "metadata": {},
   "outputs": [
    {
     "data": {
      "text/plain": [
       "0.7325171197343847"
      ]
     },
     "execution_count": 36,
     "metadata": {},
     "output_type": "execute_result"
    }
   ],
   "source": [
    "# 추가 코드 – f1 점수를 계산합니다\n",
    "cm[1, 1] / (cm[1, 1] + (cm[1, 0] + cm[0, 1]) / 2)"
   ]
  },
  {
   "cell_type": "markdown",
   "id": "5494b1ec-5c7e-4f1a-9391-e6f170c05342",
   "metadata": {},
   "source": [
    "# 정밀도/재현율 트레이드오프"
   ]
  },
  {
   "cell_type": "code",
   "execution_count": 37,
   "id": "c591de9d-2949-4181-bf48-36f379e6cd8e",
   "metadata": {},
   "outputs": [
    {
     "data": {
      "text/plain": [
       "array([2164.22030239])"
      ]
     },
     "execution_count": 37,
     "metadata": {},
     "output_type": "execute_result"
    }
   ],
   "source": [
    "y_scores = sgd_clf.decision_function([some_digit])\n",
    "y_scores"
   ]
  },
  {
   "cell_type": "code",
   "execution_count": 38,
   "id": "bc0401ac-69f4-4b82-9b24-bbd5fb48a416",
   "metadata": {},
   "outputs": [],
   "source": [
    "threshold = 0\n",
    "y_some_digit_pred = (y_scores > threshold)"
   ]
  },
  {
   "cell_type": "code",
   "execution_count": 39,
   "id": "030cba95-1c1d-4cce-83af-c41627d933aa",
   "metadata": {},
   "outputs": [
    {
     "data": {
      "text/plain": [
       "array([ True])"
      ]
     },
     "execution_count": 39,
     "metadata": {},
     "output_type": "execute_result"
    }
   ],
   "source": [
    "y_some_digit_pred"
   ]
  },
  {
   "cell_type": "code",
   "execution_count": 40,
   "id": "ecf16199-83da-4444-8d0f-b7c24636a7d2",
   "metadata": {},
   "outputs": [
    {
     "data": {
      "text/plain": [
       "array([ True])"
      ]
     },
     "execution_count": 40,
     "metadata": {},
     "output_type": "execute_result"
    }
   ],
   "source": [
    "# 추가 코드 – y_scores > 0이면 predict()를 호출하는 것과 같은 결과를 냅니다\n",
    "y_scores > 0"
   ]
  },
  {
   "cell_type": "code",
   "execution_count": 41,
   "id": "9d9607d6-0cfe-48c5-91a6-d9e253b10bc0",
   "metadata": {},
   "outputs": [
    {
     "data": {
      "text/plain": [
       "array([False])"
      ]
     },
     "execution_count": 41,
     "metadata": {},
     "output_type": "execute_result"
    }
   ],
   "source": [
    "threshold = 3000\n",
    "y_some_digit_pred = (y_scores > threshold)\n",
    "y_some_digit_pred"
   ]
  },
  {
   "cell_type": "code",
   "execution_count": 42,
   "id": "026099e0-2a90-4c4c-8c16-76a28432bba1",
   "metadata": {},
   "outputs": [],
   "source": [
    "y_scores = cross_val_predict(sgd_clf, X_train, y_train_5, cv=3,\n",
    "                             method=\"decision_function\")"
   ]
  },
  {
   "cell_type": "code",
   "execution_count": 43,
   "id": "b26146fb-f936-4d7a-bdd7-15728be75f99",
   "metadata": {},
   "outputs": [],
   "source": [
    "from sklearn.metrics import precision_recall_curve\n",
    "\n",
    "precisions, recalls, thresholds = precision_recall_curve(y_train_5, y_scores)"
   ]
  },
  {
   "cell_type": "code",
   "execution_count": 44,
   "id": "919ac29d-aa81-4638-93a3-9f00089dc06c",
   "metadata": {},
   "outputs": [
    {
     "data": {
      "text/plain": [
       "(array([-146348.56726174, -142300.00705404, -137588.97581744, ...,\n",
       "          38871.26391927,   42216.05562787,   49441.43765905]),\n",
       " array([0.09035   , 0.09035151, 0.09035301, ..., 1.        , 1.        ,\n",
       "        1.        ]),\n",
       " array([-146348.56726174, -142300.00705404, -137588.97581744, ...,\n",
       "          38871.26391927,   42216.05562787,   49441.43765905]))"
      ]
     },
     "execution_count": 44,
     "metadata": {},
     "output_type": "execute_result"
    }
   ],
   "source": [
    "thresholds, precisions,thresholds"
   ]
  },
  {
   "cell_type": "code",
   "execution_count": 45,
   "id": "4d952fdb-3ba0-4d3d-a028-5cc24f9218ec",
   "metadata": {},
   "outputs": [
    {
     "data": {
      "image/png": "[encoded data removed]",
      "text/plain": [
       "<Figure size 800x400 with 1 Axes>"
      ]
     },
     "metadata": {},
     "output_type": "display_data"
    }
   ],
   "source": [
    "plt.figure(figsize=(8, 4))  # 추가 코드\n",
    "plt.plot(thresholds, precisions[:-1], \"b--\", label=\"Precision\", linewidth=2)\n",
    "plt.plot(thresholds, recalls[:-1], \"g-\", label=\"Recall\", linewidth=2)\n",
    "plt.vlines(threshold, 0, 1.0, \"k\", \"dotted\", label=\"threshold\")\n",
    "\n",
    "# 추가 코드 – 그림 3–5를 그리고 저장합니다\n",
    "idx = (thresholds >= threshold).argmax()  # 첫 번째 index ≥ threshold\n",
    "plt.plot(thresholds[idx], precisions[idx], \"bo\")\n",
    "plt.plot(thresholds[idx], recalls[idx], \"go\")\n",
    "plt.axis([-50000, 50000, 0, 1])\n",
    "plt.grid()\n",
    "plt.xlabel(\"Threshold\")\n",
    "plt.legend(loc=\"center right\")\n",
    "save_fig(\"precision_recall_vs_threshold_plot\")\n",
    "\n",
    "plt.show()"
   ]
  },
  {
   "cell_type": "code",
   "execution_count": 46,
   "id": "1c9f77f8-2713-48cc-bf7f-59716a728973",
   "metadata": {},
   "outputs": [
    {
     "data": {
      "image/png": "[encoded data removed]",
      "text/plain": [
       "<Figure size 600x500 with 1 Axes>"
      ]
     },
     "metadata": {},
     "output_type": "display_data"
    }
   ],
   "source": [
    "import matplotlib.patches as patches  # 추가 코드 – 구부러진 화살표를 그리기 위해서\n",
    "\n",
    "plt.figure(figsize=(6, 5))  # 추가 코드\n",
    "\n",
    "plt.plot(recalls, precisions, linewidth=2, label=\"Precision/Recall curve\")\n",
    "\n",
    "# extra code – just beautifies and saves Figure 3–6\n",
    "plt.plot([recalls[idx], recalls[idx]], [0., precisions[idx]], \"k:\")\n",
    "plt.plot([0.0, recalls[idx]], [precisions[idx], precisions[idx]], \"k:\")\n",
    "plt.plot([recalls[idx]], [precisions[idx]], \"ko\",\n",
    "         label=\"Point at threshold 3,000\")\n",
    "plt.gca().add_patch(patches.FancyArrowPatch(\n",
    "    (0.79, 0.60), (0.61, 0.78),\n",
    "    connectionstyle=\"arc3,rad=.2\",\n",
    "    arrowstyle=\"Simple, tail_width=1.5, head_width=8, head_length=10\",\n",
    "    color=\"#444444\"))\n",
    "plt.text(0.56, 0.62, \"Higher\\nthreshold\", color=\"#333333\")\n",
    "plt.xlabel(\"Recall\")\n",
    "plt.ylabel(\"Precision\")\n",
    "plt.axis([0, 1, 0, 1])\n",
    "plt.grid()\n",
    "plt.legend(loc=\"lower left\")\n",
    "save_fig(\"precision_vs_recall_plot\")\n",
    "\n",
    "plt.show()"
   ]
  },
  {
   "cell_type": "code",
   "execution_count": 47,
   "id": "f179fc95-d4c1-4bc7-99c2-132f4ce66f81",
   "metadata": {},
   "outputs": [
    {
     "data": {
      "text/plain": [
       "3370.0194991439557"
      ]
     },
     "execution_count": 47,
     "metadata": {},
     "output_type": "execute_result"
    }
   ],
   "source": [
    "idx_for_90_precision = (precisions >= 0.90).argmax()\n",
    "threshold_for_90_precision = thresholds[idx_for_90_precision]\n",
    "threshold_for_90_precision"
   ]
  },
  {
   "cell_type": "code",
   "execution_count": 48,
   "id": "a9480945-ddb4-4160-b6de-1828a51fcb61",
   "metadata": {},
   "outputs": [],
   "source": [
    "y_train_pred_90 = (y_scores >= threshold_for_90_precision)"
   ]
  },
  {
   "cell_type": "code",
   "execution_count": 49,
   "id": "8100b638-0756-4810-895c-83862d9a2294",
   "metadata": {},
   "outputs": [
    {
     "data": {
      "text/plain": [
       "array([False, False, False, ...,  True, False, False])"
      ]
     },
     "execution_count": 49,
     "metadata": {},
     "output_type": "execute_result"
    }
   ],
   "source": [
    "y_train_pred_90"
   ]
  },
  {
   "cell_type": "code",
   "execution_count": 50,
   "id": "7fbb8388-7259-4c9e-9e64-9a21bf0a82ca",
   "metadata": {},
   "outputs": [
    {
     "data": {
      "text/plain": [
       "0.9000345901072293"
      ]
     },
     "execution_count": 50,
     "metadata": {},
     "output_type": "execute_result"
    }
   ],
   "source": [
    "precision_score(y_train_5, y_train_pred_90)"
   ]
  },
  {
   "cell_type": "code",
   "execution_count": 51,
   "id": "795ed909-d42e-46da-8d5d-66a35e910170",
   "metadata": {},
   "outputs": [
    {
     "data": {
      "text/plain": [
       "0.4799852425751706"
      ]
     },
     "execution_count": 51,
     "metadata": {},
     "output_type": "execute_result"
    }
   ],
   "source": [
    "recall_at_90_precision = recall_score(y_train_5, y_train_pred_90)\n",
    "recall_at_90_precision"
   ]
  },
  {
   "cell_type": "markdown",
   "id": "f539d2ae-3256-4ff2-be88-e02f2b04ef7e",
   "metadata": {},
   "source": [
    "## ROC 곡선\n",
    "\n"
   ]
  },
  {
   "cell_type": "code",
   "execution_count": 52,
   "id": "3156913b-7ed8-4ca6-aa39-d8d29919cc71",
   "metadata": {},
   "outputs": [],
   "source": [
    "from sklearn.metrics import roc_curve\n",
    "\n",
    "fpr, tpr, thresholds = roc_curve(y_train_5, y_scores)"
   ]
  },
  {
   "cell_type": "code",
   "execution_count": 53,
   "id": "2c89278d-8a73-46eb-821a-c2d322ec5c26",
   "metadata": {},
   "outputs": [
    {
     "data": {
      "image/png": "[encoded data removed]",
      "text/plain": [
       "<Figure size 600x500 with 1 Axes>"
      ]
     },
     "metadata": {},
     "output_type": "display_data"
    }
   ],
   "source": [
    "idx_for_threshold_at_90 = (thresholds <= threshold_for_90_precision).argmax()\n",
    "tpr_90, fpr_90 = tpr[idx_for_threshold_at_90], fpr[idx_for_threshold_at_90]\n",
    "\n",
    "plt.figure(figsize=(6, 5))  # 추가 코드\n",
    "plt.plot(fpr, tpr, linewidth=2, label=\"ROC curve\")\n",
    "plt.plot([0, 1], [0, 1], 'k:', label=\"Random classifier's ROC curve\")\n",
    "plt.plot([fpr_90], [tpr_90], \"ko\", label=\"Threshold for 90% precision\")\n",
    "\n",
    "# 추가 코드 – 그림 3–7을 그리고 저장합니다\n",
    "plt.gca().add_patch(patches.FancyArrowPatch(\n",
    "    (0.20, 0.89), (0.07, 0.70),\n",
    "    connectionstyle=\"arc3,rad=.4\",\n",
    "    arrowstyle=\"Simple, tail_width=1.5, head_width=8, head_length=10\",\n",
    "    color=\"#444444\"))\n",
    "plt.text(0.12, 0.71, \"Higher\\nthreshold\", color=\"#333333\")\n",
    "plt.xlabel('False Positive Rate (Fall-Out)')\n",
    "plt.ylabel('True Positive Rate (Recall)')\n",
    "plt.grid()\n",
    "plt.axis([0, 1, 0, 1])\n",
    "plt.legend(loc=\"lower right\", fontsize=13)\n",
    "save_fig(\"roc_curve_plot\")\n",
    "\n",
    "plt.show()"
   ]
  },
  {
   "cell_type": "code",
   "execution_count": 54,
   "id": "ef05764b-8dcb-4e50-ad4d-9cbea41f11ea",
   "metadata": {},
   "outputs": [
    {
     "data": {
      "text/plain": [
       "0.9604938554008616"
      ]
     },
     "execution_count": 54,
     "metadata": {},
     "output_type": "execute_result"
    }
   ],
   "source": [
    "from sklearn.metrics import roc_auc_score\n",
    "\n",
    "roc_auc_score(y_train_5, y_scores)"
   ]
  },
  {
   "cell_type": "code",
   "execution_count": 55,
   "id": "462e9f46-9b19-46a8-ab99-558b2e496162",
   "metadata": {},
   "outputs": [],
   "source": [
    "from sklearn.ensemble import RandomForestClassifier\n",
    "\n",
    "forest_clf = RandomForestClassifier(random_state=42)"
   ]
  },
  {
   "cell_type": "code",
   "execution_count": 56,
   "id": "5bdd6bd1-310c-4260-9363-a45c7a022ccd",
   "metadata": {},
   "outputs": [],
   "source": [
    "y_probas_forest = cross_val_predict(forest_clf, X_train, y_train_5, cv=3,\n",
    "                                    method=\"predict_proba\")"
   ]
  },
  {
   "cell_type": "code",
   "execution_count": 57,
   "id": "f4cd9d47-7fea-4838-a684-36dcb9c74afc",
   "metadata": {},
   "outputs": [
    {
     "name": "stdout",
     "output_type": "stream",
     "text": [
      "총 샘플 개수: 60000\n",
      "총 샘플 열수: 2\n"
     ]
    },
    {
     "data": {
      "text/plain": [
       "array([[0.11, 0.89],\n",
       "       [0.99, 0.01],\n",
       "       [0.96, 0.04],\n",
       "       ...,\n",
       "       [0.02, 0.98],\n",
       "       [0.92, 0.08],\n",
       "       [0.94, 0.06]])"
      ]
     },
     "execution_count": 57,
     "metadata": {},
     "output_type": "execute_result"
    }
   ],
   "source": [
    "num_samples = y_probas_forest.shape[0]\n",
    "print(f\"총 샘플 개수: {num_samples}\")\n",
    "\n",
    "num_samples = y_probas_forest.shape[1]\n",
    "print(f\"총 샘플 열수: {num_samples}\")\n",
    "\n",
    "y_probas_forest"
   ]
  },
  {
   "cell_type": "code",
   "execution_count": 58,
   "id": "55f0a45c-c66e-41e1-a67d-0d2b33d6c6e3",
   "metadata": {},
   "outputs": [
    {
     "name": "stdout",
     "output_type": "stream",
     "text": [
      "94.0%\n"
     ]
    }
   ],
   "source": [
    "# 책에는 없음\n",
    "idx_50_to_60 = (y_probas_forest[:, 1] > 0.50) & (y_probas_forest[:, 1] < 0.60)\n",
    "idx_50_to_60\n",
    "print(f\"{(y_train_5[idx_50_to_60]).sum() / idx_50_to_60.sum():.1%}\")"
   ]
  },
  {
   "cell_type": "code",
   "execution_count": 59,
   "id": "41a6cc60-8b3b-4911-a503-cbd7e38028b3",
   "metadata": {},
   "outputs": [],
   "source": [
    "y_scores_forest = y_probas_forest[:, 1]\n",
    "precisions_forest, recalls_forest, thresholds_forest = precision_recall_curve(\n",
    "    y_train_5, y_scores_forest)"
   ]
  },
  {
   "cell_type": "code",
   "execution_count": 60,
   "id": "f9ac7668-1d89-48ba-942c-ac00e312f442",
   "metadata": {},
   "outputs": [
    {
     "data": {
      "text/plain": [
       "array([0.89, 0.01, 0.04, ..., 0.98, 0.08, 0.06])"
      ]
     },
     "execution_count": 60,
     "metadata": {},
     "output_type": "execute_result"
    }
   ],
   "source": [
    "y_probas_forest[:, 1]"
   ]
  },
  {
   "cell_type": "code",
   "execution_count": 61,
   "id": "5518e175-0ffa-4aab-aa5b-7a026f9fe62d",
   "metadata": {},
   "outputs": [
    {
     "data": {
      "image/png": "[encoded data removed]",
      "text/plain": [
       "<Figure size 600x500 with 1 Axes>"
      ]
     },
     "metadata": {},
     "output_type": "display_data"
    }
   ],
   "source": [
    "plt.figure(figsize=(6, 5))  # 추가 코드\n",
    "\n",
    "plt.plot(recalls_forest, precisions_forest, \"b-\", linewidth=2,\n",
    "         label=\"Random Forest\")\n",
    "plt.plot(recalls, precisions, \"--\", linewidth=2, label=\"SGD\")\n",
    "\n",
    "# 추가 코드 – 그림 3–8을 그리고 저장합니다\n",
    "plt.xlabel(\"Recall\")\n",
    "plt.ylabel(\"Precision\")\n",
    "plt.axis([0, 1, 0, 1])\n",
    "plt.grid()\n",
    "plt.legend(loc=\"lower left\")\n",
    "save_fig(\"pr_curve_comparison_plot\")\n",
    "\n",
    "plt.show()"
   ]
  },
  {
   "cell_type": "code",
   "execution_count": 62,
   "id": "dd8c6704-bf14-4206-a7ed-73161ff07e79",
   "metadata": {},
   "outputs": [
    {
     "data": {
      "text/plain": [
       "0.9274509803921569"
      ]
     },
     "execution_count": 62,
     "metadata": {},
     "output_type": "execute_result"
    }
   ],
   "source": [
    "y_train_pred_forest = y_probas_forest[:, 1] >= 0.5  # 양성 확률 ≥ 50%\n",
    "f1_score(y_train_5, y_train_pred_forest)"
   ]
  },
  {
   "cell_type": "code",
   "execution_count": 63,
   "id": "99010b17-0725-4949-9cd5-06e7e8815dc2",
   "metadata": {},
   "outputs": [
    {
     "data": {
      "text/plain": [
       "0.9983436731328145"
      ]
     },
     "execution_count": 63,
     "metadata": {},
     "output_type": "execute_result"
    }
   ],
   "source": [
    "roc_auc_score(y_train_5, y_scores_forest)"
   ]
  },
  {
   "cell_type": "code",
   "execution_count": 64,
   "id": "7afb537f-e9dc-4a06-9f03-42bd2d744328",
   "metadata": {},
   "outputs": [
    {
     "data": {
      "text/plain": [
       "0.9897468089558485"
      ]
     },
     "execution_count": 64,
     "metadata": {},
     "output_type": "execute_result"
    }
   ],
   "source": [
    "precision_score(y_train_5, y_train_pred_forest)"
   ]
  },
  {
   "cell_type": "code",
   "execution_count": 65,
   "id": "29584239-2b68-4444-b20e-91c1631a3f58",
   "metadata": {},
   "outputs": [
    {
     "data": {
      "text/plain": [
       "0.8725327430363402"
      ]
     },
     "execution_count": 65,
     "metadata": {},
     "output_type": "execute_result"
    }
   ],
   "source": [
    "recall_score(y_train_5, y_train_pred_forest)"
   ]
  },
  {
   "cell_type": "markdown",
   "id": "8ea37cb0-abb9-41cf-822b-77edb5471160",
   "metadata": {},
   "source": [
    "## 다중 분류"
   ]
  },
  {
   "cell_type": "code",
   "execution_count": 66,
   "id": "401ca079-7596-4e77-b015-0667db53a6bf",
   "metadata": {},
   "outputs": [
    {
     "data": {
      "text/html": [
       "<style>#sk-container-id-2 {color: black;}#sk-container-id-2 pre{padding: 0;}#sk-container-id-2 div.sk-toggleable {background-color: white;}#sk-container-id-2 label.sk-toggleable__label {cursor: pointer;display: block;width: 100%;margin-bottom: 0;padding: 0.3em;box-sizing: border-box;text-align: center;}#sk-container-id-2 label.sk-toggleable__label-arrow:before {content: \"▸\";float: left;margin-right: 0.25em;color: #696969;}#sk-container-id-2 label.sk-toggleable__label-arrow:hover:before {color: black;}#sk-container-id-2 div.sk-estimator:hover label.sk-toggleable__label-arrow:before {color: black;}#sk-container-id-2 div.sk-toggleable__content {max-height: 0;max-width: 0;overflow: hidden;text-align: left;background-color: #f0f8ff;}#sk-container-id-2 div.sk-toggleable__content pre {margin: 0.2em;color: black;border-radius: 0.25em;background-color: #f0f8ff;}#sk-container-id-2 input.sk-toggleable__control:checked~div.sk-toggleable__content {max-height: 200px;max-width: 100%;overflow: auto;}#sk-container-id-2 input.sk-toggleable__control:checked~label.sk-toggleable__label-arrow:before {content: \"▾\";}#sk-container-id-2 div.sk-estimator input.sk-toggleable__control:checked~label.sk-toggleable__label {background-color: #d4ebff;}#sk-container-id-2 div.sk-label input.sk-toggleable__control:checked~label.sk-toggleable__label {background-color: #d4ebff;}#sk-container-id-2 input.sk-hidden--visually {border: 0;clip: rect(1px 1px 1px 1px);clip: rect(1px, 1px, 1px, 1px);height: 1px;margin: -1px;overflow: hidden;padding: 0;position: absolute;width: 1px;}#sk-container-id-2 div.sk-estimator {font-family: monospace;background-color: #f0f8ff;border: 1px dotted black;border-radius: 0.25em;box-sizing: border-box;margin-bottom: 0.5em;}#sk-container-id-2 div.sk-estimator:hover {background-color: #d4ebff;}#sk-container-id-2 div.sk-parallel-item::after {content: \"\";width: 100%;border-bottom: 1px solid gray;flex-grow: 1;}#sk-container-id-2 div.sk-label:hover label.sk-toggleable__label {background-color: #d4ebff;}#sk-container-id-2 div.sk-serial::before {content: \"\";position: absolute;border-left: 1px solid gray;box-sizing: border-box;top: 0;bottom: 0;left: 50%;z-index: 0;}#sk-container-id-2 div.sk-serial {display: flex;flex-direction: column;align-items: center;background-color: white;padding-right: 0.2em;padding-left: 0.2em;position: relative;}#sk-container-id-2 div.sk-item {position: relative;z-index: 1;}#sk-container-id-2 div.sk-parallel {display: flex;align-items: stretch;justify-content: center;background-color: white;position: relative;}#sk-container-id-2 div.sk-item::before, #sk-container-id-2 div.sk-parallel-item::before {content: \"\";position: absolute;border-left: 1px solid gray;box-sizing: border-box;top: 0;bottom: 0;left: 50%;z-index: -1;}#sk-container-id-2 div.sk-parallel-item {display: flex;flex-direction: column;z-index: 1;position: relative;background-color: white;}#sk-container-id-2 div.sk-parallel-item:first-child::after {align-self: flex-end;width: 50%;}#sk-container-id-2 div.sk-parallel-item:last-child::after {align-self: flex-start;width: 50%;}#sk-container-id-2 div.sk-parallel-item:only-child::after {width: 0;}#sk-container-id-2 div.sk-dashed-wrapped {border: 1px dashed gray;margin: 0 0.4em 0.5em 0.4em;box-sizing: border-box;padding-bottom: 0.4em;background-color: white;}#sk-container-id-2 div.sk-label label {font-family: monospace;font-weight: bold;display: inline-block;line-height: 1.2em;}#sk-container-id-2 div.sk-label-container {text-align: center;}#sk-container-id-2 div.sk-container {/* jupyter's `normalize.less` sets `[hidden] { display: none; }` but bootstrap.min.css set `[hidden] { display: none !important; }` so we also need the `!important` here to be able to override the default hidden behavior on the sphinx rendered scikit-learn.org. See: https://github.com/scikit-learn/scikit-learn/issues/21755 */display: inline-block !important;position: relative;}#sk-container-id-2 div.sk-text-repr-fallback {display: none;}</style><div id=\"sk-container-id-2\" class=\"sk-top-container\"><div class=\"sk-text-repr-fallback\"><pre>SVC(random_state=42)</pre><b>In a Jupyter environment, please rerun this cell to show the HTML representation or trust the notebook. <br />On GitHub, the HTML representation is unable to render, please try loading this page with nbviewer.org.</b></div><div class=\"sk-container\" hidden><div class=\"sk-item\"><div class=\"sk-estimator sk-toggleable\"><input class=\"sk-toggleable__control sk-hidden--visually\" id=\"sk-estimator-id-2\" type=\"checkbox\" checked><label for=\"sk-estimator-id-2\" class=\"sk-toggleable__label sk-toggleable__label-arrow\">SVC</label><div class=\"sk-toggleable__content\"><pre>SVC(random_state=42)</pre></div></div></div></div></div>"
      ],
      "text/plain": [
       "SVC(random_state=42)"
      ]
     },
     "execution_count": 66,
     "metadata": {},
     "output_type": "execute_result"
    }
   ],
   "source": [
    "from sklearn.svm import SVC\n",
    "\n",
    "svm_clf = SVC(random_state=42)\n",
    "svm_clf.fit(X_train[:2000], y_train[:2000])  # y_train_5가 아니고 y_train을 사용합니다."
   ]
  },
  {
   "cell_type": "code",
   "execution_count": 67,
   "id": "007d6f86-5a01-4037-b796-2e10067de719",
   "metadata": {},
   "outputs": [
    {
     "data": {
      "text/plain": [
       "array(['5'], dtype=object)"
      ]
     },
     "execution_count": 67,
     "metadata": {},
     "output_type": "execute_result"
    }
   ],
   "source": [
    "svm_clf.predict([some_digit])"
   ]
  },
  {
   "cell_type": "code",
   "execution_count": 68,
   "id": "7813d024-dce1-461d-b269-ac229cd5a8f6",
   "metadata": {},
   "outputs": [
    {
     "data": {
      "text/plain": [
       "array([[ 3.79,  0.73,  6.06,  8.3 , -0.29,  9.3 ,  1.75,  2.77,  7.21,\n",
       "         4.82]])"
      ]
     },
     "execution_count": 68,
     "metadata": {},
     "output_type": "execute_result"
    }
   ],
   "source": [
    "some_digit_scores = svm_clf.decision_function([some_digit])\n",
    "some_digit_scores.round(2)"
   ]
  },
  {
   "cell_type": "code",
   "execution_count": 69,
   "id": "9704bcca-f2ed-4dc3-af2a-7c0a56062e6c",
   "metadata": {},
   "outputs": [
    {
     "data": {
      "text/plain": [
       "5"
      ]
     },
     "execution_count": 69,
     "metadata": {},
     "output_type": "execute_result"
    }
   ],
   "source": [
    "class_id = some_digit_scores.argmax()\n",
    "class_id"
   ]
  },
  {
   "cell_type": "code",
   "execution_count": 70,
   "id": "b92930d6-b3b9-48a2-a4a8-7fa8722091a3",
   "metadata": {},
   "outputs": [
    {
     "data": {
      "text/plain": [
       "array(['0', '1', '2', '3', '4', '5', '6', '7', '8', '9'], dtype=object)"
      ]
     },
     "execution_count": 70,
     "metadata": {},
     "output_type": "execute_result"
    }
   ],
   "source": [
    "svm_clf.classes_"
   ]
  },
  {
   "cell_type": "code",
   "execution_count": 71,
   "id": "abb0e539-0e76-4e4c-9bd6-90881569992d",
   "metadata": {},
   "outputs": [
    {
     "data": {
      "text/plain": [
       "'5'"
      ]
     },
     "execution_count": 71,
     "metadata": {},
     "output_type": "execute_result"
    }
   ],
   "source": [
    "svm_clf.classes_[class_id]"
   ]
  },
  {
   "cell_type": "code",
   "execution_count": 72,
   "id": "4d2d81d7-68f2-47fd-b85a-a50956ce51ef",
   "metadata": {},
   "outputs": [
    {
     "data": {
      "text/plain": [
       "array([[ 0.11, -0.21, -0.97,  0.51, -1.01,  0.19,  0.09, -0.31, -0.04,\n",
       "        -0.45, -1.28,  0.25, -1.01, -0.13, -0.32, -0.9 , -0.36, -0.93,\n",
       "         0.79, -1.  ,  0.45,  0.24, -0.24,  0.25,  1.54, -0.77,  1.11,\n",
       "         1.13,  1.04,  1.2 , -1.42, -0.53, -0.45, -0.99, -0.95,  1.21,\n",
       "         1.  ,  1.  ,  1.08, -0.02, -0.67, -0.14, -0.3 , -0.13,  0.25]])"
      ]
     },
     "execution_count": 72,
     "metadata": {},
     "output_type": "execute_result"
    }
   ],
   "source": [
    "# 추가 코드 – 45개 OvO 점수를 얻는 방법\n",
    "svm_clf.decision_function_shape = \"ovo\"\n",
    "some_digit_scores_ovo = svm_clf.decision_function([some_digit])\n",
    "some_digit_scores_ovo.round(2)"
   ]
  },
  {
   "cell_type": "code",
   "execution_count": 73,
   "id": "598703d2-8b84-4dd6-beb6-5383b7d07aaf",
   "metadata": {},
   "outputs": [
    {
     "data": {
      "text/html": [
       "<style>#sk-container-id-3 {color: black;}#sk-container-id-3 pre{padding: 0;}#sk-container-id-3 div.sk-toggleable {background-color: white;}#sk-container-id-3 label.sk-toggleable__label {cursor: pointer;display: block;width: 100%;margin-bottom: 0;padding: 0.3em;box-sizing: border-box;text-align: center;}#sk-container-id-3 label.sk-toggleable__label-arrow:before {content: \"▸\";float: left;margin-right: 0.25em;color: #696969;}#sk-container-id-3 label.sk-toggleable__label-arrow:hover:before {color: black;}#sk-container-id-3 div.sk-estimator:hover label.sk-toggleable__label-arrow:before {color: black;}#sk-container-id-3 div.sk-toggleable__content {max-height: 0;max-width: 0;overflow: hidden;text-align: left;background-color: #f0f8ff;}#sk-container-id-3 div.sk-toggleable__content pre {margin: 0.2em;color: black;border-radius: 0.25em;background-color: #f0f8ff;}#sk-container-id-3 input.sk-toggleable__control:checked~div.sk-toggleable__content {max-height: 200px;max-width: 100%;overflow: auto;}#sk-container-id-3 input.sk-toggleable__control:checked~label.sk-toggleable__label-arrow:before {content: \"▾\";}#sk-container-id-3 div.sk-estimator input.sk-toggleable__control:checked~label.sk-toggleable__label {background-color: #d4ebff;}#sk-container-id-3 div.sk-label input.sk-toggleable__control:checked~label.sk-toggleable__label {background-color: #d4ebff;}#sk-container-id-3 input.sk-hidden--visually {border: 0;clip: rect(1px 1px 1px 1px);clip: rect(1px, 1px, 1px, 1px);height: 1px;margin: -1px;overflow: hidden;padding: 0;position: absolute;width: 1px;}#sk-container-id-3 div.sk-estimator {font-family: monospace;background-color: #f0f8ff;border: 1px dotted black;border-radius: 0.25em;box-sizing: border-box;margin-bottom: 0.5em;}#sk-container-id-3 div.sk-estimator:hover {background-color: #d4ebff;}#sk-container-id-3 div.sk-parallel-item::after {content: \"\";width: 100%;border-bottom: 1px solid gray;flex-grow: 1;}#sk-container-id-3 div.sk-label:hover label.sk-toggleable__label {background-color: #d4ebff;}#sk-container-id-3 div.sk-serial::before {content: \"\";position: absolute;border-left: 1px solid gray;box-sizing: border-box;top: 0;bottom: 0;left: 50%;z-index: 0;}#sk-container-id-3 div.sk-serial {display: flex;flex-direction: column;align-items: center;background-color: white;padding-right: 0.2em;padding-left: 0.2em;position: relative;}#sk-container-id-3 div.sk-item {position: relative;z-index: 1;}#sk-container-id-3 div.sk-parallel {display: flex;align-items: stretch;justify-content: center;background-color: white;position: relative;}#sk-container-id-3 div.sk-item::before, #sk-container-id-3 div.sk-parallel-item::before {content: \"\";position: absolute;border-left: 1px solid gray;box-sizing: border-box;top: 0;bottom: 0;left: 50%;z-index: -1;}#sk-container-id-3 div.sk-parallel-item {display: flex;flex-direction: column;z-index: 1;position: relative;background-color: white;}#sk-container-id-3 div.sk-parallel-item:first-child::after {align-self: flex-end;width: 50%;}#sk-container-id-3 div.sk-parallel-item:last-child::after {align-self: flex-start;width: 50%;}#sk-container-id-3 div.sk-parallel-item:only-child::after {width: 0;}#sk-container-id-3 div.sk-dashed-wrapped {border: 1px dashed gray;margin: 0 0.4em 0.5em 0.4em;box-sizing: border-box;padding-bottom: 0.4em;background-color: white;}#sk-container-id-3 div.sk-label label {font-family: monospace;font-weight: bold;display: inline-block;line-height: 1.2em;}#sk-container-id-3 div.sk-label-container {text-align: center;}#sk-container-id-3 div.sk-container {/* jupyter's `normalize.less` sets `[hidden] { display: none; }` but bootstrap.min.css set `[hidden] { display: none !important; }` so we also need the `!important` here to be able to override the default hidden behavior on the sphinx rendered scikit-learn.org. See: https://github.com/scikit-learn/scikit-learn/issues/21755 */display: inline-block !important;position: relative;}#sk-container-id-3 div.sk-text-repr-fallback {display: none;}</style><div id=\"sk-container-id-3\" class=\"sk-top-container\"><div class=\"sk-text-repr-fallback\"><pre>OneVsRestClassifier(estimator=SVC(random_state=42))</pre><b>In a Jupyter environment, please rerun this cell to show the HTML representation or trust the notebook. <br />On GitHub, the HTML representation is unable to render, please try loading this page with nbviewer.org.</b></div><div class=\"sk-container\" hidden><div class=\"sk-item sk-dashed-wrapped\"><div class=\"sk-label-container\"><div class=\"sk-label sk-toggleable\"><input class=\"sk-toggleable__control sk-hidden--visually\" id=\"sk-estimator-id-3\" type=\"checkbox\" ><label for=\"sk-estimator-id-3\" class=\"sk-toggleable__label sk-toggleable__label-arrow\">OneVsRestClassifier</label><div class=\"sk-toggleable__content\"><pre>OneVsRestClassifier(estimator=SVC(random_state=42))</pre></div></div></div><div class=\"sk-parallel\"><div class=\"sk-parallel-item\"><div class=\"sk-item\"><div class=\"sk-label-container\"><div class=\"sk-label sk-toggleable\"><input class=\"sk-toggleable__control sk-hidden--visually\" id=\"sk-estimator-id-4\" type=\"checkbox\" ><label for=\"sk-estimator-id-4\" class=\"sk-toggleable__label sk-toggleable__label-arrow\">estimator: SVC</label><div class=\"sk-toggleable__content\"><pre>SVC(random_state=42)</pre></div></div></div><div class=\"sk-serial\"><div class=\"sk-item\"><div class=\"sk-estimator sk-toggleable\"><input class=\"sk-toggleable__control sk-hidden--visually\" id=\"sk-estimator-id-5\" type=\"checkbox\" ><label for=\"sk-estimator-id-5\" class=\"sk-toggleable__label sk-toggleable__label-arrow\">SVC</label><div class=\"sk-toggleable__content\"><pre>SVC(random_state=42)</pre></div></div></div></div></div></div></div></div></div></div>"
      ],
      "text/plain": [
       "OneVsRestClassifier(estimator=SVC(random_state=42))"
      ]
     },
     "execution_count": 73,
     "metadata": {},
     "output_type": "execute_result"
    }
   ],
   "source": [
    "from sklearn.multiclass import OneVsRestClassifier\n",
    "\n",
    "ovr_clf = OneVsRestClassifier(SVC(random_state=42))\n",
    "ovr_clf.fit(X_train[:2000], y_train[:2000])"
   ]
  },
  {
   "cell_type": "code",
   "execution_count": 74,
   "id": "894942d7-47c3-4887-88d8-d6c8f7131e84",
   "metadata": {},
   "outputs": [
    {
     "data": {
      "text/plain": [
       "array(['5'], dtype='<U1')"
      ]
     },
     "execution_count": 74,
     "metadata": {},
     "output_type": "execute_result"
    }
   ],
   "source": [
    "ovr_clf.predict([some_digit])"
   ]
  },
  {
   "cell_type": "code",
   "execution_count": 75,
   "id": "80d8c3d4-6184-46ce-8512-02fff556f762",
   "metadata": {},
   "outputs": [
    {
     "data": {
      "text/plain": [
       "10"
      ]
     },
     "execution_count": 75,
     "metadata": {},
     "output_type": "execute_result"
    }
   ],
   "source": [
    "len(ovr_clf.estimators_)"
   ]
  },
  {
   "cell_type": "code",
   "execution_count": 76,
   "id": "c357d9d4-3047-43a1-92c0-7fe76509e9f9",
   "metadata": {},
   "outputs": [
    {
     "data": {
      "text/plain": [
       "array(['3'], dtype='<U1')"
      ]
     },
     "execution_count": 76,
     "metadata": {},
     "output_type": "execute_result"
    }
   ],
   "source": [
    "sgd_clf = SGDClassifier(random_state=42)\n",
    "sgd_clf.fit(X_train, y_train)\n",
    "sgd_clf.predict([some_digit])"
   ]
  },
  {
   "cell_type": "code",
   "execution_count": 77,
   "id": "2fcf0291-f80a-4b09-b8eb-8a89b79ecceb",
   "metadata": {},
   "outputs": [
    {
     "data": {
      "text/plain": [
       "array([[-31893., -34420.,  -9531.,   1824., -22320.,  -1386., -26189.,\n",
       "        -16148.,  -4604., -12051.]])"
      ]
     },
     "execution_count": 77,
     "metadata": {},
     "output_type": "execute_result"
    }
   ],
   "source": [
    "sgd_clf.decision_function([some_digit]).round()"
   ]
  },
  {
   "cell_type": "code",
   "execution_count": 78,
   "id": "79f4f777-6898-4940-a9cc-9b2b86ee86b8",
   "metadata": {},
   "outputs": [
    {
     "data": {
      "text/plain": [
       "array([0.87365, 0.85835, 0.8689 ])"
      ]
     },
     "execution_count": 78,
     "metadata": {},
     "output_type": "execute_result"
    }
   ],
   "source": [
    "cross_val_score(sgd_clf, X_train, y_train, cv=3, scoring=\"accuracy\")"
   ]
  },
  {
   "cell_type": "code",
   "execution_count": 79,
   "id": "24bb1c0e-f5a9-486e-b4db-bf414304beb7",
   "metadata": {},
   "outputs": [
    {
     "data": {
      "text/plain": [
       "array([0.8983, 0.891 , 0.9018])"
      ]
     },
     "execution_count": 79,
     "metadata": {},
     "output_type": "execute_result"
    }
   ],
   "source": [
    "from sklearn.preprocessing import StandardScaler\n",
    "\n",
    "scaler = StandardScaler()\n",
    "X_train_scaled = scaler.fit_transform(X_train.astype(\"float64\"))\n",
    "cross_val_score(sgd_clf, X_train_scaled, y_train, cv=3, scoring=\"accuracy\")"
   ]
  },
  {
   "cell_type": "markdown",
   "id": "2a5a265e-54d8-4926-8f51-d7e6e3d0cb4a",
   "metadata": {},
   "source": [
    "## 에러분석"
   ]
  },
  {
   "cell_type": "code",
   "execution_count": null,
   "id": "b45c21f3-2d8a-469a-aa7d-de91ea5b37a9",
   "metadata": {},
   "outputs": [],
   "source": [
    "from sklearn.metrics import ConfusionMatrixDisplay\n",
    "\n",
    "y_train_pred = cross_val_predict(sgd_clf, X_train_scaled, y_train, cv=3)\n",
    "plt.rc('font', size=9)  # 추가 코드 - 폰트 크기를 줄입니다\n",
    "ConfusionMatrixDisplay.from_predictions(y_train, y_train_pred)\n",
    "plt.show()"
   ]
  },
  {
   "cell_type": "code",
   "execution_count": null,
   "id": "cb31ada1-3e68-49ba-af22-959782bbb3ee",
   "metadata": {},
   "outputs": [],
   "source": [
    "plt.rc('font', size=10)  # 추가 코드\n",
    "ConfusionMatrixDisplay.from_predictions(y_train, y_train_pred,\n",
    "                                        normalize=\"true\", values_format=\".0%\")\n",
    "plt.show()"
   ]
  },
  {
   "cell_type": "code",
   "execution_count": null,
   "id": "0ea1b528-82aa-459f-a9aa-db4dd2bc088d",
   "metadata": {},
   "outputs": [],
   "source": [
    "sample_weight = (y_train_pred != y_train)\n",
    "plt.rc('font', size=10)  # 추가 코드\n",
    "ConfusionMatrixDisplay.from_predictions(y_train, y_train_pred,\n",
    "                                        sample_weight=sample_weight,\n",
    "                                        normalize=\"true\", values_format=\".0%\")\n",
    "plt.show()"
   ]
  },
  {
   "cell_type": "code",
   "execution_count": null,
   "id": "3093afc4-2a94-4464-8856-71933c412107",
   "metadata": {},
   "outputs": [],
   "source": [
    "# 추가 코드 – 그림 3–9을 생성하고 저장합니다\n",
    "fig, axs = plt.subplots(nrows=1, ncols=2, figsize=(9, 4))\n",
    "plt.rc('font', size=9)\n",
    "ConfusionMatrixDisplay.from_predictions(y_train, y_train_pred, ax=axs[0])\n",
    "axs[0].set_title(\"Confusion matrix\")\n",
    "plt.rc('font', size=10)\n",
    "ConfusionMatrixDisplay.from_predictions(y_train, y_train_pred, ax=axs[1],\n",
    "                                        normalize=\"true\", values_format=\".0%\")\n",
    "axs[1].set_title(\"CM normalized by row\")\n",
    "save_fig(\"confusion_matrix_plot_1\")\n",
    "plt.show()"
   ]
  },
  {
   "cell_type": "code",
   "execution_count": null,
   "id": "159dab43-b428-450a-a744-289bc7ef4b06",
   "metadata": {},
   "outputs": [],
   "source": [
    "# 추가 코드 – 그림 3–10을 생성하고 저장합니다\n",
    "fig, axs = plt.subplots(nrows=1, ncols=2, figsize=(9, 4))\n",
    "plt.rc('font', size=10)\n",
    "ConfusionMatrixDisplay.from_predictions(y_train, y_train_pred, ax=axs[0],\n",
    "                                        sample_weight=sample_weight,\n",
    "                                        normalize=\"true\", values_format=\".0%\")\n",
    "axs[0].set_title(\"Errors normalized by row\")\n",
    "ConfusionMatrixDisplay.from_predictions(y_train, y_train_pred, ax=axs[1],\n",
    "                                        sample_weight=sample_weight,\n",
    "                                        normalize=\"pred\", values_format=\".0%\")\n",
    "axs[1].set_title(\"Errors normalized by column\")\n",
    "save_fig(\"confusion_matrix_plot_2\")\n",
    "plt.show()\n",
    "plt.rc('font', size=14)  # 폰트 크기를 다시 키웁니다"
   ]
  },
  {
   "cell_type": "code",
   "execution_count": null,
   "id": "447b63f4-70df-4b9a-ab41-702044ba4cb2",
   "metadata": {},
   "outputs": [],
   "source": [
    "cl_a, cl_b = '3', '5'\n",
    "X_aa = X_train[(y_train == cl_a) & (y_train_pred == cl_a)]\n",
    "X_ab = X_train[(y_train == cl_a) & (y_train_pred == cl_b)]\n",
    "X_ba = X_train[(y_train == cl_b) & (y_train_pred == cl_a)]\n",
    "X_bb = X_train[(y_train == cl_b) & (y_train_pred == cl_b)]"
   ]
  },
  {
   "cell_type": "code",
   "execution_count": null,
   "id": "3b77f855-b840-4d29-a575-7bf69b3bf847",
   "metadata": {},
   "outputs": [],
   "source": [
    "# 추가 코드 – 그림 3–11을 생성하고 저장합니다\n",
    "size = 5\n",
    "pad = 0.2\n",
    "plt.figure(figsize=(size, size))\n",
    "for images, (label_col, label_row) in [(X_ba, (0, 0)), (X_bb, (1, 0)),\n",
    "                                       (X_aa, (0, 1)), (X_ab, (1, 1))]:\n",
    "    for idx, image_data in enumerate(images[:size*size]):\n",
    "        x = idx % size + label_col * (size + pad)\n",
    "        y = idx // size + label_row * (size + pad)\n",
    "        plt.imshow(image_data.reshape(28, 28), cmap=\"binary\",\n",
    "                   extent=(x, x + 1, y, y + 1))\n",
    "plt.xticks([size / 2, size + pad + size / 2], [str(cl_a), str(cl_b)])\n",
    "plt.yticks([size / 2, size + pad + size / 2], [str(cl_b), str(cl_a)])\n",
    "plt.plot([size + pad / 2, size + pad / 2], [0, 2 * size + pad], \"k:\")\n",
    "plt.plot([0, 2 * size + pad], [size + pad / 2, size + pad / 2], \"k:\")\n",
    "plt.axis([0, 2 * size + pad, 0, 2 * size + pad])\n",
    "plt.xlabel(\"Predicted label\")\n",
    "plt.ylabel(\"True label\")\n",
    "save_fig(\"error_analysis_digits_plot\")\n",
    "plt.show()"
   ]
  },
  {
   "cell_type": "code",
   "execution_count": null,
   "id": "e4dde7da-fbe5-4da9-ad85-a3511db87511",
   "metadata": {},
   "outputs": [],
   "source": [
    "import numpy as np\n",
    "from sklearn.neighbors import KNeighborsClassifier\n",
    "\n",
    "y_train_large = (y_train >= '7')\n",
    "y_train_odd = (y_train.astype('int8') % 2 == 1)\n",
    "y_multilabel = np.c_[y_train_large, y_train_odd]\n",
    "\n",
    "knn_clf = KNeighborsClassifier()\n",
    "knn_clf.fit(X_train, y_multilabel)"
   ]
  },
  {
   "cell_type": "code",
   "execution_count": null,
   "id": "106c3f21-6149-4ed0-9591-21b9214d1771",
   "metadata": {},
   "outputs": [],
   "source": [
    "knn_clf.predict([some_digit])"
   ]
  },
  {
   "cell_type": "code",
   "execution_count": null,
   "id": "2b197092-b392-4137-a954-33c63cc7c01c",
   "metadata": {},
   "outputs": [],
   "source": [
    "y_train_knn_pred = cross_val_predict(knn_clf, X_train, y_multilabel, cv=3)\n",
    "f1_score(y_multilabel, y_train_knn_pred, average=\"macro\")"
   ]
  },
  {
   "cell_type": "code",
   "execution_count": null,
   "id": "41618acf-6332-41f9-a5e6-08a19784ea7e",
   "metadata": {},
   "outputs": [],
   "source": [
    "# 추가 코드 – average=\"weighted\"로 지정했을 때 성능 향상은 무시할 수 있는 수준입니다.\n",
    "#           이 클래스는 이미 꽤 균형 잡혀 있기 때문입니다.\n",
    "f1_score(y_multilabel, y_train_knn_pred, average=\"weighted\")"
   ]
  },
  {
   "cell_type": "code",
   "execution_count": null,
   "id": "dd37dc86-aa95-4760-8e81-6fc7763aa7f1",
   "metadata": {},
   "outputs": [],
   "source": [
    "from sklearn.multioutput import ClassifierChain\n",
    "\n",
    "chain_clf = ClassifierChain(SVC(), cv=3, random_state=42)\n",
    "chain_clf.fit(X_train[:2000], y_multilabel[:2000])"
   ]
  },
  {
   "cell_type": "code",
   "execution_count": null,
   "id": "586fbb52-4c1c-4f9b-952c-ac0230f26356",
   "metadata": {},
   "outputs": [],
   "source": [
    "chain_clf.predict([some_digit])"
   ]
  },
  {
   "cell_type": "markdown",
   "id": "c1cfdcdb-b085-414c-8372-02a3bd181d40",
   "metadata": {},
   "source": [
    "## 다중 출력 분류"
   ]
  },
  {
   "cell_type": "code",
   "execution_count": null,
   "id": "eaebfb8a-8076-4b44-bafe-7c2de9d8468b",
   "metadata": {},
   "outputs": [],
   "source": [
    "np.random.seed(42)  # 동일하게 재현되게 하려고 지정합니다\n",
    "noise = np.random.randint(0, 100, (len(X_train), 784))\n",
    "X_train_mod = X_train + noise\n",
    "noise = np.random.randint(0, 100, (len(X_test), 784))\n",
    "X_test_mod = X_test + noise\n",
    "y_train_mod = X_train\n",
    "y_test_mod = X_test"
   ]
  },
  {
   "cell_type": "code",
   "execution_count": null,
   "id": "121dbe75-d10a-4760-9bba-4f4ded8cbf90",
   "metadata": {},
   "outputs": [],
   "source": [
    "# 추가 코드 – 그림 3–12을 생성하고 저장합니다\n",
    "plt.subplot(121); plot_digit(X_test_mod[0])\n",
    "plt.subplot(122); plot_digit(y_test_mod[0])\n",
    "save_fig(\"noisy_digit_example_plot\")\n",
    "plt.show()"
   ]
  },
  {
   "cell_type": "code",
   "execution_count": null,
   "id": "045480ba-2db1-4acd-b530-3033595c07e4",
   "metadata": {},
   "outputs": [],
   "source": [
    "knn_clf = KNeighborsClassifier()\n",
    "knn_clf.fit(X_train_mod, y_train_mod)\n",
    "clean_digit = knn_clf.predict([X_test_mod[0]])\n",
    "plot_digit(clean_digit)\n",
    "save_fig(\"cleaned_digit_example_plot\")  # 추가 코드 – 그림 3–13을 저장합니다\n",
    "plt.show()"
   ]
  },
  {
   "cell_type": "markdown",
   "id": "57836f7c-e199-462a-8e19-43633a1ecec0",
   "metadata": {},
   "source": [
    "## 연습문제"
   ]
  },
  {
   "cell_type": "code",
   "execution_count": null,
   "id": "a71748f4-52c4-4966-a14c-f38f24340496",
   "metadata": {},
   "outputs": [],
   "source": [
    "knn_clf = KNeighborsClassifier()\n",
    "knn_clf.fit(X_train, y_train)\n",
    "baseline_accuracy = knn_clf.score(X_test, y_test)\n",
    "baseline_accuracy\n",
    "\n"
   ]
  },
  {
   "cell_type": "code",
   "execution_count": null,
   "id": "7fb12b79-2f5f-4950-bcd5-6358a1869095",
   "metadata": {},
   "outputs": [],
   "source": []
  },
  {
   "cell_type": "code",
   "execution_count": null,
   "id": "d17225a6-f930-46b6-8e15-0a30f51f5701",
   "metadata": {},
   "outputs": [],
   "source": [
    "from sklearn.neighbors import KNeighborsClassifier\n",
    "from sklearn.model_selection import cross_val_score\n",
    "from itertools import product\n",
    "import joblib\n",
    "import os\n",
    "\n",
    "# 파라미터 후보 정의\n",
    "param_grid = {\n",
    "    'n_neighbors': [1, 2, 3, 4, 5, 6, 7],\n",
    "    'weights': ['uniform', 'distance'],\n",
    "    'p': [1, 2]\n",
    "}\n",
    "\n",
    "# 조합 만들기\n",
    "param_combinations = list(product(\n",
    "    param_grid['n_neighbors'],\n",
    "    param_grid['weights'],\n",
    "    param_grid['p']\n",
    "))\n",
    "\n",
    "results = []\n",
    "results_file = \"knn_gridsearch_results.pkl\"\n",
    "\n",
    "# 이전 결과 있으면 불러오기 (중간 이어서)\n",
    "if os.path.exists(results_file):\n",
    "    results = joblib.load(results_file)\n",
    "    done_params = [r['params'] for r in results]\n",
    "else:\n",
    "    done_params = []\n",
    "\n",
    "# 반복하면서 학습 및 저장\n",
    "for n_neighbors, weights, p in param_combinations:\n",
    "    params = {'n_neighbors': n_neighbors, 'weights': weights, 'p': p}\n",
    "    \n",
    "    # 이미 학습된 조합이면 스킵\n",
    "    if params in done_params:\n",
    "        print(\"이미 완료됨:\", params)\n",
    "        continue\n",
    "\n",
    "    # 모델 학습\n",
    "    knn = KNeighborsClassifier(n_neighbors=n_neighbors, weights=weights, p=p)\n",
    "    scores = cross_val_score(knn, X_train, y_train, cv=3, scoring='accuracy')\n",
    "    mean_score = scores.mean()\n",
    "\n",
    "    result = {\n",
    "        'params': params,\n",
    "        'score': mean_score\n",
    "    }\n",
    "    results.append(result)\n",
    "    print(\"진행:\", params, \"→ 평균 정확도:\", mean_score)\n",
    "\n",
    "    # 중간 저장\n",
    "    joblib.dump(results, results_file)\n",
    "\n",
    "# 최적 파라미터 출력\n",
    "best_result = max(results, key=lambda x: x['score'])\n",
    "print(\"최적 파라미터:\", best_result['params'])\n",
    "print(\"최고 정확도:\", best_result['score'])\n"
   ]
  },
  {
   "cell_type": "markdown",
   "id": "07380f8a-6d8f-4b0a-a2ea-45338770cc98",
   "metadata": {},
   "source": [
    "## 문제2 여기서 진행해"
   ]
  },
  {
   "cell_type": "code",
   "execution_count": 1,
   "id": "1aadc4f0-0f66-425b-9d27-6b5db9ca3934",
   "metadata": {},
   "outputs": [],
   "source": [
    "import numpy as np\n",
    "from packaging import version\n",
    "from pathlib import Path\n",
    "from zlib import crc32\n",
    "from scipy import stats\n",
    "from scipy.stats import binom\n",
    "from scipy.stats import expon\n",
    "from scipy.stats import geom\n",
    "from scipy.stats import randint\n",
    "from scipy.stats import uniform\n",
    "from scipy.stats import loguniform\n",
    "from sklearn import set_config\n",
    "from sklearn.base import BaseEstimator, TransformerMixin\n",
    "from sklearn.cluster import KMeans\n",
    "from sklearn.compose import ColumnTransformer\n",
    "from sklearn.compose import make_column_selector, make_column_transformer\n",
    "from sklearn.compose import TransformedTargetRegressor\n",
    "from sklearn.ensemble import IsolationForest\n",
    "from sklearn.ensemble import RandomForestRegressor\n",
    "from sklearn.experimental import enable_halving_search_cv\n",
    "from sklearn.impute import SimpleImputer\n",
    "from sklearn.linear_model import LinearRegression\n",
    "from sklearn.metrics import mean_squared_error\n",
    "from sklearn.metrics.pairwise import rbf_kernel\n",
    "from sklearn.model_selection import cross_val_score\n",
    "from sklearn.model_selection import GridSearchCV\n",
    "from sklearn.model_selection import HalvingRandomSearchCV\n",
    "from sklearn.model_selection import RandomizedSearchCV\n",
    "from sklearn.model_selection import StratifiedShuffleSplit\n",
    "from sklearn.model_selection import train_test_split\n",
    "from sklearn.pipeline import Pipeline\n",
    "from sklearn.pipeline import make_pipeline\n",
    "from sklearn.preprocessing import FunctionTransformer\n",
    "from sklearn.preprocessing import MinMaxScaler\n",
    "from sklearn.preprocessing import OneHotEncoder\n",
    "from sklearn.preprocessing import OrdinalEncoder\n",
    "from sklearn.preprocessing import StandardScaler\n",
    "from sklearn.svm import SVR\n",
    "from sklearn.tree import DecisionTreeRegressor\n",
    "from sklearn.utils.validation import check_array, check_is_fitted\n",
    "import pandas as pd"
   ]
  },
  {
   "cell_type": "code",
   "execution_count": 2,
   "id": "b778c10a-a69f-4bdd-9fbd-075ed2aa1cad",
   "metadata": {},
   "outputs": [],
   "source": [
    "from sklearn.datasets import fetch_openml"
   ]
  },
  {
   "cell_type": "code",
   "execution_count": 3,
   "id": "13f32402-3b43-49de-905f-0a0b40b9106e",
   "metadata": {},
   "outputs": [
    {
     "ename": "FileNotFoundError",
     "evalue": "[Errno 2] No such file or directory: 'C:/Users/CJ/사이킥런/datasets/mnist/mnist_784.arff'",
     "output_type": "error",
     "traceback": [
      "\u001b[1;31m---------------------------------------------------------------------------\u001b[0m",
      "\u001b[1;31mFileNotFoundError\u001b[0m                         Traceback (most recent call last)",
      "Cell \u001b[1;32mIn[3], line 10\u001b[0m\n\u001b[0;32m      8\u001b[0m arff_file_path \u001b[38;5;241m=\u001b[39m \u001b[38;5;124mf\u001b[39m\u001b[38;5;124m'\u001b[39m\u001b[38;5;132;01m{\u001b[39;00mconverted_path\u001b[38;5;132;01m}\u001b[39;00m\u001b[38;5;124m/mnist_784.arff\u001b[39m\u001b[38;5;124m'\u001b[39m\n\u001b[0;32m      9\u001b[0m \u001b[38;5;66;03m# ARFF 파일 로딩\u001b[39;00m\n\u001b[1;32m---> 10\u001b[0m data, meta \u001b[38;5;241m=\u001b[39m \u001b[43marff\u001b[49m\u001b[38;5;241;43m.\u001b[39;49m\u001b[43mloadarff\u001b[49m\u001b[43m(\u001b[49m\u001b[43marff_file_path\u001b[49m\u001b[43m)\u001b[49m\n\u001b[0;32m     11\u001b[0m df \u001b[38;5;241m=\u001b[39m pd\u001b[38;5;241m.\u001b[39mDataFrame(data)\n\u001b[0;32m     13\u001b[0m \u001b[38;5;66;03m# target 열 (레이블) 추출 - 마지막 열이라고 가정\u001b[39;00m\n",
      "File \u001b[1;32mC:\\ProgramData\\anaconda3\\envs\\py3_8_10\\lib\\site-packages\\scipy\\io\\arff\\_arffread.py:800\u001b[0m, in \u001b[0;36mloadarff\u001b[1;34m(f)\u001b[0m\n\u001b[0;32m    798\u001b[0m     ofile \u001b[38;5;241m=\u001b[39m f\n\u001b[0;32m    799\u001b[0m \u001b[38;5;28;01melse\u001b[39;00m:\n\u001b[1;32m--> 800\u001b[0m     ofile \u001b[38;5;241m=\u001b[39m \u001b[38;5;28;43mopen\u001b[39;49m\u001b[43m(\u001b[49m\u001b[43mf\u001b[49m\u001b[43m,\u001b[49m\u001b[43m \u001b[49m\u001b[38;5;124;43m'\u001b[39;49m\u001b[38;5;124;43mrt\u001b[39;49m\u001b[38;5;124;43m'\u001b[39;49m\u001b[43m)\u001b[49m\n\u001b[0;32m    801\u001b[0m \u001b[38;5;28;01mtry\u001b[39;00m:\n\u001b[0;32m    802\u001b[0m     \u001b[38;5;28;01mreturn\u001b[39;00m _loadarff(ofile)\n",
      "\u001b[1;31mFileNotFoundError\u001b[0m: [Errno 2] No such file or directory: 'C:/Users/CJ/사이킥런/datasets/mnist/mnist_784.arff'"
     ]
    }
   ],
   "source": [
    "from scipy.io import arff\n",
    "import pandas as pd\n",
    "\n",
    "original_path = r'C:\\Users\\CJ\\사이킥런\\datasets\\mnist'\n",
    "converted_path = original_path.replace('\\\\', '/')\n",
    "\n",
    "# Construct the full ARFF file path\n",
    "arff_file_path = f'{converted_path}/mnist_784.arff'\n",
    "# ARFF 파일 로딩\n",
    "data, meta = arff.loadarff(arff_file_path)\n",
    "df = pd.DataFrame(data)\n",
    "\n",
    "# target 열 (레이블) 추출 - 마지막 열이라고 가정\n",
    "target_col = df.columns[-1]\n",
    "\n",
    "# byte 형식을 문자열로 디코딩\n",
    "df[target_col] = df[target_col].apply(lambda x: x.decode('utf-8'))\n",
    "\n",
    "# 딕셔너리 형태로 구성 (fetch_openml 흉내)\n",
    "mnist = {\n",
    "    'data': df.drop(columns=target_col).values,      # X\n",
    "    'target': df[target_col].values,                 # y\n",
    "    'frame': df,                                     # 전체 DataFrame\n",
    "    'feature_names': df.columns[:-1].tolist(),       # 특성 이름\n",
    "    'target_names': sorted(df[target_col].unique()), # 타겟 클래스들\n",
    "    'DESCR': 'MNIST handwritten digits dataset loaded from ARFF file.',\n",
    "    'details': {'source': 'local .arff file'},\n",
    "    'url': 'https://www.openml.org/d/554'\n",
    "}\n",
    "\n",
    "# 확인\n",
    "print(mnist.keys())"
   ]
  },
  {
   "cell_type": "code",
   "execution_count": null,
   "id": "5bde802c-d522-4f8e-bd8a-cd9882c20225",
   "metadata": {},
   "outputs": [],
   "source": []
  },
  {
   "cell_type": "code",
   "execution_count": null,
   "id": "720c8b67-834a-482c-974c-d87c85c96422",
   "metadata": {},
   "outputs": [],
   "source": []
  },
  {
   "cell_type": "code",
   "execution_count": null,
   "id": "61d53e11-99ab-4bb9-ae3f-d07256b24439",
   "metadata": {},
   "outputs": [],
   "source": []
  },
  {
   "cell_type": "code",
   "execution_count": 21,
   "id": "6bf888b6-49df-400c-abc9-52fc254ad5b8",
   "metadata": {},
   "outputs": [],
   "source": [
    "from sklearn.utils import Bunch\n",
    "\n",
    "mnist = Bunch(\n",
    "    data=df.drop(columns=target_col).values,\n",
    "    target=df[target_col].values,\n",
    "    frame=df,\n",
    "    feature_names=df.columns[:-1].tolist(),\n",
    "    target_names=sorted(df[target_col].unique()),\n",
    "    DESCR='MNIST handwritten digits dataset loaded from ARFF file.',\n",
    "    details={'source': 'local .arff file'},\n",
    "    url='https://www.openml.org/d/554'\n",
    ")\n",
    "\n",
    "# 이제 아래처럼 사용 가능\n",
    "X, y = mnist.data, mnist.target"
   ]
  },
  {
   "cell_type": "code",
   "execution_count": 24,
   "id": "155b5699-2fac-4fb7-9ed1-034409854f66",
   "metadata": {},
   "outputs": [],
   "source": [
    "X_train, X_test, y_train, y_test = X[:60000], X[60000:], y[:60000], y[60000:]"
   ]
  },
  {
   "cell_type": "code",
   "execution_count": 25,
   "id": "641225b4-3535-41bd-bc75-4dfe1637d300",
   "metadata": {},
   "outputs": [
    {
     "name": "stdout",
     "output_type": "stream",
     "text": [
      "X_train 길이: 60000\n",
      "y_train 길이: 60000\n",
      "X_test 길이: 10000\n",
      "y_test 길이: 10000\n"
     ]
    }
   ],
   "source": [
    "# len() 함수를 사용하여 각 배열의 길이를 측정합니다.\n",
    "\n",
    "print(f\"X_train 길이: {len(X_train)}\")\n",
    "print(f\"y_train 길이: {len(y_train)}\")\n",
    "print(f\"X_test 길이: {len(X_test)}\")\n",
    "print(f\"y_test 길이: {len(y_test)}\")"
   ]
  },
  {
   "cell_type": "code",
   "execution_count": 26,
   "id": "34328232-910d-47cb-b9a0-cb53efe08076",
   "metadata": {},
   "outputs": [],
   "source": [
    "from pathlib import Path\n",
    "\n",
    "IMAGES_PATH = Path() / \"images\" / \"classification\"\n",
    "IMAGES_PATH.mkdir(parents=True, exist_ok=True)\n",
    "\n",
    "def save_fig(fig_id, tight_layout=True, fig_extension=\"png\", resolution=300):\n",
    "    path = IMAGES_PATH / f\"{fig_id}.{fig_extension}\"\n",
    "    if tight_layout:\n",
    "        plt.tight_layout()\n",
    "    plt.savefig(path, format=fig_extension, dpi=resolution)"
   ]
  },
  {
   "cell_type": "code",
   "execution_count": 27,
   "id": "c61d0bce-8b92-4cde-bc47-7019542e7f6d",
   "metadata": {},
   "outputs": [
    {
     "data": {
      "image/png": "[encoded data removed]",
      "text/plain": [
       "<Figure size 640x480 with 1 Axes>"
      ]
     },
     "metadata": {},
     "output_type": "display_data"
    }
   ],
   "source": [
    "import matplotlib.pyplot as plt\n",
    "\n",
    "def plot_digit(image_data):\n",
    "    image = image_data.reshape(28, 28)\n",
    "    plt.imshow(image, cmap=\"binary\")\n",
    "    plt.axis(\"off\")\n",
    "\n",
    "some_digit = X[0]\n",
    "plot_digit(some_digit)\n",
    "save_fig(\"some_digit_plot\")  # 추가 코드\n",
    "plt.show()"
   ]
  },
  {
   "cell_type": "code",
   "execution_count": 28,
   "id": "f322e177-7330-42e6-9106-e31eabb801d8",
   "metadata": {},
   "outputs": [],
   "source": [
    "import numpy as np\n",
    "import matplotlib.pyplot as plt\n",
    "from pathlib import Path\n",
    "\n",
    "# Assuming X and y are already loaded from your previous code\n",
    "# X, y = mnist.data, mnist.target\n",
    "\n",
    "IMAGES_PATH = Path() / \"images\" / \"classification\"\n",
    "IMAGES_PATH.mkdir(parents=True, exist_ok=True)\n",
    "\n",
    "def save_fig(fig_id, tight_layout=True, fig_extension=\"png\", resolution=300):\n",
    "    path = IMAGES_PATH / f\"{fig_id}.{fig_extension}\"\n",
    "    if tight_layout:\n",
    "        plt.tight_layout()\n",
    "    plt.savefig(path, format=fig_extension, dpi=resolution)\n",
    "\n",
    "def plot_digit(image_data, title=\"\"):\n",
    "    image = image_data.reshape(28, 28)\n",
    "    plt.imshow(image, cmap=\"binary\")\n",
    "    plt.axis(\"off\")\n",
    "    if title:\n",
    "        plt.title(title)\n",
    "\n",
    "some_digit = X[0] # The first digit from your loaded dataset"
   ]
  },
  {
   "cell_type": "code",
   "execution_count": 29,
   "id": "d9a6d68f-77aa-4af4-88ef-27bc3fd66abb",
   "metadata": {},
   "outputs": [
    {
     "name": "stdout",
     "output_type": "stream",
     "text": [
      "C:\\Users\\CJ\\.matplotlib\n"
     ]
    }
   ],
   "source": [
    "import matplotlib as mpl\n",
    "print(mpl.get_cachedir())"
   ]
  },
  {
   "cell_type": "code",
   "execution_count": 30,
   "id": "1d2ccf33-eb68-408f-a3be-7c8e9085c065",
   "metadata": {},
   "outputs": [],
   "source": [
    "import matplotlib.pyplot as plt\n",
    "import matplotlib.font_manager as fm # 폰트 매니저 모듈 임포트\n",
    "\n",
    "# ----------------------------------------------------\n",
    "# Matplotlib 한글 폰트 설정 시작\n",
    "# ----------------------------------------------------\n",
    "# 폰트 경로 설정 (Windows의 경우)\n",
    "# 'Malgun Gothic'이 설치되어 있는지 확인하고 사용하세요.\n",
    "# 다른 폰트를 사용하고 싶다면 폰트 파일명(예: 'NanumGothic.ttf')이나 폰트 이름으로 변경.\n",
    "font_path = 'C:/Windows/Fonts/malgun.ttf' # 맑은 고딕 폰트 경로 예시\n",
    "\n",
    "# 폰트 속성 설정\n",
    "font_name = fm.FontProperties(fname=font_path).get_name()\n",
    "plt.rcParams['font.family'] = font_name\n",
    "plt.rcParams['axes.unicode_minus'] = False # 마이너스 기호 깨짐 방지\n",
    "# ----------------------------------------------------\n",
    "# Matplotlib 한글 폰트 설정 끝\n",
    "# ----------------------------------------------------\n",
    "\n",
    "# (나머지 코드...)\n",
    "# from scipy.io import arff\n",
    "# import pandas as pd"
   ]
  },
  {
   "cell_type": "code",
   "execution_count": 31,
   "id": "8bcf1859-7e62-4d7c-8dc1-167dfd641dec",
   "metadata": {},
   "outputs": [
    {
     "name": "stdout",
     "output_type": "stream",
     "text": [
      "총 70000개의 이미지에 대해 이동을 적용합니다...\n",
      "X_shifted_up 길이: 60000\n",
      "X_shifted_down 길이: 60000\n",
      "X_shifted_left 길이: 60000\n",
      "X_shifted_right 길이: 60000\n",
      "모든 이미지의 이동이 완료되었습니다.\n",
      "위로 이동된 데이터셋 형태: (60000, 784)\n",
      "\n",
      "첫 번째 이미지와 그 이동된 버전을 시각화합니다.\n"
     ]
    },
    {
     "data": {
      "image/png": "[encoded data removed]",
      "text/plain": [
       "<Figure size 1000x1000 with 5 Axes>"
      ]
     },
     "metadata": {},
     "output_type": "display_data"
    }
   ],
   "source": [
    "from scipy.io import arff\n",
    "import pandas as pd\n",
    "import numpy as np\n",
    "import matplotlib.pyplot as plt\n",
    "from pathlib import Path\n",
    "from sklearn.utils import Bunch\n",
    "\n",
    "\n",
    "# --- 3. 이미지 이동 함수 (기존과 동일) ---\n",
    "def shift_image(image_data, direction, pixels):\n",
    "    \"\"\"\n",
    "    28x28 이미지를 지정된 방향으로 이동시킵니다.\n",
    "\n",
    "    인자:\n",
    "        image_data (np.array): 784 픽셀 값의 1D 넘파이 배열.\n",
    "        direction (str): 'up', 'down', 'left', 또는 'right'.\n",
    "        pixels (int): 이동시킬 픽셀 수.\n",
    "\n",
    "    반환:\n",
    "        np.array: 이동된 이미지를 나타내는 784 픽셀 값의 새로운 1D 넘파이 배열.\n",
    "    \"\"\"\n",
    "    image = image_data.reshape(28, 28)\n",
    "    shifted_image = np.copy(image) # 원본을 수정하지 않도록 복사본을 생성합니다.\n",
    "\n",
    "    if direction == 'up':\n",
    "        shifted_image = np.roll(shifted_image, -pixels, axis=0)\n",
    "        # np.roll은 순환 이동이므로, 비어있는 부분을 0으로 채워야 합니다.\n",
    "        # 위로 이동했으니 아래쪽 'pixels' 수만큼의 행이 비게 됩니다.\n",
    "        shifted_image[28 - pixels:] = 0\n",
    "    elif direction == 'down':\n",
    "        shifted_image = np.roll(shifted_image, pixels, axis=0)\n",
    "        # 아래로 이동했으니 위쪽 'pixels' 수만큼의 행이 비게 됩니다.\n",
    "        shifted_image[:pixels] = 0\n",
    "    elif direction == 'left':\n",
    "        shifted_image = np.roll(shifted_image, -pixels, axis=1)\n",
    "        # 왼쪽으로 이동했으니 오른쪽 'pixels' 수만큼의 열이 비게 됩니다.\n",
    "        shifted_image[:, 28 - pixels:] = 0\n",
    "    elif direction == 'right':\n",
    "        shifted_image = np.roll(shifted_image, pixels, axis=1)\n",
    "        # 오른쪽으로 이동했으니 왼쪽 'pixels' 수만큼의 열이 비게 됩니다.\n",
    "        shifted_image[:, :pixels] = 0\n",
    "    else:\n",
    "        raise ValueError(\"Direction must be 'up', 'down', 'left', or 'right'.\")\n",
    "\n",
    "    return shifted_image.flatten()\n",
    "\n",
    "# --- 4. 모든 이미지에 이동 적용 및 새로운 데이터셋 생성 ---\n",
    "\n",
    "# 이동량 정의\n",
    "shift_amount = 1 # 예를 들어 1 픽셀 이동\n",
    "\n",
    "# 이동된 이미지를 저장할 리스트들\n",
    "X_shifted_up = []\n",
    "X_shifted_down = []\n",
    "X_shifted_left = []\n",
    "X_shifted_right = []\n",
    "\n",
    "# 원본 이미지의 레이블을 저장할 리스트 (나중에 사용될 수 있음)\n",
    "y_original = y.copy()\n",
    "\n",
    "# 모든 이미지에 대해 이동을 적용\n",
    "print(f\"총 {len(X)}개의 이미지에 대해 이동을 적용합니다...\")\n",
    "for i, image_data in enumerate(X_train):\n",
    "    X_shifted_up.append(shift_image(image_data, 'up', shift_amount))\n",
    "    X_shifted_down.append(shift_image(image_data, 'down', shift_amount))\n",
    "    X_shifted_left.append(shift_image(image_data, 'left', shift_amount))\n",
    "    X_shifted_right.append(shift_image(image_data, 'right', shift_amount))\n",
    "\n",
    "# 리스트들을 NumPy 배열로 변환\n",
    "X_shifted_up = np.array(X_shifted_up)\n",
    "X_shifted_down = np.array(X_shifted_down)\n",
    "X_shifted_left = np.array(X_shifted_left)\n",
    "X_shifted_right = np.array(X_shifted_right)\n",
    "\n",
    "# len() 함수를 사용하여 각 배열의 길이를 측정합니다.\n",
    "\n",
    "print(f\"X_shifted_up 길이: {len(X_shifted_up)}\")\n",
    "print(f\"X_shifted_down 길이: {len(X_shifted_down)}\")\n",
    "print(f\"X_shifted_left 길이: {len(X_shifted_left)}\")\n",
    "print(f\"X_shifted_right 길이: {len(X_shifted_right)}\")\n",
    "\n",
    "\n",
    "print(\"모든 이미지의 이동이 완료되었습니다.\")\n",
    "print(f\"위로 이동된 데이터셋 형태: {X_shifted_up.shape}\")\n",
    "X\n",
    "# --- 5. 선택 사항: 증강된 데이터셋 합치기 ---\n",
    "# 원본 데이터와 이동된 데이터를 모두 포함하는 새로운 데이터셋을 만들 수 있습니다.\n",
    "# 예를 들어, 분류 모델 훈련을 위해 데이터를 확장하는 경우에 유용합니다.\n",
    "\n",
    "# --- 6. (선택 사항) 결과 확인을 위해 첫 번째 이미지와 이동된 버전 시각화 ---\n",
    "print(\"\\n첫 번째 이미지와 그 이동된 버전을 시각화합니다.\")\n",
    "plt.figure(figsize=(10, 10))\n",
    "\n",
    "# 원본 이미지\n",
    "plt.subplot(3, 2, 1)\n",
    "plot_digit(X[0], title=\"원본 이미지\")\n",
    "\n",
    "# 이동된 이미지들 (첫 번째 이미지에 대한 결과)\n",
    "plt.subplot(3, 2, 2)\n",
    "plot_digit(X_shifted_up[0], title=f\"위로 {shift_amount} 픽셀 이동 (첫 번째 이미지)\")\n",
    "\n",
    "plt.subplot(3, 2, 3)\n",
    "plot_digit(X_shifted_down[0], title=f\"아래로 {shift_amount} 픽셀 이동 (첫 번째 이미지)\")\n",
    "\n",
    "plt.subplot(3, 2, 4)\n",
    "plot_digit(X_shifted_left[0], title=f\"왼쪽으로 {shift_amount} 픽셀 이동 (첫 번째 이미지)\")\n",
    "\n",
    "plt.subplot(3, 2, 5)\n",
    "plot_digit(X_shifted_right[0], title=f\"오른쪽으로 {shift_amount} 픽셀 이동 (첫 번째 이미지)\")\n",
    "\n",
    "plt.tight_layout()\n",
    "save_fig(\"all_shifted_digits_example_ko\") # 저장 파일명 변경\n",
    "plt.show()"
   ]
  },
  {
   "cell_type": "code",
   "execution_count": 33,
   "id": "b1c025b0-a827-4fe3-ae66-522dea7f403b",
   "metadata": {},
   "outputs": [
    {
     "name": "stdout",
     "output_type": "stream",
     "text": [
      "\n",
      "원본 + 이동된 데이터셋 (X_augmented) 형태: (300000, 784)\n",
      "원본 + 이동된 레이블 (y_augmented) 형태: (300000,)\n"
     ]
    }
   ],
   "source": [
    "X_augmented = np.vstack([X_train, X_shifted_up, X_shifted_down, X_shifted_left, X_shifted_right])\n",
    "y_augmented = np.concatenate([y_train, y_train, y_train, y_train, y_train])\n",
    "\n",
    "print(f\"\\n원본 + 이동된 데이터셋 (X_augmented) 형태: {X_augmented.shape}\")\n",
    "print(f\"원본 + 이동된 레이블 (y_augmented) 형태: {y_augmented.shape}\")"
   ]
  },
  {
   "cell_type": "code",
   "execution_count": null,
   "id": "4accc0c4-0ebd-4acf-bd9e-046b034504fc",
   "metadata": {},
   "outputs": [],
   "source": []
  },
  {
   "cell_type": "code",
   "execution_count": null,
   "id": "7335457f-3f44-4686-9d76-aa099104e420",
   "metadata": {},
   "outputs": [],
   "source": []
  },
  {
   "cell_type": "code",
   "execution_count": 34,
   "id": "20f500bc-6c9c-4edf-9bf6-df022183116e",
   "metadata": {},
   "outputs": [
    {
     "data": {
      "text/html": [
       "<style>#sk-container-id-1 {color: black;}#sk-container-id-1 pre{padding: 0;}#sk-container-id-1 div.sk-toggleable {background-color: white;}#sk-container-id-1 label.sk-toggleable__label {cursor: pointer;display: block;width: 100%;margin-bottom: 0;padding: 0.3em;box-sizing: border-box;text-align: center;}#sk-container-id-1 label.sk-toggleable__label-arrow:before {content: \"▸\";float: left;margin-right: 0.25em;color: #696969;}#sk-container-id-1 label.sk-toggleable__label-arrow:hover:before {color: black;}#sk-container-id-1 div.sk-estimator:hover label.sk-toggleable__label-arrow:before {color: black;}#sk-container-id-1 div.sk-toggleable__content {max-height: 0;max-width: 0;overflow: hidden;text-align: left;background-color: #f0f8ff;}#sk-container-id-1 div.sk-toggleable__content pre {margin: 0.2em;color: black;border-radius: 0.25em;background-color: #f0f8ff;}#sk-container-id-1 input.sk-toggleable__control:checked~div.sk-toggleable__content {max-height: 200px;max-width: 100%;overflow: auto;}#sk-container-id-1 input.sk-toggleable__control:checked~label.sk-toggleable__label-arrow:before {content: \"▾\";}#sk-container-id-1 div.sk-estimator input.sk-toggleable__control:checked~label.sk-toggleable__label {background-color: #d4ebff;}#sk-container-id-1 div.sk-label input.sk-toggleable__control:checked~label.sk-toggleable__label {background-color: #d4ebff;}#sk-container-id-1 input.sk-hidden--visually {border: 0;clip: rect(1px 1px 1px 1px);clip: rect(1px, 1px, 1px, 1px);height: 1px;margin: -1px;overflow: hidden;padding: 0;position: absolute;width: 1px;}#sk-container-id-1 div.sk-estimator {font-family: monospace;background-color: #f0f8ff;border: 1px dotted black;border-radius: 0.25em;box-sizing: border-box;margin-bottom: 0.5em;}#sk-container-id-1 div.sk-estimator:hover {background-color: #d4ebff;}#sk-container-id-1 div.sk-parallel-item::after {content: \"\";width: 100%;border-bottom: 1px solid gray;flex-grow: 1;}#sk-container-id-1 div.sk-label:hover label.sk-toggleable__label {background-color: #d4ebff;}#sk-container-id-1 div.sk-serial::before {content: \"\";position: absolute;border-left: 1px solid gray;box-sizing: border-box;top: 0;bottom: 0;left: 50%;z-index: 0;}#sk-container-id-1 div.sk-serial {display: flex;flex-direction: column;align-items: center;background-color: white;padding-right: 0.2em;padding-left: 0.2em;position: relative;}#sk-container-id-1 div.sk-item {position: relative;z-index: 1;}#sk-container-id-1 div.sk-parallel {display: flex;align-items: stretch;justify-content: center;background-color: white;position: relative;}#sk-container-id-1 div.sk-item::before, #sk-container-id-1 div.sk-parallel-item::before {content: \"\";position: absolute;border-left: 1px solid gray;box-sizing: border-box;top: 0;bottom: 0;left: 50%;z-index: -1;}#sk-container-id-1 div.sk-parallel-item {display: flex;flex-direction: column;z-index: 1;position: relative;background-color: white;}#sk-container-id-1 div.sk-parallel-item:first-child::after {align-self: flex-end;width: 50%;}#sk-container-id-1 div.sk-parallel-item:last-child::after {align-self: flex-start;width: 50%;}#sk-container-id-1 div.sk-parallel-item:only-child::after {width: 0;}#sk-container-id-1 div.sk-dashed-wrapped {border: 1px dashed gray;margin: 0 0.4em 0.5em 0.4em;box-sizing: border-box;padding-bottom: 0.4em;background-color: white;}#sk-container-id-1 div.sk-label label {font-family: monospace;font-weight: bold;display: inline-block;line-height: 1.2em;}#sk-container-id-1 div.sk-label-container {text-align: center;}#sk-container-id-1 div.sk-container {/* jupyter's `normalize.less` sets `[hidden] { display: none; }` but bootstrap.min.css set `[hidden] { display: none !important; }` so we also need the `!important` here to be able to override the default hidden behavior on the sphinx rendered scikit-learn.org. See: https://github.com/scikit-learn/scikit-learn/issues/21755 */display: inline-block !important;position: relative;}#sk-container-id-1 div.sk-text-repr-fallback {display: none;}</style><div id=\"sk-container-id-1\" class=\"sk-top-container\"><div class=\"sk-text-repr-fallback\"><pre>KNeighborsClassifier(n_neighbors=4, weights=&#x27;distance&#x27;)</pre><b>In a Jupyter environment, please rerun this cell to show the HTML representation or trust the notebook. <br />On GitHub, the HTML representation is unable to render, please try loading this page with nbviewer.org.</b></div><div class=\"sk-container\" hidden><div class=\"sk-item\"><div class=\"sk-estimator sk-toggleable\"><input class=\"sk-toggleable__control sk-hidden--visually\" id=\"sk-estimator-id-1\" type=\"checkbox\" checked><label for=\"sk-estimator-id-1\" class=\"sk-toggleable__label sk-toggleable__label-arrow\">KNeighborsClassifier</label><div class=\"sk-toggleable__content\"><pre>KNeighborsClassifier(n_neighbors=4, weights=&#x27;distance&#x27;)</pre></div></div></div></div></div>"
      ],
      "text/plain": [
       "KNeighborsClassifier(n_neighbors=4, weights='distance')"
      ]
     },
     "execution_count": 34,
     "metadata": {},
     "output_type": "execute_result"
    }
   ],
   "source": [
    "import numpy as np\n",
    "from sklearn.neighbors import KNeighborsClassifier\n",
    "\n",
    "\n",
    "# 2. 데이터 셔플링\n",
    "shuffle_idx = np.random.permutation(len(X_augmented))\n",
    "X_train_augmented = X_augmented[shuffle_idx]\n",
    "y_train_augmented = y_augmented[shuffle_idx]\n",
    "\n",
    "# 3. KNN 분류기 정의 및 훈련\n",
    "best_params = {'n_neighbors': 4, 'weights': 'distance'}\n",
    "knn_clf = KNeighborsClassifier(**best_params)\n",
    "\n",
    "# 4. 모델 학습\n",
    "knn_clf.fit(X_train_augmented, y_train_augmented)\n",
    "\n",
    "# 학습 완료 후 모델은 knn_clf 변수에 저장됨\n"
   ]
  },
  {
   "cell_type": "code",
   "execution_count": 35,
   "id": "c5a45781-814c-4144-8d7f-c5d35cf28cc7",
   "metadata": {},
   "outputs": [
    {
     "data": {
      "text/plain": [
       "0.9763"
      ]
     },
     "execution_count": 35,
     "metadata": {},
     "output_type": "execute_result"
    }
   ],
   "source": [
    "augmented_accuracy = knn_clf.score(X_test, y_test)\n",
    "augmented_accuracy"
   ]
  },
  {
   "cell_type": "code",
   "execution_count": null,
   "id": "9ab920d1-5ed1-4c61-83e6-17252193a3b5",
   "metadata": {},
   "outputs": [],
   "source": []
  },
  {
   "cell_type": "code",
   "execution_count": null,
   "id": "e5a47a38-486a-4f26-9aa9-695677a7a3ee",
   "metadata": {},
   "outputs": [],
   "source": []
  },
  {
   "cell_type": "code",
   "execution_count": null,
   "id": "3012aa83-ab2d-4f07-be8b-625229dde91f",
   "metadata": {},
   "outputs": [],
   "source": []
  },
  {
   "cell_type": "markdown",
   "id": "e3c4f34f-bb7a-4b33-8c88-d8dac54248ee",
   "metadata": {},
   "source": [
    "## 아래건 너무 오래걸림하지마"
   ]
  },
  {
   "cell_type": "code",
   "execution_count": null,
   "id": "bc20c0df-4f80-4039-9dce-c969cf0bffd8",
   "metadata": {},
   "outputs": [],
   "source": [
    "# from sklearn.neighbors import KNeighborsClassifier\n",
    "# from sklearn.model_selection import cross_val_score\n",
    "# from itertools import product\n",
    "# import joblib\n",
    "# import os\n",
    "\n",
    "# # 파라미터 후보 정의\n",
    "# param_grid = {\n",
    "#     'n_neighbors': [1, 2, 3, 4, 5, 6, 7],\n",
    "#     'weights': ['uniform', 'distance'],\n",
    "#     'p': [1, 2]\n",
    "# }\n",
    "\n",
    "# # 조합 만들기\n",
    "# param_combinations = list(product(\n",
    "#     param_grid['n_neighbors'],\n",
    "#     param_grid['weights'],\n",
    "#     param_grid['p']\n",
    "# ))\n",
    "\n",
    "# results = []\n",
    "# results_file = \"knn_gridsearch_X_concat_results.pkl\"\n",
    "\n",
    "# # 이전 결과 있으면 불러오기 (중간 이어서)\n",
    "# if os.path.exists(results_file):\n",
    "#     results = joblib.load(results_file)\n",
    "#     done_params = [r['params'] for r in results]\n",
    "# else:\n",
    "#     done_params = []\n",
    "\n",
    "# # 반복하면서 학습 및 저장\n",
    "# for n_neighbors, weights, p in param_combinations:\n",
    "#     params = {'n_neighbors': n_neighbors, 'weights': weights, 'p': p}\n",
    "    \n",
    "#     # 이미 학습된 조합이면 스킵\n",
    "#     if params in done_params:\n",
    "#         print(\"이미 완료됨:\", params)\n",
    "#         continue\n",
    "\n",
    "#     # 모델 학습\n",
    "#     knn = KNeighborsClassifier(n_neighbors=n_neighbors, weights=weights, p=p)\n",
    "#     scores = cross_val_score(knn, X_augmented, y_augmented, cv=3, scoring='accuracy')\n",
    "#     mean_score = scores.mean()\n",
    "\n",
    "#     result = {\n",
    "#         'params': params,\n",
    "#         'score': mean_score\n",
    "#     }\n",
    "#     results.append(result)\n",
    "#     print(\"진행:\", params, \"→ 평균 정확도:\", mean_score)\n",
    "\n",
    "#     # 중간 저장\n",
    "#     joblib.dump(results, results_file)\n",
    "\n",
    "# # 최적 파라미터 출력\n",
    "# best_result = max(results, key=lambda x: x['score'])\n",
    "# print(\"최적 파라미터:\", best_result['params'])\n",
    "# print(\"최고 정확도:\", best_result['score'])\n"
   ]
  },
  {
   "cell_type": "markdown",
   "id": "d156bb53-cc10-4685-a6f1-7f306e8366f5",
   "metadata": {},
   "source": [
    "## 타이타닉 데이터셋 도전하기"
   ]
  },
  {
   "cell_type": "code",
   "execution_count": 1,
   "id": "1838b3d8-33c9-4aab-a981-08281759c758",
   "metadata": {},
   "outputs": [],
   "source": [
    "import numpy as np\n",
    "from packaging import version\n",
    "from pathlib import Path\n",
    "from zlib import crc32\n",
    "from scipy import stats\n",
    "from scipy.stats import binom\n",
    "from scipy.stats import expon\n",
    "from scipy.stats import geom\n",
    "from scipy.stats import randint\n",
    "from scipy.stats import uniform\n",
    "from scipy.stats import loguniform\n",
    "from sklearn import set_config\n",
    "from sklearn.base import BaseEstimator, TransformerMixin\n",
    "from sklearn.cluster import KMeans\n",
    "from sklearn.compose import ColumnTransformer\n",
    "from sklearn.compose import make_column_selector, make_column_transformer\n",
    "from sklearn.compose import TransformedTargetRegressor\n",
    "from sklearn.ensemble import IsolationForest\n",
    "from sklearn.ensemble import RandomForestRegressor\n",
    "from sklearn.experimental import enable_halving_search_cv\n",
    "from sklearn.impute import SimpleImputer\n",
    "from sklearn.linear_model import LinearRegression\n",
    "from sklearn.metrics import mean_squared_error\n",
    "from sklearn.metrics.pairwise import rbf_kernel\n",
    "from sklearn.model_selection import cross_val_score\n",
    "from sklearn.model_selection import GridSearchCV\n",
    "from sklearn.model_selection import HalvingRandomSearchCV\n",
    "from sklearn.model_selection import RandomizedSearchCV\n",
    "from sklearn.model_selection import StratifiedShuffleSplit\n",
    "from sklearn.model_selection import train_test_split\n",
    "from sklearn.pipeline import Pipeline\n",
    "from sklearn.pipeline import make_pipeline\n",
    "from sklearn.preprocessing import FunctionTransformer\n",
    "from sklearn.preprocessing import MinMaxScaler\n",
    "from sklearn.preprocessing import OneHotEncoder\n",
    "from sklearn.preprocessing import OrdinalEncoder\n",
    "from sklearn.preprocessing import StandardScaler\n",
    "from sklearn.svm import SVR\n",
    "from sklearn.tree import DecisionTreeRegressor\n",
    "from sklearn.utils.validation import check_array, check_is_fitted\n",
    "import pandas as pd"
   ]
  },
  {
   "cell_type": "code",
   "execution_count": 5,
   "id": "c75bca6f-99d7-4ddc-b14c-9f07d32b359e",
   "metadata": {},
   "outputs": [],
   "source": [
    "from pathlib import Path\n",
    "import pandas as pd\n",
    "import tarfile\n",
    "import urllib.request\n",
    "\n",
    "def load_titanic_data():\n",
    "    tarball_path = Path(\"datasets/titanic.tgz\")\n",
    "    # if not tarball_path.is_file():\n",
    "    #     Path(\"datasets\").mkdir(parents=True, exist_ok=True)\n",
    "    #     url = \"https://github.com/ageron/data/raw/main/titanic.tgz\"\n",
    "    #     urllib.request.urlretrieve(url, tarball_path)\n",
    "    #     with tarfile.open(tarball_path) as titanic_tarball:\n",
    "    #         titanic_tarball.extractall(path=\"datasets\")\n",
    "    return [pd.read_csv(Path(\"C:/Users/CJ/사이킥런/datasets/titanic\") / filename)\n",
    "            for filename in (\"train.csv\", \"test.csv\")]"
   ]
  },
  {
   "cell_type": "code",
   "execution_count": 32,
   "id": "4c7b2173-72a3-411a-b2bb-ad55378b73c1",
   "metadata": {},
   "outputs": [],
   "source": [
    "train_data, test_data = load_titanic_data()"
   ]
  },
  {
   "cell_type": "code",
   "execution_count": 33,
   "id": "25a108a5-c9ed-43af-bb65-b5276792bb26",
   "metadata": {},
   "outputs": [
    {
     "data": {
      "text/html": [
       "<div>\n",
       "<style scoped>\n",
       "    .dataframe tbody tr th:only-of-type {\n",
       "        vertical-align: middle;\n",
       "    }\n",
       "\n",
       "    .dataframe tbody tr th {\n",
       "        vertical-align: top;\n",
       "    }\n",
       "\n",
       "    .dataframe thead th {\n",
       "        text-align: right;\n",
       "    }\n",
       "</style>\n",
       "<table border=\"1\" class=\"dataframe\">\n",
       "  <thead>\n",
       "    <tr style=\"text-align: right;\">\n",
       "      <th></th>\n",
       "      <th>PassengerId</th>\n",
       "      <th>Survived</th>\n",
       "      <th>Pclass</th>\n",
       "      <th>Name</th>\n",
       "      <th>Sex</th>\n",
       "      <th>Age</th>\n",
       "      <th>SibSp</th>\n",
       "      <th>Parch</th>\n",
       "      <th>Ticket</th>\n",
       "      <th>Fare</th>\n",
       "      <th>Cabin</th>\n",
       "      <th>Embarked</th>\n",
       "    </tr>\n",
       "  </thead>\n",
       "  <tbody>\n",
       "    <tr>\n",
       "      <th>0</th>\n",
       "      <td>1</td>\n",
       "      <td>0</td>\n",
       "      <td>3</td>\n",
       "      <td>Braund, Mr. Owen Harris</td>\n",
       "      <td>male</td>\n",
       "      <td>22.0</td>\n",
       "      <td>1</td>\n",
       "      <td>0</td>\n",
       "      <td>A/5 21171</td>\n",
       "      <td>7.2500</td>\n",
       "      <td>NaN</td>\n",
       "      <td>S</td>\n",
       "    </tr>\n",
       "    <tr>\n",
       "      <th>1</th>\n",
       "      <td>2</td>\n",
       "      <td>1</td>\n",
       "      <td>1</td>\n",
       "      <td>Cumings, Mrs. John Bradley (Florence Briggs Th...</td>\n",
       "      <td>female</td>\n",
       "      <td>38.0</td>\n",
       "      <td>1</td>\n",
       "      <td>0</td>\n",
       "      <td>PC 17599</td>\n",
       "      <td>71.2833</td>\n",
       "      <td>C85</td>\n",
       "      <td>C</td>\n",
       "    </tr>\n",
       "    <tr>\n",
       "      <th>2</th>\n",
       "      <td>3</td>\n",
       "      <td>1</td>\n",
       "      <td>3</td>\n",
       "      <td>Heikkinen, Miss. Laina</td>\n",
       "      <td>female</td>\n",
       "      <td>26.0</td>\n",
       "      <td>0</td>\n",
       "      <td>0</td>\n",
       "      <td>STON/O2. 3101282</td>\n",
       "      <td>7.9250</td>\n",
       "      <td>NaN</td>\n",
       "      <td>S</td>\n",
       "    </tr>\n",
       "    <tr>\n",
       "      <th>3</th>\n",
       "      <td>4</td>\n",
       "      <td>1</td>\n",
       "      <td>1</td>\n",
       "      <td>Futrelle, Mrs. Jacques Heath (Lily May Peel)</td>\n",
       "      <td>female</td>\n",
       "      <td>35.0</td>\n",
       "      <td>1</td>\n",
       "      <td>0</td>\n",
       "      <td>113803</td>\n",
       "      <td>53.1000</td>\n",
       "      <td>C123</td>\n",
       "      <td>S</td>\n",
       "    </tr>\n",
       "    <tr>\n",
       "      <th>4</th>\n",
       "      <td>5</td>\n",
       "      <td>0</td>\n",
       "      <td>3</td>\n",
       "      <td>Allen, Mr. William Henry</td>\n",
       "      <td>male</td>\n",
       "      <td>35.0</td>\n",
       "      <td>0</td>\n",
       "      <td>0</td>\n",
       "      <td>373450</td>\n",
       "      <td>8.0500</td>\n",
       "      <td>NaN</td>\n",
       "      <td>S</td>\n",
       "    </tr>\n",
       "  </tbody>\n",
       "</table>\n",
       "</div>"
      ],
      "text/plain": [
       "   PassengerId  Survived  Pclass  \\\n",
       "0            1         0       3   \n",
       "1            2         1       1   \n",
       "2            3         1       3   \n",
       "3            4         1       1   \n",
       "4            5         0       3   \n",
       "\n",
       "                                                Name     Sex   Age  SibSp  \\\n",
       "0                            Braund, Mr. Owen Harris    male  22.0      1   \n",
       "1  Cumings, Mrs. John Bradley (Florence Briggs Th...  female  38.0      1   \n",
       "2                             Heikkinen, Miss. Laina  female  26.0      0   \n",
       "3       Futrelle, Mrs. Jacques Heath (Lily May Peel)  female  35.0      1   \n",
       "4                           Allen, Mr. William Henry    male  35.0      0   \n",
       "\n",
       "   Parch            Ticket     Fare Cabin Embarked  \n",
       "0      0         A/5 21171   7.2500   NaN        S  \n",
       "1      0          PC 17599  71.2833   C85        C  \n",
       "2      0  STON/O2. 3101282   7.9250   NaN        S  \n",
       "3      0            113803  53.1000  C123        S  \n",
       "4      0            373450   8.0500   NaN        S  "
      ]
     },
     "execution_count": 33,
     "metadata": {},
     "output_type": "execute_result"
    }
   ],
   "source": [
    "train_data.head()"
   ]
  },
  {
   "cell_type": "code",
   "execution_count": 34,
   "id": "1eaaf50f-fd36-4d25-a4ea-651365549efe",
   "metadata": {},
   "outputs": [
    {
     "data": {
      "text/html": [
       "<div>\n",
       "<style scoped>\n",
       "    .dataframe tbody tr th:only-of-type {\n",
       "        vertical-align: middle;\n",
       "    }\n",
       "\n",
       "    .dataframe tbody tr th {\n",
       "        vertical-align: top;\n",
       "    }\n",
       "\n",
       "    .dataframe thead th {\n",
       "        text-align: right;\n",
       "    }\n",
       "</style>\n",
       "<table border=\"1\" class=\"dataframe\">\n",
       "  <thead>\n",
       "    <tr style=\"text-align: right;\">\n",
       "      <th></th>\n",
       "      <th>PassengerId</th>\n",
       "      <th>Pclass</th>\n",
       "      <th>Name</th>\n",
       "      <th>Sex</th>\n",
       "      <th>Age</th>\n",
       "      <th>SibSp</th>\n",
       "      <th>Parch</th>\n",
       "      <th>Ticket</th>\n",
       "      <th>Fare</th>\n",
       "      <th>Cabin</th>\n",
       "      <th>Embarked</th>\n",
       "    </tr>\n",
       "  </thead>\n",
       "  <tbody>\n",
       "    <tr>\n",
       "      <th>0</th>\n",
       "      <td>892</td>\n",
       "      <td>3</td>\n",
       "      <td>Kelly, Mr. James</td>\n",
       "      <td>male</td>\n",
       "      <td>34.5</td>\n",
       "      <td>0</td>\n",
       "      <td>0</td>\n",
       "      <td>330911</td>\n",
       "      <td>7.8292</td>\n",
       "      <td>NaN</td>\n",
       "      <td>Q</td>\n",
       "    </tr>\n",
       "    <tr>\n",
       "      <th>1</th>\n",
       "      <td>893</td>\n",
       "      <td>3</td>\n",
       "      <td>Wilkes, Mrs. James (Ellen Needs)</td>\n",
       "      <td>female</td>\n",
       "      <td>47.0</td>\n",
       "      <td>1</td>\n",
       "      <td>0</td>\n",
       "      <td>363272</td>\n",
       "      <td>7.0000</td>\n",
       "      <td>NaN</td>\n",
       "      <td>S</td>\n",
       "    </tr>\n",
       "    <tr>\n",
       "      <th>2</th>\n",
       "      <td>894</td>\n",
       "      <td>2</td>\n",
       "      <td>Myles, Mr. Thomas Francis</td>\n",
       "      <td>male</td>\n",
       "      <td>62.0</td>\n",
       "      <td>0</td>\n",
       "      <td>0</td>\n",
       "      <td>240276</td>\n",
       "      <td>9.6875</td>\n",
       "      <td>NaN</td>\n",
       "      <td>Q</td>\n",
       "    </tr>\n",
       "    <tr>\n",
       "      <th>3</th>\n",
       "      <td>895</td>\n",
       "      <td>3</td>\n",
       "      <td>Wirz, Mr. Albert</td>\n",
       "      <td>male</td>\n",
       "      <td>27.0</td>\n",
       "      <td>0</td>\n",
       "      <td>0</td>\n",
       "      <td>315154</td>\n",
       "      <td>8.6625</td>\n",
       "      <td>NaN</td>\n",
       "      <td>S</td>\n",
       "    </tr>\n",
       "    <tr>\n",
       "      <th>4</th>\n",
       "      <td>896</td>\n",
       "      <td>3</td>\n",
       "      <td>Hirvonen, Mrs. Alexander (Helga E Lindqvist)</td>\n",
       "      <td>female</td>\n",
       "      <td>22.0</td>\n",
       "      <td>1</td>\n",
       "      <td>1</td>\n",
       "      <td>3101298</td>\n",
       "      <td>12.2875</td>\n",
       "      <td>NaN</td>\n",
       "      <td>S</td>\n",
       "    </tr>\n",
       "  </tbody>\n",
       "</table>\n",
       "</div>"
      ],
      "text/plain": [
       "   PassengerId  Pclass                                          Name     Sex  \\\n",
       "0          892       3                              Kelly, Mr. James    male   \n",
       "1          893       3              Wilkes, Mrs. James (Ellen Needs)  female   \n",
       "2          894       2                     Myles, Mr. Thomas Francis    male   \n",
       "3          895       3                              Wirz, Mr. Albert    male   \n",
       "4          896       3  Hirvonen, Mrs. Alexander (Helga E Lindqvist)  female   \n",
       "\n",
       "    Age  SibSp  Parch   Ticket     Fare Cabin Embarked  \n",
       "0  34.5      0      0   330911   7.8292   NaN        Q  \n",
       "1  47.0      1      0   363272   7.0000   NaN        S  \n",
       "2  62.0      0      0   240276   9.6875   NaN        Q  \n",
       "3  27.0      0      0   315154   8.6625   NaN        S  \n",
       "4  22.0      1      1  3101298  12.2875   NaN        S  "
      ]
     },
     "execution_count": 34,
     "metadata": {},
     "output_type": "execute_result"
    }
   ],
   "source": [
    "test_data.head()"
   ]
  },
  {
   "cell_type": "code",
   "execution_count": 39,
   "id": "d0beeea6-82c9-41cd-a69e-41b16cc5260d",
   "metadata": {},
   "outputs": [],
   "source": [
    "# train_data['Sex'] = train_data['Sex'].map({'male': 0, 'female': 1})\n",
    "# train_data['Age'].fillna(train_data['Age'].median(), inplace=True)\n",
    "# train_data['Embarked'].fillna('S', inplace=True)\n",
    "# train_data['Embarked'] = train_data['Embarked'].map({'S': 0, 'C': 1, 'Q': 2})\n",
    "\n",
    "# test_data['Sex'] = test_data['Sex'].map({'male': 0, 'female': 1})\n",
    "# test_data['Age'].fillna(test_data['Age'].median(), inplace=True)\n",
    "# test_data['Embarked'].fillna('S', inplace=True)\n",
    "# test_data['Embarked'] = test_data['Embarked'].map({'S': 0, 'C': 1, 'Q': 2})\n",
    "\n",
    "# features = ['Pclass', 'Sex', 'Age', 'SibSp', 'Parch', 'Fare', 'Embarked']\n",
    "\n",
    "\n",
    "# X_train_data = train_data[features]\n",
    "# y_train_data = train_data['Survived']\n",
    "\n",
    "# X_test_data = test_data[features]\n",
    "# # y_test_data = test_data['Survived']\n",
    "\n"
   ]
  },
  {
   "cell_type": "code",
   "execution_count": 43,
   "id": "00dff04f-39ed-4c69-a3be-29e7070c419e",
   "metadata": {},
   "outputs": [
    {
     "data": {
      "text/html": [
       "<div>\n",
       "<style scoped>\n",
       "    .dataframe tbody tr th:only-of-type {\n",
       "        vertical-align: middle;\n",
       "    }\n",
       "\n",
       "    .dataframe tbody tr th {\n",
       "        vertical-align: top;\n",
       "    }\n",
       "\n",
       "    .dataframe thead th {\n",
       "        text-align: right;\n",
       "    }\n",
       "</style>\n",
       "<table border=\"1\" class=\"dataframe\">\n",
       "  <thead>\n",
       "    <tr style=\"text-align: right;\">\n",
       "      <th></th>\n",
       "      <th>PassengerId</th>\n",
       "      <th>Survived</th>\n",
       "      <th>Pclass</th>\n",
       "      <th>Name</th>\n",
       "      <th>Sex</th>\n",
       "      <th>Age</th>\n",
       "      <th>SibSp</th>\n",
       "      <th>Parch</th>\n",
       "      <th>Ticket</th>\n",
       "      <th>Fare</th>\n",
       "      <th>Cabin</th>\n",
       "      <th>Embarked</th>\n",
       "    </tr>\n",
       "  </thead>\n",
       "  <tbody>\n",
       "    <tr>\n",
       "      <th>0</th>\n",
       "      <td>1</td>\n",
       "      <td>0</td>\n",
       "      <td>3</td>\n",
       "      <td>Braund, Mr. Owen Harris</td>\n",
       "      <td>male</td>\n",
       "      <td>22.0</td>\n",
       "      <td>1</td>\n",
       "      <td>0</td>\n",
       "      <td>A/5 21171</td>\n",
       "      <td>7.2500</td>\n",
       "      <td>NaN</td>\n",
       "      <td>S</td>\n",
       "    </tr>\n",
       "    <tr>\n",
       "      <th>1</th>\n",
       "      <td>2</td>\n",
       "      <td>1</td>\n",
       "      <td>1</td>\n",
       "      <td>Cumings, Mrs. John Bradley (Florence Briggs Th...</td>\n",
       "      <td>female</td>\n",
       "      <td>38.0</td>\n",
       "      <td>1</td>\n",
       "      <td>0</td>\n",
       "      <td>PC 17599</td>\n",
       "      <td>71.2833</td>\n",
       "      <td>C85</td>\n",
       "      <td>C</td>\n",
       "    </tr>\n",
       "    <tr>\n",
       "      <th>2</th>\n",
       "      <td>3</td>\n",
       "      <td>1</td>\n",
       "      <td>3</td>\n",
       "      <td>Heikkinen, Miss. Laina</td>\n",
       "      <td>female</td>\n",
       "      <td>26.0</td>\n",
       "      <td>0</td>\n",
       "      <td>0</td>\n",
       "      <td>STON/O2. 3101282</td>\n",
       "      <td>7.9250</td>\n",
       "      <td>NaN</td>\n",
       "      <td>S</td>\n",
       "    </tr>\n",
       "    <tr>\n",
       "      <th>3</th>\n",
       "      <td>4</td>\n",
       "      <td>1</td>\n",
       "      <td>1</td>\n",
       "      <td>Futrelle, Mrs. Jacques Heath (Lily May Peel)</td>\n",
       "      <td>female</td>\n",
       "      <td>35.0</td>\n",
       "      <td>1</td>\n",
       "      <td>0</td>\n",
       "      <td>113803</td>\n",
       "      <td>53.1000</td>\n",
       "      <td>C123</td>\n",
       "      <td>S</td>\n",
       "    </tr>\n",
       "    <tr>\n",
       "      <th>4</th>\n",
       "      <td>5</td>\n",
       "      <td>0</td>\n",
       "      <td>3</td>\n",
       "      <td>Allen, Mr. William Henry</td>\n",
       "      <td>male</td>\n",
       "      <td>35.0</td>\n",
       "      <td>0</td>\n",
       "      <td>0</td>\n",
       "      <td>373450</td>\n",
       "      <td>8.0500</td>\n",
       "      <td>NaN</td>\n",
       "      <td>S</td>\n",
       "    </tr>\n",
       "    <tr>\n",
       "      <th>...</th>\n",
       "      <td>...</td>\n",
       "      <td>...</td>\n",
       "      <td>...</td>\n",
       "      <td>...</td>\n",
       "      <td>...</td>\n",
       "      <td>...</td>\n",
       "      <td>...</td>\n",
       "      <td>...</td>\n",
       "      <td>...</td>\n",
       "      <td>...</td>\n",
       "      <td>...</td>\n",
       "      <td>...</td>\n",
       "    </tr>\n",
       "    <tr>\n",
       "      <th>886</th>\n",
       "      <td>887</td>\n",
       "      <td>0</td>\n",
       "      <td>2</td>\n",
       "      <td>Montvila, Rev. Juozas</td>\n",
       "      <td>male</td>\n",
       "      <td>27.0</td>\n",
       "      <td>0</td>\n",
       "      <td>0</td>\n",
       "      <td>211536</td>\n",
       "      <td>13.0000</td>\n",
       "      <td>NaN</td>\n",
       "      <td>S</td>\n",
       "    </tr>\n",
       "    <tr>\n",
       "      <th>887</th>\n",
       "      <td>888</td>\n",
       "      <td>1</td>\n",
       "      <td>1</td>\n",
       "      <td>Graham, Miss. Margaret Edith</td>\n",
       "      <td>female</td>\n",
       "      <td>19.0</td>\n",
       "      <td>0</td>\n",
       "      <td>0</td>\n",
       "      <td>112053</td>\n",
       "      <td>30.0000</td>\n",
       "      <td>B42</td>\n",
       "      <td>S</td>\n",
       "    </tr>\n",
       "    <tr>\n",
       "      <th>888</th>\n",
       "      <td>889</td>\n",
       "      <td>0</td>\n",
       "      <td>3</td>\n",
       "      <td>Johnston, Miss. Catherine Helen 'Carrie'</td>\n",
       "      <td>female</td>\n",
       "      <td>NaN</td>\n",
       "      <td>1</td>\n",
       "      <td>2</td>\n",
       "      <td>W./C. 6607</td>\n",
       "      <td>23.4500</td>\n",
       "      <td>NaN</td>\n",
       "      <td>S</td>\n",
       "    </tr>\n",
       "    <tr>\n",
       "      <th>889</th>\n",
       "      <td>890</td>\n",
       "      <td>1</td>\n",
       "      <td>1</td>\n",
       "      <td>Behr, Mr. Karl Howell</td>\n",
       "      <td>male</td>\n",
       "      <td>26.0</td>\n",
       "      <td>0</td>\n",
       "      <td>0</td>\n",
       "      <td>111369</td>\n",
       "      <td>30.0000</td>\n",
       "      <td>C148</td>\n",
       "      <td>C</td>\n",
       "    </tr>\n",
       "    <tr>\n",
       "      <th>890</th>\n",
       "      <td>891</td>\n",
       "      <td>0</td>\n",
       "      <td>3</td>\n",
       "      <td>Dooley, Mr. Patrick</td>\n",
       "      <td>male</td>\n",
       "      <td>32.0</td>\n",
       "      <td>0</td>\n",
       "      <td>0</td>\n",
       "      <td>370376</td>\n",
       "      <td>7.7500</td>\n",
       "      <td>NaN</td>\n",
       "      <td>Q</td>\n",
       "    </tr>\n",
       "  </tbody>\n",
       "</table>\n",
       "<p>891 rows × 12 columns</p>\n",
       "</div>"
      ],
      "text/plain": [
       "     PassengerId  Survived  Pclass  \\\n",
       "0              1         0       3   \n",
       "1              2         1       1   \n",
       "2              3         1       3   \n",
       "3              4         1       1   \n",
       "4              5         0       3   \n",
       "..           ...       ...     ...   \n",
       "886          887         0       2   \n",
       "887          888         1       1   \n",
       "888          889         0       3   \n",
       "889          890         1       1   \n",
       "890          891         0       3   \n",
       "\n",
       "                                                  Name     Sex   Age  SibSp  \\\n",
       "0                              Braund, Mr. Owen Harris    male  22.0      1   \n",
       "1    Cumings, Mrs. John Bradley (Florence Briggs Th...  female  38.0      1   \n",
       "2                               Heikkinen, Miss. Laina  female  26.0      0   \n",
       "3         Futrelle, Mrs. Jacques Heath (Lily May Peel)  female  35.0      1   \n",
       "4                             Allen, Mr. William Henry    male  35.0      0   \n",
       "..                                                 ...     ...   ...    ...   \n",
       "886                              Montvila, Rev. Juozas    male  27.0      0   \n",
       "887                       Graham, Miss. Margaret Edith  female  19.0      0   \n",
       "888           Johnston, Miss. Catherine Helen 'Carrie'  female   NaN      1   \n",
       "889                              Behr, Mr. Karl Howell    male  26.0      0   \n",
       "890                                Dooley, Mr. Patrick    male  32.0      0   \n",
       "\n",
       "     Parch            Ticket     Fare Cabin Embarked  \n",
       "0        0         A/5 21171   7.2500   NaN        S  \n",
       "1        0          PC 17599  71.2833   C85        C  \n",
       "2        0  STON/O2. 3101282   7.9250   NaN        S  \n",
       "3        0            113803  53.1000  C123        S  \n",
       "4        0            373450   8.0500   NaN        S  \n",
       "..     ...               ...      ...   ...      ...  \n",
       "886      0            211536  13.0000   NaN        S  \n",
       "887      0            112053  30.0000   B42        S  \n",
       "888      2        W./C. 6607  23.4500   NaN        S  \n",
       "889      0            111369  30.0000  C148        C  \n",
       "890      0            370376   7.7500   NaN        Q  \n",
       "\n",
       "[891 rows x 12 columns]"
      ]
     },
     "execution_count": 43,
     "metadata": {},
     "output_type": "execute_result"
    }
   ],
   "source": [
    "train_data"
   ]
  },
  {
   "cell_type": "code",
   "execution_count": 44,
   "id": "3ed6f109-8a71-4369-addb-b3b6a7ac5d3c",
   "metadata": {},
   "outputs": [
    {
     "data": {
      "text/plain": [
       "PassengerId      0\n",
       "Survived         0\n",
       "Pclass           0\n",
       "Name             0\n",
       "Sex              0\n",
       "Age            177\n",
       "SibSp            0\n",
       "Parch            0\n",
       "Ticket           0\n",
       "Fare             0\n",
       "Cabin          687\n",
       "Embarked         2\n",
       "dtype: int64"
      ]
     },
     "execution_count": 44,
     "metadata": {},
     "output_type": "execute_result"
    }
   ],
   "source": [
    "train_data.isnull().sum()"
   ]
  },
  {
   "cell_type": "code",
   "execution_count": 45,
   "id": "ca4bced5-b762-40bd-a462-0ccb9f43863f",
   "metadata": {},
   "outputs": [
    {
     "name": "stdout",
     "output_type": "stream",
     "text": [
      "<class 'pandas.core.frame.DataFrame'>\n",
      "RangeIndex: 891 entries, 0 to 890\n",
      "Data columns (total 12 columns):\n",
      " #   Column       Non-Null Count  Dtype  \n",
      "---  ------       --------------  -----  \n",
      " 0   PassengerId  891 non-null    int64  \n",
      " 1   Survived     891 non-null    int64  \n",
      " 2   Pclass       891 non-null    int64  \n",
      " 3   Name         891 non-null    object \n",
      " 4   Sex          891 non-null    object \n",
      " 5   Age          714 non-null    float64\n",
      " 6   SibSp        891 non-null    int64  \n",
      " 7   Parch        891 non-null    int64  \n",
      " 8   Ticket       891 non-null    object \n",
      " 9   Fare         891 non-null    float64\n",
      " 10  Cabin        204 non-null    object \n",
      " 11  Embarked     889 non-null    object \n",
      "dtypes: float64(2), int64(5), object(5)\n",
      "memory usage: 83.7+ KB\n"
     ]
    }
   ],
   "source": [
    "train_data.info()"
   ]
  },
  {
   "cell_type": "code",
   "execution_count": 38,
   "id": "0f41f9cd-7d8c-4f4e-a566-c4ddab7e6167",
   "metadata": {},
   "outputs": [
    {
     "name": "stdout",
     "output_type": "stream",
     "text": [
      "전처리된 훈련 데이터 shape: (891, 10)\n",
      "전처리된 테스트 데이터 shape: (418, 10)\n"
     ]
    }
   ],
   "source": [
    "import pandas as pd\n",
    "import numpy as np\n",
    "from pathlib import Path\n",
    "\n",
    "# Scikit-learn 라이브러리 임포트\n",
    "from sklearn.pipeline import Pipeline\n",
    "from sklearn.impute import SimpleImputer\n",
    "from sklearn.preprocessing import StandardScaler, OneHotEncoder\n",
    "from sklearn.compose import ColumnTransformer\n",
    "\n",
    "\n",
    "# 훈련 데이터에서 레이블(Survived) 분리\n",
    "X_train = train_data.drop(\"Survived\", axis=1)\n",
    "y_train = train_data[\"Survived\"].copy()\n",
    "X_test = test_data.copy() # 테스트 데이터는 그대로 사용\n",
    "\n",
    "# 2. 전처리 파이프라인 구축\n",
    "# 수치형 데이터 파이프라인: 결측치(NaN)를 중간값으로 채우고, 데이터의 스케일을 조정합니다.\n",
    "num_pipeline = Pipeline([\n",
    "    ('imputer', SimpleImputer(strategy=\"median\")), # Age, Fare 등의 결측치 처리\n",
    "    ('scaler', StandardScaler()),\n",
    "])\n",
    "\n",
    "# 범주형 데이터 파이프라인: 결측치를 최빈값으로 채우고, 원-핫 인코딩을 적용합니다.\n",
    "cat_pipeline = Pipeline([\n",
    "    ('imputer', SimpleImputer(strategy=\"most_frequent\")), # Embarked 등의 결측치 처리\n",
    "    ('onehot', OneHotEncoder(handle_unknown='ignore')),    # Sex, Embarked를 0/1로 변환\n",
    "])\n",
    "\n",
    "# 3. 데이터 타입에 따라 파이프라인 적용할 컬럼 지정\n",
    "# 수치형 특성\n",
    "num_features = ['Age', 'Fare', 'SibSp', 'Parch', 'Pclass']\n",
    "# 범주형 특성\n",
    "cat_features = ['Sex', 'Embarked']\n",
    "\n",
    "# 4. ColumnTransformer로 두 파이프라인 합치기\n",
    "# 어떤 컬럼에 어떤 파이프라인을 적용할지 정의합니다.\n",
    "preprocessor = ColumnTransformer([\n",
    "    ('num', num_pipeline, num_features),\n",
    "    ('cat', cat_pipeline, cat_features),\n",
    "])\n",
    "\n",
    "# 5. 전체 파이프라인을 훈련 데이터에 적용 (학습 및 변환)\n",
    "X_train_prepared = preprocessor.fit_transform(X_train)\n",
    "\n",
    "# 6. 훈련된 파이프라인을 테스트 데이터에 적용 (변환만 수행)\n",
    "X_test_prepared = preprocessor.transform(X_test)\n",
    "\n",
    "# 결과 확인 (Numpy 배열 형태로 출력됨)\n",
    "print(\"전처리된 훈련 데이터 shape:\", X_train_prepared.shape)\n",
    "print(\"전처리된 테스트 데이터 shape:\", X_test_prepared.shape)"
   ]
  },
  {
   "cell_type": "code",
   "execution_count": 47,
   "id": "c89a60c6-5987-4de3-8a6a-69470615bd8d",
   "metadata": {},
   "outputs": [
    {
     "data": {
      "text/plain": [
       "array([-0.56573582, -0.50244517,  0.43279337, -0.47367361,  0.82737724,\n",
       "        0.        ,  1.        ,  0.        ,  0.        ,  1.        ])"
      ]
     },
     "execution_count": 47,
     "metadata": {},
     "output_type": "execute_result"
    }
   ],
   "source": [
    "X_train_prepared[0]"
   ]
  },
  {
   "cell_type": "code",
   "execution_count": 57,
   "id": "2db6252a-b091-4d30-9ad9-f64b2136f739",
   "metadata": {},
   "outputs": [
    {
     "name": "stdout",
     "output_type": "stream",
     "text": [
      "\n",
      "--- 검증 세트(Validation Set)를 사용한 모델 성능 평가 ---\n",
      "정확도 (Accuracy): 0.8101\n",
      "정밀도 (Precision): 0.7869\n",
      "재현율 (Recall): 0.6957\n",
      "F1-점수 (F1-Score): 0.7385\n",
      "AUC: 0.8285\n",
      "\n",
      "--- 5-Fold 교차 검증 정확도 ---\n",
      "각 폴드의 정확도: [0.75555556 0.83146067 0.76404494 0.84269663 0.88764045 0.83146067\n",
      " 0.82022472 0.76404494 0.84269663 0.84269663]\n",
      "평균 정확도: 0.8183 (표준편차: 0.0409)\n"
     ]
    }
   ],
   "source": [
    "from sklearn.ensemble import RandomForestClassifier\n",
    "from sklearn.metrics import accuracy_score, precision_score, recall_score, f1_score, roc_auc_score\n",
    "from sklearn.model_selection import cross_val_score, train_test_split\n",
    "\n",
    "# 1. 모델 선택 및 훈련\n",
    "# 여기서는 랜덤 포레스트 분류기를 사용합니다.\n",
    "# n_estimators는 트리의 개수, random_state는 재현성을 위한 시드 값입니다.\n",
    "model = RandomForestClassifier(n_estimators=100, random_state=42)\n",
    "\n",
    "# 모델 훈련\n",
    "model.fit(X_train_prepared, y_train)\n",
    "\n",
    "# 2. 훈련된 모델로 예측 수행\n",
    "# 캐글 제출을 위한 테스트 데이터 예측\n",
    "test_predictions = model.predict(X_test_prepared)\n",
    "\n",
    "# --- (선택 사항: 모델 성능 검증을 위한 훈련 데이터 분할) ---\n",
    "# 보통 실제 성능을 더 정확히 평가하기 위해 훈련 데이터를 다시 훈련/검증 세트로 나눕니다.\n",
    "# 여기서는 모델을 훈련 데이터 전체에 학습시켰으므로,\n",
    "# 실제 Kaggle 제출을 위해서는 X_test_prepared에 대한 예측을 바로 사용합니다.\n",
    "# 하지만 모델의 일반화 성능을 확인하려면 훈련 데이터를 분할하여 교차 검증을 수행하는 것이 좋습니다.\n",
    "\n",
    "# 예시: 훈련 데이터를 다시 훈련/검증 세트로 분할하여 모델 성능 검증\n",
    "X_train_split, X_val_split, y_train_split, y_val_split = train_test_split(\n",
    "    X_train_prepared, y_train, test_size=0.2, random_state=42, stratify=y_train\n",
    ")\n",
    "\n",
    "# 분할된 훈련 세트로 모델 다시 훈련 (선택 사항)\n",
    "val_model = RandomForestClassifier(n_estimators=100, random_state=42)\n",
    "val_model.fit(X_train_split, y_train_split)\n",
    "\n",
    "# 검증 세트로 예측\n",
    "val_predictions = val_model.predict(X_val_split)\n",
    "\n",
    "# 3. 모델 성능 평가 (검증 세트를 사용하여)\n",
    "print(\"\\n--- 검증 세트(Validation Set)를 사용한 모델 성능 평가 ---\")\n",
    "print(f\"정확도 (Accuracy): {accuracy_score(y_val_split, val_predictions):.4f}\")\n",
    "print(f\"정밀도 (Precision): {precision_score(y_val_split, val_predictions):.4f}\")\n",
    "print(f\"재현율 (Recall): {recall_score(y_val_split, val_predictions):.4f}\")\n",
    "print(f\"F1-점수 (F1-Score): {f1_score(y_val_split, val_predictions):.4f}\")\n",
    "\n",
    "# 예측 확률을 사용하여 AUC 계산\n",
    "val_probabilities = val_model.predict_proba(X_val_split)[:, 1] # 1은 '생존' 클래스에 대한 확률\n",
    "print(f\"AUC: {roc_auc_score(y_val_split, val_probabilities):.4f}\")\n",
    "\n",
    "# 교차 검증(Cross-validation)을 통한 성능 평가 (더 견고한 평가)\n",
    "# 5-fold cross-validation 예시\n",
    "forest_scores = cross_val_score(model, X_train_prepared, y_train, cv=10, scoring='accuracy')\n",
    "print(f\"\\n--- 5-Fold 교차 검증 정확도 ---\")\n",
    "print(f\"각 폴드의 정확도: {forest_scores}\")\n",
    "print(f\"평균 정확도: {np.mean(forest_scores):.4f} (표준편차: {np.std(forest_scores):.4f})\")\n",
    "\n",
    "# 4. 캐글 제출을 위한 예측 파일 생성 (선택 사항)\n",
    "# 캐글 대회에서는 보통 특정 형식의 CSV 파일을 요구합니다.\n",
    "# submission_df = pd.DataFrame({'PassengerId': test_data['PassengerId'], 'Survived': test_predictions})\n",
    "# submission_df.to_csv('submission.csv', index=False)\n",
    "# print(\"\\n'submission.csv' 파일이 생성되었습니다.\")"
   ]
  },
  {
   "cell_type": "code",
   "execution_count": 58,
   "id": "a1b52641-e249-486b-bf32-3d22cc49c6a1",
   "metadata": {},
   "outputs": [
    {
     "name": "stdout",
     "output_type": "stream",
     "text": [
      "\n",
      "--- 검증 세트(Validation Set)를 사용한 SVM 모델 성능 평가 ---\n",
      "정확도 (Accuracy): 0.8156\n",
      "정밀도 (Precision): 0.8214\n",
      "재현율 (Recall): 0.6667\n",
      "F1-점수 (F1-Score): 0.7360\n",
      "AUC: 0.8411\n",
      "\n",
      "--- 5-Fold 교차 검증 정확도 ---\n",
      "각 폴드의 정확도: [0.8        0.85393258 0.76404494 0.87640449 0.83146067 0.78651685\n",
      " 0.82022472 0.78651685 0.86516854 0.85393258]\n",
      "평균 정확도: 0.8238 (표준편차: 0.0364)\n"
     ]
    }
   ],
   "source": [
    "from sklearn.svm import SVC\n",
    "from sklearn.metrics import accuracy_score, precision_score, recall_score, f1_score, roc_auc_score\n",
    "from sklearn.model_selection import train_test_split, cross_val_score\n",
    "import numpy as np\n",
    "\n",
    "# 1. 모델 선택 및 훈련\n",
    "# probability=True: predict_proba 사용을 위해 필요\n",
    "model = SVC(kernel='rbf', C=1.0, probability=True, random_state=42)\n",
    "\n",
    "# 모델 훈련\n",
    "model.fit(X_train_prepared, y_train)\n",
    "\n",
    "# 2. 캐글 제출용 예측\n",
    "test_predictions = model.predict(X_test_prepared)\n",
    "\n",
    "# 3. 모델 성능 평가를 위한 데이터 분할\n",
    "X_train_split, X_val_split, y_train_split, y_val_split = train_test_split(\n",
    "    X_train_prepared, y_train, test_size=0.2, random_state=42, stratify=y_train\n",
    ")\n",
    "\n",
    "# 검증용 모델 훈련\n",
    "val_model = SVC(kernel='rbf', C=1.0, probability=True, random_state=42)\n",
    "val_model.fit(X_train_split, y_train_split)\n",
    "\n",
    "# 예측\n",
    "val_predictions = val_model.predict(X_val_split)\n",
    "\n",
    "# 성능 지표 출력\n",
    "print(\"\\n--- 검증 세트(Validation Set)를 사용한 SVM 모델 성능 평가 ---\")\n",
    "print(f\"정확도 (Accuracy): {accuracy_score(y_val_split, val_predictions):.4f}\")\n",
    "print(f\"정밀도 (Precision): {precision_score(y_val_split, val_predictions):.4f}\")\n",
    "print(f\"재현율 (Recall): {recall_score(y_val_split, val_predictions):.4f}\")\n",
    "print(f\"F1-점수 (F1-Score): {f1_score(y_val_split, val_predictions):.4f}\")\n",
    "\n",
    "# AUC 계산\n",
    "val_probabilities = val_model.predict_proba(X_val_split)[:, 1]\n",
    "print(f\"AUC: {roc_auc_score(y_val_split, val_probabilities):.4f}\")\n",
    "\n",
    "# 4. 교차 검증\n",
    "svm_scores = cross_val_score(model, X_train_prepared, y_train, cv=10, scoring='accuracy')\n",
    "print(f\"\\n--- 5-Fold 교차 검증 정확도 ---\")\n",
    "print(f\"각 폴드의 정확도: {svm_scores}\")\n",
    "print(f\"평균 정확도: {np.mean(svm_scores):.4f} (표준편차: {np.std(svm_scores):.4f})\")\n",
    "\n",
    "# 5. 캐글 제출용 파일 (선택 사항)\n",
    "# import pandas as pd\n",
    "# submission_df = pd.DataFrame({'PassengerId': test_data['PassengerId'], 'Survived': test_predictions})\n",
    "# submission_df.to_csv('submission_svm.csv', index=False)\n",
    "# print(\"\\n'submission_svm.csv' 파일이 생성되었습니다.\")\n"
   ]
  },
  {
   "cell_type": "code",
   "execution_count": 63,
   "id": "66ab0499-d634-47dd-a276-c14cceaeae62",
   "metadata": {},
   "outputs": [
    {
     "data": {
      "image/png": "[encoded data removed]",
      "text/plain": [
       "<Figure size 800x400 with 1 Axes>"
      ]
     },
     "metadata": {},
     "output_type": "display_data"
    }
   ],
   "source": [
    "import matplotlib.pyplot as plt\n",
    "import numpy as np\n",
    "from sklearn.model_selection import cross_val_score\n",
    "from sklearn.ensemble import RandomForestClassifier\n",
    "from sklearn.svm import SVC\n",
    "\n",
    "# 박스 플롯 시각화\n",
    "plt.figure(figsize=(8, 4))\n",
    "\n",
    "# 점 분포\n",
    "plt.plot([1]*10, svm_scores, \"o\", label=\"SVM 점수\")      # 점은 원형 표시\n",
    "plt.plot([2]*10, forest_scores, \"o\", label=\"RF 점수\")\n",
    "\n",
    "# 박스 플롯\n",
    "plt.boxplot([svm_scores, forest_scores], labels=[\"SVM\", \"Random Forest\"])\n",
    "\n",
    "import matplotlib.pyplot as plt\n",
    "import matplotlib.font_manager as fm\n",
    "import platform\n",
    "\n",
    "# 시스템이 윈도우인지 확인\n",
    "\n",
    "plt.rc('font', family='Malgun Gothic')  # Windows에서 한글 폰트 설정\n",
    "\n",
    "plt.rcParams['axes.unicode_minus'] = False  # 마이너스 기호 깨짐 방지\n",
    "\n",
    "# 예시\n",
    "plt.title(\"10-Fold 교차 검증 정확도 비교\")\n",
    "\n",
    "plt.ylabel(\"Accuracy\")\n",
    "plt.title(\"10-Fold 교차 검증 정확도 비교\")\n",
    "plt.grid(True)\n",
    "plt.show()\n"
   ]
  },
  {
   "cell_type": "markdown",
   "id": "76d290b3-22f2-4520-8db7-b38960d15a4b",
   "metadata": {},
   "source": [
    "## 4번 스팸 분류"
   ]
  },
  {
   "cell_type": "code",
   "execution_count": 1,
   "id": "14d80656-1b89-4764-a76f-f3940a81fe26",
   "metadata": {},
   "outputs": [],
   "source": [
    "import numpy as np\n",
    "from packaging import version\n",
    "from pathlib import Path\n",
    "from zlib import crc32\n",
    "from scipy import stats\n",
    "from scipy.stats import binom\n",
    "from scipy.stats import expon\n",
    "from scipy.stats import geom\n",
    "from scipy.stats import randint\n",
    "from scipy.stats import uniform\n",
    "from scipy.stats import loguniform\n",
    "from sklearn import set_config\n",
    "from sklearn.base import BaseEstimator, TransformerMixin\n",
    "from sklearn.cluster import KMeans\n",
    "from sklearn.compose import ColumnTransformer\n",
    "from sklearn.compose import make_column_selector, make_column_transformer\n",
    "from sklearn.compose import TransformedTargetRegressor\n",
    "from sklearn.ensemble import IsolationForest\n",
    "from sklearn.ensemble import RandomForestRegressor\n",
    "from sklearn.experimental import enable_halving_search_cv\n",
    "from sklearn.impute import SimpleImputer\n",
    "from sklearn.linear_model import LinearRegression\n",
    "from sklearn.metrics import mean_squared_error\n",
    "from sklearn.metrics.pairwise import rbf_kernel\n",
    "from sklearn.model_selection import cross_val_score\n",
    "from sklearn.model_selection import GridSearchCV\n",
    "from sklearn.model_selection import HalvingRandomSearchCV\n",
    "from sklearn.model_selection import RandomizedSearchCV\n",
    "from sklearn.model_selection import StratifiedShuffleSplit\n",
    "from sklearn.model_selection import train_test_split\n",
    "from sklearn.pipeline import Pipeline\n",
    "from sklearn.pipeline import make_pipeline\n",
    "from sklearn.preprocessing import FunctionTransformer\n",
    "from sklearn.preprocessing import MinMaxScaler\n",
    "from sklearn.preprocessing import OneHotEncoder\n",
    "from sklearn.preprocessing import OrdinalEncoder\n",
    "from sklearn.preprocessing import StandardScaler\n",
    "from sklearn.svm import SVR\n",
    "from sklearn.tree import DecisionTreeRegressor\n",
    "from sklearn.utils.validation import check_array, check_is_fitted\n",
    "import pandas as pd"
   ]
  },
  {
   "cell_type": "code",
   "execution_count": null,
   "id": "b9d7268d-2367-46e6-8248-edbacf4c1272",
   "metadata": {},
   "outputs": [],
   "source": []
  },
  {
   "cell_type": "code",
   "execution_count": 2,
   "id": "df8f8c03-99ab-4bc4-8137-8ed6957d3d4a",
   "metadata": {},
   "outputs": [],
   "source": [
    "from pathlib import Path\n",
    "import pandas as pd\n",
    "import tarfile\n",
    "import urllib.request"
   ]
  },
  {
   "cell_type": "code",
   "execution_count": 3,
   "id": "d36645ae-8e22-4251-82f1-11d935dce845",
   "metadata": {},
   "outputs": [],
   "source": [
    "# import tarfile\n",
    "\n",
    "# C:\\Users\\CJ\\사이킥런\\datasets\\spam 이거 로컬 경로에 있어서 아래 외부연동해서 가져오는것 주석처리해주고\n",
    "# 위에 디렉토리 위치로 바꿔줘\n",
    "# def fetch_spam_data():\n",
    "#     spam_root = \"http://spamassassin.apache.org/old/publiccorpus/\"\n",
    "#     ham_url = spam_root + \"20030228_easy_ham.tar.bz2\"\n",
    "#     spam_url = spam_root + \"20030228_spam.tar.bz2\"\n",
    "\n",
    "#     spam_path = Path() / \"datasets\" / \"spam\"\n",
    "#     spam_path.mkdir(parents=True, exist_ok=True)\n",
    "#     for dir_name, tar_name, url in ((\"easy_ham\", \"ham\", ham_url),\n",
    "#                                     (\"spam\", \"spam\", spam_url)):\n",
    "#         if not (spam_path / dir_name).is_dir():\n",
    "#             path = (spam_path / tar_name).with_suffix(\".tar.bz2\")\n",
    "#             print(\"Downloading\", path)\n",
    "#             urllib.request.urlretrieve(url, path)\n",
    "#             tar_bz2_file = tarfile.open(path)\n",
    "#             tar_bz2_file.extractall(path=spam_path)\n",
    "#             tar_bz2_file.close()\n",
    "#     return [spam_path / dir_name for dir_name in (\"easy_ham\", \"spam\")]"
   ]
  },
  {
   "cell_type": "code",
   "execution_count": 4,
   "id": "347c0b37-9cce-488f-a80d-2051e48f3623",
   "metadata": {},
   "outputs": [],
   "source": [
    "from pathlib import Path\n",
    "def fetch_spam_data():\n",
    "    # 외부 다운로드 관련 코드 주석 처리\n",
    "    # spam_root = \"http://spamassassin.apache.org/old/publiccorpus/\"\n",
    "    # ham_url = spam_root + \"20030228_easy_ham.tar.bz2\"\n",
    "    # spam_url = spam_root + \"20030228_spam.tar.bz2\"\n",
    "\n",
    "    # 로컬에 있는 데이터셋 경로로 직접 지정\n",
    "    spam_path = Path(r\"C:/Users/CJ/사이킥런/datasets/spam\")\n",
    "\n",
    "    # 만약 존재하지 않으면 에러를 내는 것도 가능\n",
    "    if not spam_path.exists():\n",
    "        raise FileNotFoundError(f\"{spam_path} 디렉토리가 존재하지 않습니다.\")\n",
    "\n",
    "    return [spam_path / dir_name for dir_name in (\"easy_ham\", \"spam\")]\n"
   ]
  },
  {
   "cell_type": "code",
   "execution_count": 5,
   "id": "51ad856c-c62c-4a66-b0c4-046f0ccb7856",
   "metadata": {},
   "outputs": [],
   "source": [
    "ham_dir, spam_dir = fetch_spam_data()"
   ]
  },
  {
   "cell_type": "code",
   "execution_count": 6,
   "id": "f354e938-e9b8-4e80-9c09-e137a6c98bce",
   "metadata": {},
   "outputs": [],
   "source": [
    "ham_filenames = [f for f in sorted(ham_dir.iterdir()) if len(f.name) > 20]\n",
    "spam_filenames = [f for f in sorted(spam_dir.iterdir()) if len(f.name) > 20]"
   ]
  },
  {
   "cell_type": "code",
   "execution_count": 7,
   "id": "9b636784-b76d-4e35-bd91-541b32163863",
   "metadata": {},
   "outputs": [
    {
     "data": {
      "text/plain": [
       "2500"
      ]
     },
     "execution_count": 7,
     "metadata": {},
     "output_type": "execute_result"
    }
   ],
   "source": [
    "len(ham_filenames)"
   ]
  },
  {
   "cell_type": "code",
   "execution_count": 8,
   "id": "c69c302a-6f0f-4b20-92df-058f4a8a0806",
   "metadata": {},
   "outputs": [
    {
     "data": {
      "text/plain": [
       "500"
      ]
     },
     "execution_count": 8,
     "metadata": {},
     "output_type": "execute_result"
    }
   ],
   "source": [
    "len(spam_filenames)"
   ]
  },
  {
   "cell_type": "code",
   "execution_count": null,
   "id": "d233aa7f-0115-4dd1-a094-00c5c8691676",
   "metadata": {},
   "outputs": [],
   "source": []
  },
  {
   "cell_type": "code",
   "execution_count": 9,
   "id": "568c9e09-a5aa-4e8f-bba1-57cf2239fa1b",
   "metadata": {},
   "outputs": [],
   "source": [
    "import email\n",
    "import email.policy\n",
    "\n",
    "def load_email(filepath):\n",
    "    with open(filepath, \"rb\") as f:\n",
    "        return email.parser.BytesParser(policy=email.policy.default).parse(f)"
   ]
  },
  {
   "cell_type": "code",
   "execution_count": 10,
   "id": "660f1d86-cbed-48c5-b17e-b608d8fc5daa",
   "metadata": {},
   "outputs": [],
   "source": [
    "ham_emails = [load_email(filepath) for filepath in ham_filenames]\n",
    "spam_emails = [load_email(filepath) for filepath in spam_filenames]"
   ]
  },
  {
   "cell_type": "code",
   "execution_count": 11,
   "id": "60b365a7-f483-4570-86be-79f7fb368e6d",
   "metadata": {},
   "outputs": [
    {
     "name": "stdout",
     "output_type": "stream",
     "text": [
      "Martin A posted:\n",
      "Tassos Papadopoulos, the Greek sculptor behind the plan, judged that the\n",
      " limestone of Mount Kerdylio, 70 miles east of Salonika and not far from the\n",
      " Mount Athos monastic community, was ideal for the patriotic sculpture. \n",
      " \n",
      " As well as Alexander's granite features, 240 ft high and 170 ft wide, a\n",
      " museum, a restored amphitheatre and car park for admiring crowds are\n",
      "planned\n",
      "---------------------\n",
      "So is this mountain limestone or granite?\n",
      "If it's limestone, it'll weather pretty fast.\n",
      "\n",
      "------------------------ Yahoo! Groups Sponsor ---------------------~-->\n",
      "4 DVDs Free +s&p Join Now\n",
      "http://us.click.yahoo.com/pt6YBB/NXiEAA/mG3HAA/7gSolB/TM\n",
      "---------------------------------------------------------------------~->\n",
      "\n",
      "To unsubscribe from this group, send an email to:\n",
      "forteana-unsubscribe@egroups.com\n",
      "\n",
      " \n",
      "\n",
      "Your use of Yahoo! Groups is subject to http://docs.yahoo.com/info/terms/\n"
     ]
    }
   ],
   "source": [
    "print(ham_emails[1].get_content().strip())"
   ]
  },
  {
   "cell_type": "code",
   "execution_count": null,
   "id": "5ca77387-29cf-4d8a-916d-cab521812b81",
   "metadata": {},
   "outputs": [],
   "source": []
  },
  {
   "cell_type": "code",
   "execution_count": null,
   "id": "717fecee-fcb6-48d6-83e0-17f3f32bcb14",
   "metadata": {},
   "outputs": [],
   "source": []
  },
  {
   "cell_type": "code",
   "execution_count": 12,
   "id": "562adb05-eb02-4887-9bf9-6002b85ddbda",
   "metadata": {},
   "outputs": [
    {
     "name": "stdout",
     "output_type": "stream",
     "text": [
      "Help wanted.  We are a 14 year old fortune 500 company, that is\n",
      "growing at a tremendous rate.  We are looking for individuals who\n",
      "want to work from home.\n",
      "\n",
      "This is an opportunity to make an excellent income.  No experience\n",
      "is required.  We will train you.\n",
      "\n",
      "So if you are looking to be employed from home with a career that has\n",
      "vast opportunities, then go:\n",
      "\n",
      "http://www.basetel.com/wealthnow\n",
      "\n",
      "We are looking for energetic and self motivated people.  If that is you\n",
      "than click on the link and fill out the form, and one of our\n",
      "employement specialist will contact you.\n",
      "\n",
      "To be removed from our link simple go to:\n",
      "\n",
      "http://www.basetel.com/remove.html\n",
      "\n",
      "\n",
      "4139vOLW7-758DoDY1425FRhM1-764SMFc8513fCsLl40\n"
     ]
    }
   ],
   "source": [
    "print(spam_emails[6].get_content().strip())"
   ]
  },
  {
   "cell_type": "code",
   "execution_count": 13,
   "id": "6a9d538d-37ab-447f-b66a-6fbac3250965",
   "metadata": {},
   "outputs": [],
   "source": [
    "def get_email_structure(email):\n",
    "    if isinstance(email, str):\n",
    "        return email\n",
    "    payload = email.get_payload()\n",
    "    if isinstance(payload, list):\n",
    "        multipart = \", \".join([get_email_structure(sub_email)\n",
    "                               for sub_email in payload])\n",
    "        return f\"multipart({multipart})\"\n",
    "    else:\n",
    "        return email.get_content_type()"
   ]
  },
  {
   "cell_type": "code",
   "execution_count": 14,
   "id": "080ad1c2-f6f7-4dc2-843d-d09565243c26",
   "metadata": {},
   "outputs": [],
   "source": [
    "from collections import Counter\n",
    "\n",
    "def structures_counter(emails):\n",
    "    structures = Counter()\n",
    "    for email in emails:\n",
    "        structure = get_email_structure(email)\n",
    "        structures[structure] += 1\n",
    "    return structures"
   ]
  },
  {
   "cell_type": "code",
   "execution_count": 15,
   "id": "8ff4c77a-aae0-4ceb-9955-5393a249d727",
   "metadata": {},
   "outputs": [
    {
     "data": {
      "text/plain": [
       "[('text/plain', 2408),\n",
       " ('multipart(text/plain, application/pgp-signature)', 66),\n",
       " ('multipart(text/plain, text/html)', 8),\n",
       " ('multipart(text/plain, text/plain)', 4),\n",
       " ('multipart(text/plain)', 3),\n",
       " ('multipart(text/plain, application/octet-stream)', 2),\n",
       " ('multipart(text/plain, text/enriched)', 1),\n",
       " ('multipart(text/plain, application/ms-tnef, text/plain)', 1),\n",
       " ('multipart(multipart(text/plain, text/plain, text/plain), application/pgp-signature)',\n",
       "  1),\n",
       " ('multipart(text/plain, video/mng)', 1),\n",
       " ('multipart(text/plain, multipart(text/plain))', 1),\n",
       " ('multipart(text/plain, application/x-pkcs7-signature)', 1),\n",
       " ('multipart(text/plain, multipart(text/plain, text/plain), text/rfc822-headers)',\n",
       "  1),\n",
       " ('multipart(text/plain, multipart(text/plain, text/plain), multipart(multipart(text/plain, application/x-pkcs7-signature)))',\n",
       "  1),\n",
       " ('multipart(text/plain, application/x-java-applet)', 1)]"
      ]
     },
     "execution_count": 15,
     "metadata": {},
     "output_type": "execute_result"
    }
   ],
   "source": [
    "structures_counter(ham_emails).most_common()"
   ]
  },
  {
   "cell_type": "code",
   "execution_count": 16,
   "id": "1fa8f91b-1b8c-4280-9c02-32b13195456a",
   "metadata": {},
   "outputs": [
    {
     "data": {
      "text/plain": [
       "[('text/plain', 218),\n",
       " ('text/html', 183),\n",
       " ('multipart(text/plain, text/html)', 45),\n",
       " ('multipart(text/html)', 20),\n",
       " ('multipart(text/plain)', 19),\n",
       " ('multipart(multipart(text/html))', 5),\n",
       " ('multipart(text/plain, image/jpeg)', 3),\n",
       " ('multipart(text/html, application/octet-stream)', 2),\n",
       " ('multipart(text/plain, application/octet-stream)', 1),\n",
       " ('multipart(text/html, text/plain)', 1),\n",
       " ('multipart(multipart(text/html), application/octet-stream, image/jpeg)', 1),\n",
       " ('multipart(multipart(text/plain, text/html), image/gif)', 1),\n",
       " ('multipart/alternative', 1)]"
      ]
     },
     "execution_count": 16,
     "metadata": {},
     "output_type": "execute_result"
    }
   ],
   "source": [
    "structures_counter(spam_emails).most_common()"
   ]
  },
  {
   "cell_type": "code",
   "execution_count": null,
   "id": "a1227b7a-0f49-490f-8084-014b4ddea4b9",
   "metadata": {},
   "outputs": [],
   "source": []
  },
  {
   "cell_type": "code",
   "execution_count": null,
   "id": "7ab6aa17-ec28-45f8-8166-552111a8024a",
   "metadata": {},
   "outputs": [],
   "source": []
  },
  {
   "cell_type": "code",
   "execution_count": null,
   "id": "69212b8d-65ec-4ef2-94ff-0d25d2ae930d",
   "metadata": {},
   "outputs": [],
   "source": []
  },
  {
   "cell_type": "code",
   "execution_count": null,
   "id": "f6bd00f7-022f-44fc-b091-eee4422f2950",
   "metadata": {},
   "outputs": [],
   "source": []
  },
  {
   "cell_type": "code",
   "execution_count": null,
   "id": "c25e5e41-6cdf-46f2-9b3d-34307f6ea6c5",
   "metadata": {},
   "outputs": [],
   "source": []
  },
  {
   "cell_type": "code",
   "execution_count": null,
   "id": "f322c4e9-9110-4625-b0bf-f2034ece3b4d",
   "metadata": {},
   "outputs": [],
   "source": []
  },
  {
   "cell_type": "code",
   "execution_count": 17,
   "id": "a799f0f8-9b2d-435f-9250-f10169d60921",
   "metadata": {},
   "outputs": [
    {
     "name": "stdout",
     "output_type": "stream",
     "text": [
      "\n",
      "전체 데이터셋 X (이메일 객체) 크기: (3000,)\n",
      "전체 레이블 y 크기: (3000,)\n",
      "\n",
      "훈련 데이터 크기 (X_train): (2400,)\n",
      "훈련 레이블 크기 (y_train): (2400,)\n",
      "테스트 데이터 크기 (X_test): (600,)\n",
      "테스트 레이블 크기 (y_test): (600,)\n"
     ]
    }
   ],
   "source": [
    "# 햄(정상) 이메일에는 0, 스팸 이메일에는 1 레이블 부여\n",
    "# X는 이메일 객체 리스트, y는 해당 레이블 리스트입니다.\n",
    "X = np.array(ham_emails + spam_emails, dtype=object) # 이메일 객체를 NumPy 배열로 변환\n",
    "y = np.array([0] * len(ham_emails) + [1] * len(spam_emails)) # 해당 레이블 배열 생성\n",
    "\n",
    "print(f\"\\n전체 데이터셋 X (이메일 객체) 크기: {X.shape}\")\n",
    "print(f\"전체 레이블 y 크기: {y.shape}\")\n",
    "\n",
    "# scikit-learn의 train_test_split을 사용하여 데이터 분할\n",
    "# test_size=0.2 는 전체 데이터 중 20%를 테스트 세트로 사용 (나머지 80%는 훈련 세트)\n",
    "# random_state=42는 재현 가능한 결과를 위해 설정합니다.\n",
    "X_train, X_test, y_train, y_test = train_test_split(X, y, test_size=0.2, random_state=42)\n",
    "\n",
    "print(f\"\\n훈련 데이터 크기 (X_train): {X_train.shape}\")\n",
    "print(f\"훈련 레이블 크기 (y_train): {y_train.shape}\")\n",
    "print(f\"테스트 데이터 크기 (X_test): {X_test.shape}\")\n",
    "print(f\"테스트 레이블 크기 (y_test): {y_test.shape}\")"
   ]
  },
  {
   "cell_type": "code",
   "execution_count": null,
   "id": "8d688573-48a1-4375-9010-8770c22995ff",
   "metadata": {},
   "outputs": [],
   "source": []
  },
  {
   "cell_type": "code",
   "execution_count": 19,
   "id": "786b0bbc-3b12-4a9f-8152-28fc9a8536b8",
   "metadata": {},
   "outputs": [],
   "source": [
    "import re\n",
    "from html import unescape\n",
    "\n",
    "def html_to_plain_text(html):\n",
    "    text = re.sub('<head.*?>.*?</head>', '', html, flags=re.M | re.S | re.I)\n",
    "    text = re.sub('<a\\s.*?>', ' HYPERLINK ', text, flags=re.M | re.S | re.I)\n",
    "    text = re.sub('<.*?>', '', text, flags=re.M | re.S)\n",
    "    text = re.sub(r'(\\s*\\n)+', '\\n', text, flags=re.M | re.S)\n",
    "    return unescape(text)"
   ]
  },
  {
   "cell_type": "code",
   "execution_count": 20,
   "id": "464dea0d-2dc5-45d9-9d26-a81c196589b4",
   "metadata": {},
   "outputs": [
    {
     "name": "stdout",
     "output_type": "stream",
     "text": [
      "<HTML><HEAD><TITLE></TITLE><META http-equiv=\"Content-Type\" content=\"text/html; charset=windows-1252\"><STYLE>A:link {TEX-DECORATION: none}A:active {TEXT-DECORATION: none}A:visited {TEXT-DECORATION: none}A:hover {COLOR: #0033ff; TEXT-DECORATION: underline}</STYLE><META content=\"MSHTML 6.00.2713.1100\" name=\"GENERATOR\"></HEAD>\n",
      "<BODY text=\"#000000\" vLink=\"#0033ff\" link=\"#0033ff\" bgColor=\"#CCCC99\"><TABLE borderColor=\"#660000\" cellSpacing=\"0\" cellPadding=\"0\" border=\"0\" width=\"100%\"><TR><TD bgColor=\"#CCCC99\" valign=\"top\" colspan=\"2\" height=\"27\">\n",
      "<font size=\"6\" face=\"Arial, Helvetica, sans-serif\" color=\"#660000\">\n",
      "<b>OTC</b></font></TD></TR><TR><TD height=\"2\" bgcolor=\"#6a694f\">\n",
      "<font size=\"5\" face=\"Times New Roman, Times, serif\" color=\"#FFFFFF\">\n",
      "<b>&nbsp;Newsletter</b></font></TD><TD height=\"2\" bgcolor=\"#6a694f\"><div align=\"right\"><font color=\"#FFFFFF\">\n",
      "<b>Discover Tomorrow's Winners&nbsp;</b></font></div></TD></TR><TR><TD height=\"25\" colspan=\"2\" bgcolor=\"#CCCC99\"><table width=\"100%\" border=\"0\"  ...\n"
     ]
    }
   ],
   "source": [
    "html_spam_emails = [email for email in X_train[y_train==1]\n",
    "                    if get_email_structure(email) == \"text/html\"]\n",
    "sample_html_spam = html_spam_emails[7]\n",
    "print(sample_html_spam.get_content().strip()[:1000], \"...\")"
   ]
  },
  {
   "cell_type": "code",
   "execution_count": 21,
   "id": "0a01869d-33cb-4d6e-a606-437b5f29e275",
   "metadata": {},
   "outputs": [
    {
     "name": "stdout",
     "output_type": "stream",
     "text": [
      "\n",
      "OTC\n",
      " Newsletter\n",
      "Discover Tomorrow's Winners \n",
      "For Immediate Release\n",
      "Cal-Bay (Stock Symbol: CBYI)\n",
      "Watch for analyst \"Strong Buy Recommendations\" and several advisory newsletters picking CBYI.  CBYI has filed to be traded on the OTCBB, share prices historically INCREASE when companies get listed on this larger trading exchange. CBYI is trading around 25 cents and should skyrocket to $2.66 - $3.25 a share in the near future.\n",
      "Put CBYI on your watch list, acquire a position TODAY.\n",
      "REASONS TO INVEST IN CBYI\n",
      "A profitable company and is on track to beat ALL earnings estimates!\n",
      "One of the FASTEST growing distributors in environmental & safety equipment instruments.\n",
      "Excellent management team, several EXCLUSIVE contracts.  IMPRESSIVE client list including the U.S. Air Force, Anheuser-Busch, Chevron Refining and Mitsubishi Heavy Industries, GE-Energy & Environmental Research.\n",
      "RAPIDLY GROWING INDUSTRY\n",
      "Industry revenues exceed $900 million, estimates indicate that there could be as much as $25 billi ...\n"
     ]
    }
   ],
   "source": [
    "print(html_to_plain_text(sample_html_spam.get_content())[:1000], \"...\")"
   ]
  },
  {
   "cell_type": "code",
   "execution_count": 22,
   "id": "7dc90e43-13c6-4a8d-a9a8-ef421d856485",
   "metadata": {},
   "outputs": [],
   "source": [
    "def email_to_text(email):\n",
    "    html = None\n",
    "    for part in email.walk():\n",
    "        ctype = part.get_content_type()\n",
    "        if not ctype in (\"text/plain\", \"text/html\"):\n",
    "            continue\n",
    "        try:\n",
    "            content = part.get_content()\n",
    "        except: # in case of encoding issues\n",
    "            content = str(part.get_payload())\n",
    "        if ctype == \"text/plain\":\n",
    "            return content\n",
    "        else:\n",
    "            html = content\n",
    "    if html:\n",
    "        return html_to_plain_text(html)"
   ]
  },
  {
   "cell_type": "code",
   "execution_count": 23,
   "id": "532006a7-fe93-45e1-a653-6bbc7484c6ca",
   "metadata": {},
   "outputs": [
    {
     "name": "stdout",
     "output_type": "stream",
     "text": [
      "\n",
      "OTC\n",
      " Newsletter\n",
      "Discover Tomorrow's Winners \n",
      "For Immediate Release\n",
      "Cal-Bay (Stock Symbol: CBYI)\n",
      "Wat ...\n"
     ]
    }
   ],
   "source": [
    "print(email_to_text(sample_html_spam)[:100], \"...\")"
   ]
  },
  {
   "cell_type": "code",
   "execution_count": 25,
   "id": "b60a310a-2516-46e1-afd8-64f7fcac9f0d",
   "metadata": {},
   "outputs": [
    {
     "name": "stdout",
     "output_type": "stream",
     "text": [
      "\n",
      "OTC\n",
      " Newsletter\n",
      "Discover Tomorrow's Winners \n",
      "For Immediate Release\n",
      "Cal-Bay (Stock Symbol: CBYI)\n",
      "Wat ...\n"
     ]
    }
   ],
   "source": []
  },
  {
   "cell_type": "code",
   "execution_count": 26,
   "id": "82d6a88f-fa8a-4c43-8447-d75fabc51e5e",
   "metadata": {},
   "outputs": [
    {
     "name": "stdout",
     "output_type": "stream",
     "text": [
      "Computations => comput\n",
      "Computation => comput\n",
      "Computing => comput\n",
      "Computed => comput\n",
      "Compute => comput\n",
      "Compulsive => compuls\n"
     ]
    }
   ],
   "source": [
    "import nltk\n",
    "\n",
    "stemmer = nltk.PorterStemmer()\n",
    "for word in (\"Computations\", \"Computation\", \"Computing\", \"Computed\", \"Compute\",\n",
    "             \"Compulsive\"):\n",
    "    print(word, \"=>\", stemmer.stem(word))"
   ]
  },
  {
   "cell_type": "code",
   "execution_count": 27,
   "id": "1660af30-abb8-4455-bc5c-a1fffc71ba22",
   "metadata": {},
   "outputs": [],
   "source": [
    "# 코랩이나 캐글을 사용하나요?\n",
    "\n",
    "import sys\n",
    "IS_COLAB = \"google.colab\" in sys.modules\n",
    "IS_KAGGLE = \"kaggle_secrets\" in sys.modules\n",
    "\n",
    "# 코랩이나 캐글에서 이 노트북을 실행하려면 먼저 pip install urlextract을 실행합니다\n",
    "if IS_COLAB or IS_KAGGLE:\n",
    "    %pip install -q -U urlextract"
   ]
  },
  {
   "cell_type": "code",
   "execution_count": 28,
   "id": "97cc9e80-c323-4632-a28b-4c2344a4662d",
   "metadata": {},
   "outputs": [
    {
     "name": "stdout",
     "output_type": "stream",
     "text": [
      "['github.com', 'https://youtu.be/7Pq-S557XQU?t=3m32s']\n"
     ]
    }
   ],
   "source": [
    "import urlextract # 루트 도메인 이름을 다운로드하기 위해 인터넷 연결이 필요할지 모릅니다\n",
    "\n",
    "url_extractor = urlextract.URLExtract()\n",
    "some_text = \"Will it detect github.com and https://youtu.be/7Pq-S557XQU?t=3m32s\"\n",
    "print(url_extractor.find_urls(some_text))"
   ]
  },
  {
   "cell_type": "code",
   "execution_count": 29,
   "id": "4981bfa7-99c6-4493-a787-ccd9f435265e",
   "metadata": {},
   "outputs": [],
   "source": [
    "from sklearn.base import BaseEstimator, TransformerMixin\n",
    "\n",
    "class EmailToWordCounterTransformer(BaseEstimator, TransformerMixin):\n",
    "    def __init__(self, strip_headers=True, lower_case=True,\n",
    "                 remove_punctuation=True, replace_urls=True,\n",
    "                 replace_numbers=True, stemming=True):\n",
    "        self.strip_headers = strip_headers\n",
    "        self.lower_case = lower_case\n",
    "        self.remove_punctuation = remove_punctuation\n",
    "        self.replace_urls = replace_urls\n",
    "        self.replace_numbers = replace_numbers\n",
    "        self.stemming = stemming\n",
    "    def fit(self, X, y=None):\n",
    "        return self\n",
    "    def transform(self, X, y=None):\n",
    "        X_transformed = []\n",
    "        for email in X:\n",
    "            text = email_to_text(email) or \"\"\n",
    "            if self.lower_case:\n",
    "                text = text.lower()\n",
    "            if self.replace_urls and url_extractor is not None:\n",
    "                urls = list(set(url_extractor.find_urls(text)))\n",
    "                urls.sort(key=lambda url: len(url), reverse=True)\n",
    "                for url in urls:\n",
    "                    text = text.replace(url, \" URL \")\n",
    "            if self.replace_numbers:\n",
    "                text = re.sub(r'\\d+(?:\\.\\d*)?(?:[eE][+-]?\\d+)?', 'NUMBER', text)\n",
    "            if self.remove_punctuation:\n",
    "                text = re.sub(r'\\W+', ' ', text, flags=re.M)\n",
    "            word_counts = Counter(text.split())\n",
    "            if self.stemming and stemmer is not None:\n",
    "                stemmed_word_counts = Counter()\n",
    "                for word, count in word_counts.items():\n",
    "                    stemmed_word = stemmer.stem(word)\n",
    "                    stemmed_word_counts[stemmed_word] += count\n",
    "                word_counts = stemmed_word_counts\n",
    "            X_transformed.append(word_counts)\n",
    "        return np.array(X_transformed)"
   ]
  },
  {
   "cell_type": "code",
   "execution_count": 30,
   "id": "a027926c-068b-4114-90e0-5ef989f3646d",
   "metadata": {},
   "outputs": [
    {
     "data": {
      "text/plain": [
       "array([Counter({'chuck': 1, 'murcko': 1, 'wrote': 1, 'stuff': 1, 'yawn': 1, 'r': 1}),\n",
       "       Counter({'the': 11, 'of': 9, 'and': 8, 'all': 3, 'christian': 3, 'to': 3, 'by': 3, 'jefferson': 2, 'i': 2, 'have': 2, 'superstit': 2, 'one': 2, 'on': 2, 'been': 2, 'ha': 2, 'half': 2, 'rogueri': 2, 'teach': 2, 'jesu': 2, 'some': 1, 'interest': 1, 'quot': 1, 'url': 1, 'thoma': 1, 'examin': 1, 'known': 1, 'word': 1, 'do': 1, 'not': 1, 'find': 1, 'in': 1, 'our': 1, 'particular': 1, 'redeem': 1, 'featur': 1, 'they': 1, 'are': 1, 'alik': 1, 'found': 1, 'fabl': 1, 'mytholog': 1, 'million': 1, 'innoc': 1, 'men': 1, 'women': 1, 'children': 1, 'sinc': 1, 'introduct': 1, 'burnt': 1, 'tortur': 1, 'fine': 1, 'imprison': 1, 'what': 1, 'effect': 1, 'thi': 1, 'coercion': 1, 'make': 1, 'world': 1, 'fool': 1, 'other': 1, 'hypocrit': 1, 'support': 1, 'error': 1, 'over': 1, 'earth': 1, 'six': 1, 'histor': 1, 'american': 1, 'john': 1, 'e': 1, 'remsburg': 1, 'letter': 1, 'william': 1, 'short': 1, 'again': 1, 'becom': 1, 'most': 1, 'pervert': 1, 'system': 1, 'that': 1, 'ever': 1, 'shone': 1, 'man': 1, 'absurd': 1, 'untruth': 1, 'were': 1, 'perpetr': 1, 'upon': 1, 'a': 1, 'larg': 1, 'band': 1, 'dupe': 1, 'import': 1, 'led': 1, 'paul': 1, 'first': 1, 'great': 1, 'corrupt': 1}),\n",
       "       Counter({'url': 4, 's': 3, 'group': 3, 'to': 3, 'in': 2, 'forteana': 2, 'martin': 2, 'an': 2, 'and': 2, 'we': 2, 'is': 2, 'yahoo': 2, 'unsubscrib': 2, 'y': 1, 'adamson': 1, 'wrote': 1, 'for': 1, 'altern': 1, 'rather': 1, 'more': 1, 'factual': 1, 'base': 1, 'rundown': 1, 'on': 1, 'hamza': 1, 'career': 1, 'includ': 1, 'hi': 1, 'belief': 1, 'that': 1, 'all': 1, 'non': 1, 'muslim': 1, 'yemen': 1, 'should': 1, 'be': 1, 'murder': 1, 'outright': 1, 'know': 1, 'how': 1, 'unbias': 1, 'memri': 1, 'don': 1, 't': 1, 'html': 1, 'rob': 1, 'sponsor': 1, 'number': 1, 'dvd': 1, 'free': 1, 'p': 1, 'join': 1, 'now': 1, 'from': 1, 'thi': 1, 'send': 1, 'email': 1, 'egroup': 1, 'com': 1, 'your': 1, 'use': 1, 'of': 1, 'subject': 1})],\n",
       "      dtype=object)"
      ]
     },
     "execution_count": 30,
     "metadata": {},
     "output_type": "execute_result"
    }
   ],
   "source": [
    "X_few = X_train[:3]\n",
    "X_few_wordcounts = EmailToWordCounterTransformer().fit_transform(X_few)\n",
    "X_few_wordcounts"
   ]
  },
  {
   "cell_type": "code",
   "execution_count": 31,
   "id": "23ca5101-2797-49fc-8fd3-a1bbf0d0b2e5",
   "metadata": {},
   "outputs": [],
   "source": [
    "from scipy.sparse import csr_matrix\n",
    "\n",
    "class WordCounterToVectorTransformer(BaseEstimator, TransformerMixin):\n",
    "    def __init__(self, vocabulary_size=1000):\n",
    "        self.vocabulary_size = vocabulary_size\n",
    "    def fit(self, X, y=None):\n",
    "        total_count = Counter()\n",
    "        for word_count in X:\n",
    "            for word, count in word_count.items():\n",
    "                total_count[word] += min(count, 10)\n",
    "        most_common = total_count.most_common()[:self.vocabulary_size]\n",
    "        self.vocabulary_ = {word: index + 1\n",
    "                            for index, (word, count) in enumerate(most_common)}\n",
    "        return self\n",
    "    def transform(self, X, y=None):\n",
    "        rows = []\n",
    "        cols = []\n",
    "        data = []\n",
    "        for row, word_count in enumerate(X):\n",
    "            for word, count in word_count.items():\n",
    "                rows.append(row)\n",
    "                cols.append(self.vocabulary_.get(word, 0))\n",
    "                data.append(count)\n",
    "        return csr_matrix((data, (rows, cols)),\n",
    "                          shape=(len(X), self.vocabulary_size + 1))"
   ]
  },
  {
   "cell_type": "code",
   "execution_count": 71,
   "id": "06368c6b-333a-42c2-9052-19b2ddc71eaf",
   "metadata": {},
   "outputs": [
    {
     "data": {
      "text/plain": [
       "<3x101 sparse matrix of type '<class 'numpy.intc'>'\n",
       "\twith 112 stored elements in Compressed Sparse Row format>"
      ]
     },
     "execution_count": 71,
     "metadata": {},
     "output_type": "execute_result"
    }
   ],
   "source": [
    "vocab_transformer = WordCounterToVectorTransformer(vocabulary_size=100)\n",
    "X_few_vectors = vocab_transformer.fit_transform(X_few_wordcounts)\n",
    "X_few_vectors"
   ]
  },
  {
   "cell_type": "code",
   "execution_count": 72,
   "id": "e1ca9b4e-4add-43ed-896a-11d14e0456f7",
   "metadata": {},
   "outputs": [
    {
     "data": {
      "text/plain": [
       "array([[ 0,  0,  0,  0,  0,  0,  0,  0,  0,  0,  0,  0,  0,  1,  0,  0,\n",
       "         0,  0,  0,  0,  0,  0,  0,  0,  0,  0,  0,  0,  0,  0,  0,  0,\n",
       "         0,  0,  1,  1,  1,  1,  1,  0,  0,  0,  0,  0,  0,  0,  0,  0,\n",
       "         0,  0,  0,  0,  0,  0,  0,  0,  0,  0,  0,  0,  0,  0,  0,  0,\n",
       "         0,  0,  0,  0,  0,  0,  0,  0,  0,  0,  0,  0,  0,  0,  0,  0,\n",
       "         0,  0,  0,  0,  0,  0,  0,  0,  0,  0,  0,  0,  0,  0,  0,  0,\n",
       "         0,  0,  0,  0,  0],\n",
       "       [13, 11,  9,  8,  3,  1,  3,  1,  3,  2,  3,  0,  0,  0,  2,  2,\n",
       "         2,  2,  2,  2,  2,  1,  2,  2,  1,  2,  2,  0,  0,  0,  0,  0,\n",
       "         0,  0,  0,  0,  0,  0,  0,  1,  1,  1,  1,  1,  1,  1,  1,  1,\n",
       "         1,  1,  1,  1,  1,  1,  1,  1,  1,  1,  1,  1,  1,  1,  1,  1,\n",
       "         1,  1,  1,  1,  1,  1,  1,  1,  1,  1,  1,  1,  1,  1,  1,  1,\n",
       "         1,  1,  1,  1,  1,  1,  1,  1,  1,  1,  1,  1,  1,  1,  1,  1,\n",
       "         1,  1,  1,  1,  1],\n",
       "       [44,  0,  1,  2,  3,  4,  1,  2,  0,  1,  0,  3,  3,  1,  0,  0,\n",
       "         0,  0,  0,  0,  0,  1,  0,  0,  1,  0,  0,  2,  2,  2,  2,  2,\n",
       "         2,  2,  0,  0,  0,  0,  0,  0,  0,  0,  0,  0,  0,  0,  0,  0,\n",
       "         0,  0,  0,  0,  0,  0,  0,  0,  0,  0,  0,  0,  0,  0,  0,  0,\n",
       "         0,  0,  0,  0,  0,  0,  0,  0,  0,  0,  0,  0,  0,  0,  0,  0,\n",
       "         0,  0,  0,  0,  0,  0,  0,  0,  0,  0,  0,  0,  0,  0,  0,  0,\n",
       "         0,  0,  0,  0,  0]], dtype=int32)"
      ]
     },
     "execution_count": 72,
     "metadata": {},
     "output_type": "execute_result"
    }
   ],
   "source": [
    "X_few_vectors.toarray()"
   ]
  },
  {
   "cell_type": "code",
   "execution_count": 34,
   "id": "d3b5210f-a4a8-4a41-a3dc-857f06349a8a",
   "metadata": {},
   "outputs": [
    {
     "data": {
      "text/plain": [
       "{'the': 1,\n",
       " 'of': 2,\n",
       " 'and': 3,\n",
       " 'to': 4,\n",
       " 'url': 5,\n",
       " 'all': 6,\n",
       " 'in': 7,\n",
       " 'christian': 8,\n",
       " 'on': 9,\n",
       " 'by': 10}"
      ]
     },
     "execution_count": 34,
     "metadata": {},
     "output_type": "execute_result"
    }
   ],
   "source": [
    "vocab_transformer.vocabulary_"
   ]
  },
  {
   "cell_type": "code",
   "execution_count": 35,
   "id": "722eaed2-15c7-4274-87ed-999e355a3fc9",
   "metadata": {},
   "outputs": [],
   "source": [
    "from sklearn.pipeline import Pipeline\n",
    "\n",
    "preprocess_pipeline = Pipeline([\n",
    "    (\"email_to_wordcount\", EmailToWordCounterTransformer()),\n",
    "    (\"wordcount_to_vector\", WordCounterToVectorTransformer()),\n",
    "])\n",
    "\n",
    "X_train_transformed = preprocess_pipeline.fit_transform(X_train)"
   ]
  },
  {
   "cell_type": "code",
   "execution_count": 36,
   "id": "46c3b390-1bc8-49ee-8976-b9931ec8f93f",
   "metadata": {},
   "outputs": [
    {
     "data": {
      "text/plain": [
       "0.985"
      ]
     },
     "execution_count": 36,
     "metadata": {},
     "output_type": "execute_result"
    }
   ],
   "source": [
    "from sklearn.linear_model import LogisticRegression\n",
    "from sklearn.model_selection import cross_val_score\n",
    "\n",
    "log_clf = LogisticRegression(max_iter=1000, random_state=42)\n",
    "score = cross_val_score(log_clf, X_train_transformed, y_train, cv=3)\n",
    "score.mean()"
   ]
  },
  {
   "cell_type": "code",
   "execution_count": 37,
   "id": "890377d5-eb87-4957-93e5-a2c21df09480",
   "metadata": {},
   "outputs": [
    {
     "name": "stdout",
     "output_type": "stream",
     "text": [
      "Precision: 96.88%\n",
      "Recall: 97.89%\n"
     ]
    }
   ],
   "source": [
    "from sklearn.metrics import precision_score, recall_score\n",
    "\n",
    "X_test_transformed = preprocess_pipeline.transform(X_test)\n",
    "\n",
    "log_clf = LogisticRegression(max_iter=1000, random_state=42)\n",
    "log_clf.fit(X_train_transformed, y_train)\n",
    "\n",
    "y_pred = log_clf.predict(X_test_transformed)\n",
    "\n",
    "print(f\"Precision: {precision_score(y_test, y_pred):.2%}\")\n",
    "print(f\"Recall: {recall_score(y_test, y_pred):.2%}\")"
   ]
  },
  {
   "cell_type": "code",
   "execution_count": null,
   "id": "299d4b11-bd11-4aaf-8e54-fddba67eab1e",
   "metadata": {},
   "outputs": [],
   "source": []
  },
  {
   "cell_type": "code",
   "execution_count": null,
   "id": "3a2d5a8e-1f4c-43ab-a1c8-bf48159b49be",
   "metadata": {},
   "outputs": [],
   "source": []
  },
  {
   "cell_type": "code",
   "execution_count": null,
   "id": "de229103-96d6-4090-aae9-5c363f77988a",
   "metadata": {},
   "outputs": [],
   "source": []
  },
  {
   "cell_type": "code",
   "execution_count": null,
   "id": "3be5e13c-e601-4f2a-8fbd-b88732793b10",
   "metadata": {},
   "outputs": [],
   "source": []
  },
  {
   "cell_type": "code",
   "execution_count": null,
   "id": "63f6fe56-f285-4788-a49d-37ca5a23bb41",
   "metadata": {},
   "outputs": [],
   "source": []
  },
  {
   "cell_type": "code",
   "execution_count": null,
   "id": "53fcc972-6281-4bf2-a258-f51f87049304",
   "metadata": {},
   "outputs": [],
   "source": []
  },
  {
   "cell_type": "code",
   "execution_count": null,
   "id": "c724e181-f59a-4393-9c23-b947b1b68c75",
   "metadata": {},
   "outputs": [],
   "source": []
  },
  {
   "cell_type": "code",
   "execution_count": 38,
   "id": "3d09fe00-9d49-4611-9b0b-04470cfc0814",
   "metadata": {},
   "outputs": [],
   "source": [
    "# from sklearn.feature_extraction.text import CountVectorizer\n",
    "# from sklearn.naive_bayes import MultinomialNB\n",
    "# from sklearn.pipeline import Pipeline\n",
    "# from sklearn.metrics import accuracy_score, classification_report\n",
    "# import numpy as np\n",
    "# import email # email 모듈은 이메일 파싱에 필요합니다.\n",
    "# # --- 이메일 객체에서 텍스트 본문 추출 함수 추가 ---\n",
    "# def get_email_text(email_msg):\n",
    "#     # 이메일 메시지에서 가능한 모든 텍스트 페이로드를 추출합니다.\n",
    "#     # 여러 파트가 있을 수 있으므로 이터레이터를 사용하여 모든 파트 검색\n",
    "#     for part in email_msg.walk():\n",
    "#         # Plain text 본문만 찾습니다.\n",
    "#         ctype = part.get_content_type()\n",
    "#         cdispo = str(part.get('Content-Disposition'))\n",
    "#         if ctype == 'text/plain' and 'attachment' not in cdispo:\n",
    "#             try:\n",
    "#                 # 페이로드를 디코딩하여 문자열로 반환\n",
    "#                 return part.get_payload(decode=True).decode('utf-8', errors='ignore')\n",
    "#             except UnicodeDecodeError:\n",
    "#                 # 디코딩 오류 발생 시 다른 인코딩 시도 또는 빈 문자열 반환\n",
    "#                 return part.get_payload(decode=True).decode('latin-1', errors='ignore')\n",
    "#         # HTML 본문도 포함하려면 이 부분 수정 필요 (예: from html.parser import HTMLParser)\n",
    "#         # elif ctype == 'text/html':\n",
    "#         #    # HTML 본문 처리 로직 추가 (HTML 태그 제거 등)\n",
    "#         #    pass\n",
    "#     return \"\" # 텍스트 본문을 찾지 못하면 빈 문자열 반환\n",
    "\n",
    "# # X_train과 X_test의 이메일 객체들을 실제 텍스트 문자열 리스트로 변환\n",
    "# X_train_text = np.array([get_email_text(email_obj) for email_obj in X_train])\n",
    "# X_test_text = np.array([get_email_text(email_obj) for email_obj in X_test])\n",
    "\n",
    "# print(f\"\\n변환된 훈련 텍스트 데이터 크기 (X_train_text): {X_train_text.shape}\")\n",
    "# print(f\"변환된 테스트 텍스트 데이터 크기 (X_test_text): {X_test_text.shape}\")\n",
    "\n",
    "\n",
    "# # 텍스트 데이터를 숫자 벡터로 변환하고, 나이브 베이즈 모델을 훈련시키는 파이프라인 생성\n",
    "# model = Pipeline([\n",
    "#     ('vectorizer', CountVectorizer()),  # 1단계: 텍스트를 단어 빈도수 벡터로 변환\n",
    "#     ('classifier', MultinomialNB())     # 2단계: 나이브 베이즈 분류기로 학습\n",
    "# ])\n",
    "\n",
    "\n",
    "# # 모델 훈련 (이제 X_train_text를 사용합니다)\n",
    "# model.fit(X_train_text, y_train) # <- 여기를 X_train_text로 변경\n",
    "\n",
    "# # 테스트 데이터로 예측 (이제 X_test_text를 사용합니다)\n",
    "# y_pred = model.predict(X_test_text) # <- 여기를 X_test_text로 변경\n",
    "\n",
    "# # 모델 성능 평가\n",
    "# accuracy = accuracy_score(y_test, y_pred)\n",
    "# print(f\"\\n모델 정확도: {accuracy:.4f}\\n\")\n",
    "# print(\"모델 성능 상세 보고서:\")\n",
    "# print(classification_report(y_test, y_pred, target_names=['정상 (Ham)', '스팸 (Spam)']))\n",
    "\n",
    "# # # 새로운 이메일 예측 예시\n",
    "\n",
    "# # # 새로운 이메일도 모델에 넣기 전에 동일하게 텍스트로 변환\n",
    "# # new_emails_text = [get_email_text(email.message_from_string(e, policy=email.policy.default)) for e in new_emails]\n",
    "\n",
    "# # # 만약 new_emails가 이미 문자열이라면 단순히 아래와 같이 사용 가능:\n",
    "# # # new_emails_text = new_emails\n",
    "\n",
    "# # predictions = model.predict(new_emails_text) # <- 여기를 new_emails_text로 변경\n",
    "\n",
    "# # for email_text, pred in zip(new_emails, predictions): # 원본 new_emails를 출력\n",
    "# #     label = '스팸 (Spam)' if pred == 1 else '정상 (Ham)'\n",
    "# #     print(f\"\\n이메일: \\\"{email_text}\\\"\")\n",
    "# #     print(f\"예측 결과: {label}\")"
   ]
  },
  {
   "cell_type": "code",
   "execution_count": 39,
   "id": "aea94153-db79-460d-87dc-dda568a4dcd9",
   "metadata": {},
   "outputs": [],
   "source": [
    "# !pip install nltk"
   ]
  },
  {
   "cell_type": "code",
   "execution_count": 40,
   "id": "ce6688ec-7489-40bb-8144-01c834bb3ca4",
   "metadata": {},
   "outputs": [],
   "source": [
    "import nltk\n",
    "# nltk.download('punkt')\n",
    "# nltk.download('punkt_tab') 다운로드해"
   ]
  },
  {
   "cell_type": "code",
   "execution_count": 41,
   "id": "e96579c7-1cf8-4b02-9846-0e460dd60b14",
   "metadata": {},
   "outputs": [],
   "source": [
    "import nltk\n",
    "# nltk.download('punkt', download_dir='C:/Users/Owner/nltk_data')\n",
    "# nltk.data.path.append('C:/Users/CJ/nltk_data/tokenizers/punkt')\n",
    "# nltk.data.path.append('C:/Users/CJ/nltk_data/tokenizers/punkt_tab')\n",
    "\n"
   ]
  },
  {
   "cell_type": "code",
   "execution_count": 42,
   "id": "48ca1e15-2e61-4d23-8024-91a5cfa51936",
   "metadata": {},
   "outputs": [],
   "source": [
    "# nltk.download()"
   ]
  },
  {
   "cell_type": "code",
   "execution_count": 43,
   "id": "9dfa4937-73a6-4021-872c-b9840d214867",
   "metadata": {},
   "outputs": [],
   "source": [
    "# nltk.download('punkt_tab')"
   ]
  },
  {
   "cell_type": "code",
   "execution_count": 44,
   "id": "420341c3-3325-4235-867a-9f1d798e4f13",
   "metadata": {},
   "outputs": [
    {
     "name": "stdout",
     "output_type": "stream",
     "text": [
      "['Hello', ',', 'how', 'are', 'you', '?']\n"
     ]
    }
   ],
   "source": [
    "from nltk.tokenize import word_tokenize\n",
    "\n",
    "text = \"Hello, how are you?\"\n",
    "tokens = word_tokenize(text)\n",
    "print(tokens)"
   ]
  },
  {
   "cell_type": "code",
   "execution_count": 60,
   "id": "17cd6c82-62a1-4939-a188-3d3420493a0e",
   "metadata": {},
   "outputs": [],
   "source": [
    "import re\n",
    "import numpy as np\n",
    "from html import unescape\n",
    "from nltk.stem import PorterStemmer\n",
    "from nltk.tokenize import word_tokenize\n",
    "from sklearn.base import BaseEstimator, TransformerMixin\n",
    "from email.message import Message  # 이메일 타입 확인용\n",
    "\n",
    "\n",
    "class TextPreprocessor(BaseEstimator, TransformerMixin):\n",
    "    def __init__(self, remove_headers=True, to_lowercase=True, remove_punctuation=True,\n",
    "                 replace_urls=True, replace_numbers=True, perform_stemming=True):\n",
    "        self.remove_headers = remove_headers\n",
    "        self.to_lowercase = to_lowercase\n",
    "        self.remove_punctuation = remove_punctuation\n",
    "        self.replace_urls = replace_urls\n",
    "        self.replace_numbers = replace_numbers\n",
    "        self.perform_stemming = perform_stemming\n",
    "        self.stemmer = PorterStemmer()\n",
    "\n",
    "    # HTML을 일반 텍스트로 변환\n",
    "    def html_to_plain_text(self, html):\n",
    "        text = re.sub('<head.*?>.*?</head>', '', html, flags=re.M | re.S | re.I)\n",
    "        text = re.sub('<a\\s.*?>', ' HYPERLINK ', text, flags=re.M | re.S | re.I)\n",
    "        text = re.sub('<.*?>', '', text, flags=re.M | re.S)\n",
    "        text = re.sub(r'(\\s*\\n)+', '\\n', text, flags=re.M | re.S)\n",
    "        return unescape(text)\n",
    "\n",
    "    # 이메일 객체에서 텍스트 추출\n",
    "    def extract_email_text(self, email_obj):\n",
    "        html = None\n",
    "        for part in email_obj.walk():\n",
    "            ctype = part.get_content_type()\n",
    "            if ctype not in (\"text/plain\", \"text/html\"):\n",
    "                continue\n",
    "            try:\n",
    "                content = part.get_content()\n",
    "            except:\n",
    "                content = str(part.get_payload())\n",
    "            if ctype == \"text/plain\":\n",
    "                return content\n",
    "            else:\n",
    "                html = content\n",
    "        if html:\n",
    "            return self.html_to_plain_text(html)\n",
    "        return \"\"\n",
    "\n",
    "    # 전체 텍스트 전처리\n",
    "    def preprocess(self, text):\n",
    "        # 이메일 객체인 경우 텍스트 추출\n",
    "        if isinstance(text, Message):\n",
    "            text = self.extract_email_text(text)\n",
    "        elif not isinstance(text, str):\n",
    "            text = str(text) if text is not None else \"\"\n",
    "\n",
    "        if self.remove_headers:\n",
    "            text = re.sub(r'^\\S+:', '', text, flags=re.MULTILINE)\n",
    "            text = text.strip()\n",
    "\n",
    "        if self.to_lowercase:\n",
    "            text = text.lower()\n",
    "\n",
    "        if self.replace_urls:\n",
    "            text = re.sub(r'https?://\\S+|www\\.\\S+', 'URL', text)\n",
    "\n",
    "        if self.replace_numbers:\n",
    "            text = re.sub(r'\\d+', 'NUMBER', text)\n",
    "\n",
    "        if self.remove_punctuation:\n",
    "            text = re.sub(r'[^\\w\\s]', '', text)\n",
    "\n",
    "        if self.perform_stemming:\n",
    "            try:\n",
    "                words = word_tokenize(text)\n",
    "                text = ' '.join([self.stemmer.stem(word) for word in words])\n",
    "            except Exception as e:\n",
    "                print(f\"[토큰화 오류] {e}\")\n",
    "                text = \"\"\n",
    "\n",
    "        return text\n",
    "\n",
    "    def fit(self, X, y=None):\n",
    "        return self\n",
    "\n",
    "    def transform(self, X):\n",
    "        if not isinstance(X, (list, np.ndarray)):\n",
    "            raise TypeError(f\"입력 데이터 X는 리스트나 배열이어야 합니다. 현재 타입: {type(X)}\")\n",
    "        return np.array([self.preprocess(text) for text in X])\n"
   ]
  },
  {
   "cell_type": "code",
   "execution_count": 61,
   "id": "08c0f5fd-a7a7-453a-9522-65ab6c87ae34",
   "metadata": {},
   "outputs": [
    {
     "name": "stdout",
     "output_type": "stream",
     "text": [
      "\n",
      "📧 훈련 이메일 본문 (X_train[0]):\n",
      "\n",
      "--- In forteana@y..., \"Martin Adamson\" <martin@s...> wrote:\n",
      "> For an alternative, and rather more factually based, rundown on \n",
      "Hamza's \n",
      "> career, including his belief that all non Muslims in Yemen should \n",
      "be murdered \n",
      "> outright:\n",
      "> \n",
      "> http://memri.org/bin/articles.cgi?Page=archives&Area=ia&ID=IA7201\n",
      "\n",
      "And we know how unbiased MEMRI is, don't we....\n",
      "\n",
      "http://www.guardian.co.uk/elsewhere/journalist/story/0,7792,773258,00.\n",
      "html\n",
      "\n",
      "Rob\n",
      "\n",
      "\n",
      "------------------------ Yahoo! Groups Sponsor ---------------------~-->\n",
      "4 DVDs Free +s&p Join Now\n",
      "http://us.click.yahoo.com/pt6YBB/NXiEAA/MVfIAA/7gSolB/TM\n",
      "---------------------------------------------------------------------~->\n",
      "\n",
      "To unsubscribe from this group, send an email to:\n",
      "forteana-unsubscribe@egroups.com\n",
      "\n",
      " \n",
      "\n",
      "Your use of Yahoo! Groups is subject to http://docs.yahoo.com/info/terms/ \n",
      "\n",
      "\n",
      "\n",
      "\n"
     ]
    }
   ],
   "source": [
    "sample_email = X_train[2]\n",
    "\n",
    "# 본문 텍스트 추출\n",
    "sample_text = get_email_text(sample_email)\n",
    "\n",
    "print(\"\\n📧 훈련 이메일 본문 (X_train[0]):\\n\")\n",
    "print(sample_text[:1000])  # 너무 길면 앞부분만 출력"
   ]
  },
  {
   "cell_type": "code",
   "execution_count": 62,
   "id": "1b7bc323-8d73-44aa-b239-0ed35ed470ae",
   "metadata": {},
   "outputs": [
    {
     "name": "stdout",
     "output_type": "stream",
     "text": [
      "\n",
      "훈련 데이터 크기 (X_train): (2400,)\n",
      "훈련 레이블 크기 (y_train): (2400,)\n",
      "테스트 데이터 크기 (X_test): (600,)\n",
      "테스트 레이블 크기 (y_test): (600,)\n"
     ]
    }
   ],
   "source": [
    "print(f\"\\n훈련 데이터 크기 (X_train): {X_train.shape}\")\n",
    "print(f\"훈련 레이블 크기 (y_train): {y_train.shape}\")\n",
    "print(f\"테스트 데이터 크기 (X_test): {X_test.shape}\")\n",
    "print(f\"테스트 레이블 크기 (y_test): {y_test.shape}\")"
   ]
  },
  {
   "cell_type": "code",
   "execution_count": null,
   "id": "34733069-9509-4a1d-9b9b-dda816c5ebc1",
   "metadata": {},
   "outputs": [],
   "source": []
  },
  {
   "cell_type": "code",
   "execution_count": null,
   "id": "ac5ff7e3-bcd1-4873-9996-be36ac6b108b",
   "metadata": {},
   "outputs": [],
   "source": []
  },
  {
   "cell_type": "code",
   "execution_count": null,
   "id": "e2fe62e0-d83a-4a91-9b0c-dc420b4fe5dc",
   "metadata": {},
   "outputs": [],
   "source": []
  },
  {
   "cell_type": "code",
   "execution_count": 63,
   "id": "e68a9c9e-8fc9-4e2b-94d3-bb58f0b4f9e4",
   "metadata": {},
   "outputs": [],
   "source": [
    "\n",
    "\n",
    "\n",
    "\n",
    "# 텍스트 전처리 파이프라인과 모델 생성\n",
    "model = Pipeline([\n",
    "    ('preprocessor', TextPreprocessor(\n",
    "        remove_headers=True,\n",
    "        to_lowercase=True,\n",
    "        remove_punctuation=True,\n",
    "        replace_urls=True,\n",
    "        replace_numbers=True,\n",
    "        perform_stemming=True\n",
    "    )),\n",
    "    ('vectorizer', CountVectorizer()),\n",
    "    ('classifier', MultinomialNB())\n",
    "])\n",
    "\n"
   ]
  },
  {
   "cell_type": "code",
   "execution_count": 65,
   "id": "59f39c0f-518b-49d8-8871-7efa2ba7686b",
   "metadata": {},
   "outputs": [
    {
     "name": "stdout",
     "output_type": "stream",
     "text": [
      "\n",
      "모델 정확도: 0.9917\n",
      "\n",
      "모델 성능 상세 보고서:\n",
      "              precision    recall  f1-score   support\n",
      "\n",
      "    정상 (Ham)       0.99      1.00      1.00       505\n",
      "   스팸 (Spam)       1.00      0.95      0.97        95\n",
      "\n",
      "    accuracy                           0.99       600\n",
      "   macro avg       1.00      0.97      0.98       600\n",
      "weighted avg       0.99      0.99      0.99       600\n",
      "\n"
     ]
    }
   ],
   "source": [
    "\n",
    "# 모델 훈련\n",
    "model.fit(X_train, y_train)\n",
    "\n",
    "# 테스트 데이터로 예측\n",
    "y_pred = model.predict(X_test)\n",
    "\n",
    "# 모델 성능 평가\n",
    "accuracy = accuracy_score(y_test, y_pred)\n",
    "print(f\"\\n모델 정확도: {accuracy:.4f}\\n\")\n",
    "print(\"모델 성능 상세 보고서:\")\n",
    "print(classification_report(y_test, y_pred, target_names=['정상 (Ham)', '스팸 (Spam)']))"
   ]
  },
  {
   "cell_type": "code",
   "execution_count": null,
   "id": "b14c28c0-ed33-4b88-8a22-e7069173ce94",
   "metadata": {},
   "outputs": [],
   "source": []
  },
  {
   "cell_type": "code",
   "execution_count": 66,
   "id": "c90896b0-69a3-4b29-b644-d863fd4a8630",
   "metadata": {},
   "outputs": [
    {
     "name": "stdout",
     "output_type": "stream",
     "text": [
      "\n",
      "--- 샘플 1 ---\n",
      "원본:\n",
      "Return-Path: <fork-admin@xent.com>\n",
      "Delivered-To: yyyy@localhost.spamassassin.taint.org\n",
      "Received: from localhost (jalapeno [127.0.0.1])\n",
      "\tby jmason.org (Postfix) with ESMTP id DEA8516F03\n",
      "\tfor <jm@localhost>; Thu, 19 Sep 2002 13:26:35 +0100 (IST)\n",
      "Received: from jalapeno [127.0.0.1]\n",
      "\tby localhost with I\n",
      "\n",
      "전처리 후:\n",
      "chuck murcko wrote stuff yawn r\n",
      "\n",
      "--- 샘플 2 ---\n",
      "원본:\n",
      "Return-Path: <fork-admin@xent.com>\n",
      "Delivered-To: yyyy@localhost.spamassassin.taint.org\n",
      "Received: from localhost (jalapeno [127.0.0.1])\n",
      "\tby jmason.org (Postfix) with ESMTP id BFA4916F03\n",
      "\tfor <jm@localhost>; Sun, 22 Sep 2002 14:11:52 +0100 (IST)\n",
      "Received: from jalapeno [127.0.0.1]\n",
      "\tby localhost with I\n",
      "\n",
      "전처리 후:\n",
      "some interest quot url thoma jefferson i have examin all the known superstit of the word and i do not find in our particular superstit of christian one redeem featur they are all alik found on fabl and mytholog million of innoc men women and children sinc the introduct of christian have been burnt tortur fine and imprison what ha been the effect of thi coercion to make one half the world fool and the other half hypocrit to support rogueri and error all over the earth six histor american by john e remsburg letter to william short jefferson again christianityha becom the most pervert system that ever shone on man rogueri absurd and untruth were perpetr upon the teach of jesu by a larg band of dupe and import led by paul the first great corrupt of the teach of jesu\n",
      "\n",
      "--- 샘플 3 ---\n",
      "원본:\n",
      "Return-Path: <robert.chambers@baesystems.com>\n",
      "Delivered-To: zzzz@localhost.netnoteinc.com\n",
      "Received: from localhost (localhost [127.0.0.1])\n",
      "\tby phobos.labs.netnoteinc.com (Postfix) with ESMTP id C9D2643F99\n",
      "\tfor <zzzz@localhost>; Wed, 28 Aug 2002 07:22:42 -0400 (EDT)\n",
      "Received: from phobos [127.0.0.1]\n",
      "\n",
      "\n",
      "전처리 후:\n",
      "in forteanay martin adamson martin wrote for an altern and rather more factual base rundown on hamza career includ hi belief that all non muslim in yemen should be murder outright url and we know how unbias memri is dont we url html rob yahoo group sponsor number dvd free sp join now usclickyahoocomptnumberybbnxieaamvfiaanumbergsolbtm to unsubscrib from thi group send an email to forteanaunsubscribeegroupscom your use of yahoo group is subject to url\n",
      "\n",
      "--- 샘플 4 ---\n",
      "원본:\n",
      "Return-Path: tim.one@comcast.net\n",
      "Delivery-Date: Sat Sep  7 06:40:45 2002\n",
      "From: tim.one@comcast.net (Tim Peters)\n",
      "Date: Sat, 07 Sep 2002 01:40:45 -0400\n",
      "Subject: [Spambayes] Maybe change X-Spam-Disposition to something else...\n",
      "In-Reply-To: <15737.33815.719456.367026@12-248-11-90.client.attbi.com>\n",
      "Messa\n",
      "\n",
      "전처리 후:\n",
      "skip montanaro to anthoni baxter accordingli i wrote unheaderpi which is mostli a ripoff of someth someon els post to pythondev or clpi within the last week or so to strip out sagener header unless ive grown senil tonight you got it from anthoni to begin with pleas check it in to project and add a short blurb to readmetxt\n",
      "\n",
      "--- 샘플 5 ---\n",
      "원본:\n",
      "Return-Path: <exmh-users-admin@spamassassin.taint.org>\n",
      "Delivered-To: yyyy@localhost.spamassassin.taint.org\n",
      "Received: from localhost (jalapeno [127.0.0.1])\n",
      "\tby jmason.org (Postfix) with ESMTP id B346E16F03\n",
      "\tfor <jm@localhost>; Fri, 13 Sep 2002 13:35:10 +0100 (IST)\n",
      "Received: from jalapeno [127.0.0.1]\n",
      "\n",
      "\n",
      "전처리 후:\n",
      "on fri number sep number toni toni nugent wrote toni in essenc is there a way to mark a destin folder toni for a messag link or move without actual do a move toni or link i couldnt see anyth obviou number right click on the folder label in the folder list number in the main window the key put you into a chang folder mode the first time you use it after start exmh hit a second and you go to set a target mode type a few charact of the folder name and hit space for autocomplet hal how spring shape up down under _______________________________________________ exmhus mail list exmhusersredhatcom listmanredhatcommailmanlistinfoexmhus\n"
     ]
    }
   ],
   "source": [
    "# 예시: 원본 텍스트 샘플\n",
    "sample_texts = X_train[:5]  # 또는 임의의 이메일 본문 리스트\n",
    "\n",
    "# 전처리 객체 추출\n",
    "preprocessor = model.named_steps['preprocessor']\n",
    "\n",
    "# 전처리 결과 확인\n",
    "preprocessed_texts = preprocessor.transform(sample_texts)\n",
    "\n",
    "# 결과 출력\n",
    "for i, (original, processed) in enumerate(zip(sample_texts, preprocessed_texts)):\n",
    "    print(f\"\\n--- 샘플 {i+1} ---\")\n",
    "    print(\"원본:\")\n",
    "    print(original if isinstance(original, str) else str(original)[:300])  # 너무 길면 자르기\n",
    "    print(\"\\n전처리 후:\")\n",
    "    print(processed)\n"
   ]
  },
  {
   "cell_type": "code",
   "execution_count": null,
   "id": "87152b91-6ee4-4fb7-ad53-73e078f33eaf",
   "metadata": {},
   "outputs": [],
   "source": []
  },
  {
   "cell_type": "code",
   "execution_count": 70,
   "id": "abef61c1-a0fc-4d9d-88ca-23c6b4462fb7",
   "metadata": {},
   "outputs": [
    {
     "name": "stdout",
     "output_type": "stream",
     "text": [
      "\n",
      "단어장 예시: ['_______________________________________________' 'absurd' 'accordingli'\n",
      " 'actual' 'adamson' 'add' 'after' 'again' 'alik' 'all']\n",
      "\n",
      "벡터화된 첫 번째 샘플의 벡터:\n",
      "[[0 0 0 0 1 0 0 0 0 1 1 0 2 2 0 0 0 0 0 1 0 1 0 0 0 1 0 0 0 1 0 0 0 0 0 0\n",
      "  0 0 0 0 0 0 0 0 1 0 0 1 0 0 0 1 0 0 0 0 0 0 0 0 1 0 0 0 0 0 0 0 1 1 1 0\n",
      "  1 0 1 0 0 0 3 0 0 0 0 1 0 0 1 0 0 1 1 0 0 0 2 1 0 0 0 0 2 0 0 0 0 0 1 0\n",
      "  1 0 0 0 0 0 0 0 0 0 0 0 0 0 0 2 1 0 0 0 0 0 1 0 0 0 0 1 1 0 0 1 0 1 0 1\n",
      "  0 1 1 0 0 0 0 0 1 0 0 0 0 0 0 0 0 0 0 0 1 0 0 0 0 0 1 0 1 0 0 0 1 0 0 0\n",
      "  0 0 0 1 0 0 0 0 0 0 0 1 0 1 0 0 0 0 1 0 0 0 0 0 1 0 0 0 1 0 0 3 0 0 0 0\n",
      "  1 0 0 0 1 0 0 0 3 1 1 0 2 0 0 0 0 0 0 0 0 0 0 0 0 1 2 0 1 0 1]]\n"
     ]
    }
   ],
   "source": [
    "# 벡터화까지 확인\n",
    "vec = model.named_steps['vectorizer']\n",
    "vec_result = vec.fit_transform(preprocessed_texts)\n",
    "\n",
    "# 단어장 확인\n",
    "print(\"\\n단어장 예시:\", vec.get_feature_names_out()[:10])\n",
    "\n",
    "# 희소 행렬의 숫자 배열 보기\n",
    "print(\"\\n벡터화된 첫 번째 샘플의 벡터:\")\n",
    "print(vec_result[2].toarray())\n"
   ]
  },
  {
   "cell_type": "code",
   "execution_count": null,
   "id": "83097103-1825-4433-bf29-bae3e6b5a2fb",
   "metadata": {},
   "outputs": [],
   "source": []
  },
  {
   "cell_type": "code",
   "execution_count": null,
   "id": "35b2a67e-c279-42f6-972d-cb8fefb54e40",
   "metadata": {},
   "outputs": [],
   "source": [
    "\n"
   ]
  },
  {
   "cell_type": "code",
   "execution_count": null,
   "id": "5438cea1-1280-4b20-b649-15854276c242",
   "metadata": {},
   "outputs": [],
   "source": []
  },
  {
   "cell_type": "code",
   "execution_count": null,
   "id": "577ec0bb-94f9-42d8-ad2d-5339cc8618e6",
   "metadata": {},
   "outputs": [],
   "source": []
  },
  {
   "cell_type": "code",
   "execution_count": null,
   "id": "2bed6f10-a2d9-48aa-bff1-e448a6b608cb",
   "metadata": {},
   "outputs": [],
   "source": []
  },
  {
   "cell_type": "code",
   "execution_count": null,
   "id": "9fb133a6-b9aa-46b0-9197-9f94028de1a9",
   "metadata": {},
   "outputs": [],
   "source": []
  },
  {
   "cell_type": "code",
   "execution_count": null,
   "id": "bcc4cbdd-b947-44e4-90af-38e5bc6f2b60",
   "metadata": {},
   "outputs": [],
   "source": []
  },
  {
   "cell_type": "code",
   "execution_count": 107,
   "id": "2762d497-696a-41c7-8261-23437707a786",
   "metadata": {},
   "outputs": [
    {
     "name": "stdout",
     "output_type": "stream",
     "text": [
      "\n",
      "--- 새로운 이메일 예측 결과 ---\n",
      "\n",
      "이메일: \"Subject: Special Offer for You!\n",
      "Hello, claim your 1000 free credits now at this amazing site: http://best-deals.com/free. Limited time!\"\n",
      "예측 결과: 스팸 (Spam)\n",
      "\n",
      "이메일: \"Subject: Meeting Confirmation\n",
      "Hi, confirming our meeting at 3 PM. See you there.\"\n",
      "예측 결과: 정상 (Ham)\n",
      "\n",
      "이메일: \"Subject: Your personal loan has been approved!\n",
      "Click on this link to activate: https://loan.org/activate?id=345678. Act now!\"\n",
      "예측 결과: 정상 (Ham)\n"
     ]
    }
   ],
   "source": [
    "\n",
    "# 새로운 이메일 예측 예시\n",
    "new_emails = [\n",
    "    \"Subject: Special Offer for You!\\nHello, claim your 1000 free credits now at this amazing site: http://best-deals.com/free. Limited time!\",\n",
    "    \"Subject: Meeting Confirmation\\nHi, confirming our meeting at 3 PM. See you there.\",\n",
    "    \"Subject: Your personal loan has been approved!\\nClick on this link to activate: https://loan.org/activate?id=345678. Act now!\"\n",
    "]\n",
    "\n",
    "predictions = model.predict(np.array(new_emails))\n",
    "\n",
    "print(\"\\n--- 새로운 이메일 예측 결과 ---\")\n",
    "for email_text, pred in zip(new_emails, predictions):\n",
    "    label = '스팸 (Spam)' if pred == 1 else '정상 (Ham)'\n",
    "    print(f\"\\n이메일: \\\"{email_text.strip()}\\\"\")\n",
    "    print(f\"예측 결과: {label}\")"
   ]
  },
  {
   "cell_type": "code",
   "execution_count": null,
   "id": "dbe1ecac-02da-4626-abd2-1a1be9ed5f82",
   "metadata": {},
   "outputs": [],
   "source": []
  },
  {
   "cell_type": "code",
   "execution_count": null,
   "id": "baaa769a-5cef-4ed5-b50d-8ebb00c43782",
   "metadata": {},
   "outputs": [],
   "source": []
  },
  {
   "cell_type": "code",
   "execution_count": null,
   "id": "8ce7ca85-208c-4116-8418-e9f3a27cdf7f",
   "metadata": {},
   "outputs": [],
   "source": []
  },
  {
   "cell_type": "code",
   "execution_count": null,
   "id": "6f4b7684-a2db-4868-9be6-2e54288f7bc0",
   "metadata": {},
   "outputs": [],
   "source": []
  },
  {
   "cell_type": "code",
   "execution_count": 78,
   "id": "0f35485b-567e-481d-a0d2-f6c8afb19f9d",
   "metadata": {},
   "outputs": [
    {
     "name": "stdout",
     "output_type": "stream",
     "text": [
      "\n",
      "[원본 텍스트 예시]\n",
      "Chuck Murcko wrote:\n",
      ">[...stuff...]\n",
      "\n",
      "Yawn.\n",
      "\n",
      "R\n",
      "\n",
      "\n",
      "\n",
      "\n",
      "[전처리된 텍스트 예시]\n",
      "chuck murcko wrote stuff yawn r\n"
     ]
    }
   ],
   "source": [
    "print(\"\\n[원본 텍스트 예시]\")\n",
    "print(X_train_text[0][:300])\n",
    "\n",
    "# 전처리 후 텍스트 출력\n",
    "preprocessor = TextPreprocessor()\n",
    "print(\"\\n[전처리된 텍스트 예시]\")\n",
    "print(preprocessor.preprocess(X_train_text[0])[:300])"
   ]
  },
  {
   "cell_type": "code",
   "execution_count": 79,
   "id": "381dbe62-78a2-4654-9e18-4739ade08aa0",
   "metadata": {},
   "outputs": [
    {
     "name": "stdout",
     "output_type": "stream",
     "text": [
      "\n",
      "==================================================\n",
      "2. Logistic Regression 모델\n",
      "==================================================\n",
      "\n",
      "모델 정확도: 0.9467\n",
      "\n",
      "모델 성능 상세 보고서:\n",
      "              precision    recall  f1-score   support\n",
      "\n",
      "    정상 (Ham)       0.99      0.95      0.97       505\n",
      "   스팸 (Spam)       0.78      0.93      0.85        95\n",
      "\n",
      "    accuracy                           0.95       600\n",
      "   macro avg       0.88      0.94      0.91       600\n",
      "weighted avg       0.95      0.95      0.95       600\n",
      "\n",
      "\n",
      "--- 새로운 이메일 예측 결과 (Logistic Regression) ---\n",
      "\n",
      "이메일: \"Subject: Special Offer for You!\n",
      "Hello, claim your 1000 free credits now at this amazing site: http://best-deals.com/free. Limited time!\"\n",
      "예측 결과: 스팸 (Spam)\n",
      "\n",
      "이메일: \"Subject: Meeting Confirmation\n",
      "Hi, confirming our meeting at 3 PM. See you there.\"\n",
      "예측 결과: 스팸 (Spam)\n",
      "\n",
      "이메일: \"Subject: Your personal loan has been approved!\n",
      "Click on this link to activate: https://loan.org/activate?id=345678. Act now!\"\n",
      "예측 결과: 스팸 (Spam)\n"
     ]
    }
   ],
   "source": [
    "import numpy as np\n",
    "import email\n",
    "from sklearn.model_selection import train_test_split\n",
    "from sklearn.feature_extraction.text import CountVectorizer\n",
    "from sklearn.naive_bayes import MultinomialNB\n",
    "from sklearn.pipeline import Pipeline\n",
    "from sklearn.metrics import accuracy_score, classification_report\n",
    "import re\n",
    "from nltk.stem import PorterStemmer\n",
    "from nltk.tokenize import word_tokenize\n",
    "import warnings\n",
    "\n",
    "# NLTK 다운로드 경고 비활성화\n",
    "warnings.filterwarnings(\"ignore\", category=UserWarning, module=\"nltk\")\n",
    "\n",
    "# NLTK 데이터 다운로드 (최초 실행 시 필요)\n",
    "import nltk\n",
    "# try:\n",
    "#     nltk.data.find('tokenizers/punkt')\n",
    "# except nltk.downloader.DownloadError:\n",
    "#     nltk.download('punkt')\n",
    "\n",
    "# try:\n",
    "#     nltk.data.find('stemmers/porter')\n",
    "# except nltk.downloader.DownloadError:\n",
    "#     nltk.download('porter')\n",
    "\n",
    "\n",
    "# --- 이메일 객체에서 텍스트 본문 추출 함수 추가 ---\n",
    "def get_email_text(email_msg):\n",
    "    for part in email_msg.walk():\n",
    "        ctype = part.get_content_type()\n",
    "        cdispo = str(part.get('Content-Disposition'))\n",
    "        if ctype == 'text/plain' and 'attachment' not in cdispo:\n",
    "            try:\n",
    "                return part.get_payload(decode=True).decode('utf-8', errors='ignore')\n",
    "            except UnicodeDecodeError:\n",
    "                return part.get_payload(decode=True).decode('latin-1', errors='ignore')\n",
    "    return \"\"\n",
    "\n",
    "# --- 텍스트 전처리 함수 ---\n",
    "class TextPreprocessor:\n",
    "    def __init__(self, remove_headers=True, to_lowercase=True, remove_punctuation=True,\n",
    "                 replace_urls=True, replace_numbers=True, perform_stemming=True):\n",
    "        self.remove_headers = remove_headers\n",
    "        self.to_lowercase = to_lowercase\n",
    "        self.remove_punctuation = remove_punctuation\n",
    "        self.replace_urls = replace_urls\n",
    "        self.replace_numbers = replace_numbers\n",
    "        self.perform_stemming = perform_stemming\n",
    "        self.stemmer = PorterStemmer()\n",
    "\n",
    "    def preprocess(self, text):\n",
    "        # 헤더 제거 (간단한 방법, 완벽하지 않을 수 있음)\n",
    "        if self.remove_headers:\n",
    "            # 이메일 헤더는 보통 콜론(:)으로 끝나는 라인으로 구성되므로, 이를 제거\n",
    "            # 첫 번째 빈 줄 이후의 내용을 본문으로 간주하는 것이 더 효과적일 수 있습니다.\n",
    "            # 여기서는 간단히 첫 번째 헤더 라인만 제거하는 방식으로 시도합니다.\n",
    "            text_lines = text.split('\\n')\n",
    "            processed_lines = []\n",
    "            header_end = False\n",
    "            for line in text_lines:\n",
    "                if not line.strip() and not header_end: # 첫 빈 줄을 찾음\n",
    "                    header_end = True\n",
    "                    continue\n",
    "                if header_end:\n",
    "                    processed_lines.append(line)\n",
    "            text = '\\n'.join(processed_lines)\n",
    "            \n",
    "            # 추가적으로 'Subject:'와 같은 헤더 자체를 제거 (남아있을 경우)\n",
    "            text = re.sub(r'Subject:.*?\\n', '', text, flags=re.DOTALL) # Subject 라인 제거\n",
    "            text = re.sub(r'From:.*?\\n', '', text, flags=re.DOTALL) # From 라인 제거\n",
    "            text = re.sub(r'To:.*?\\n', '', text, flags=re.DOTALL) # To 라인 제거\n",
    "            text = re.sub(r'Date:.*?\\n', '', text, flags=re.DOTALL) # Date 라인 제거\n",
    "            text = text.strip()\n",
    "\n",
    "\n",
    "        if self.to_lowercase:\n",
    "            text = text.lower()\n",
    "\n",
    "        if self.replace_urls:\n",
    "            text = re.sub(r'https?://\\S+|www\\.\\S+', 'URL', text)\n",
    "\n",
    "        if self.replace_numbers:\n",
    "            text = re.sub(r'\\d+', 'NUMBER', text)\n",
    "\n",
    "        if self.remove_punctuation:\n",
    "            text = re.sub(r'[^\\w\\s]', '', text)\n",
    "\n",
    "        if self.perform_stemming:\n",
    "            words = word_tokenize(text)\n",
    "            text = ' '.join([self.stemmer.stem(word) for word in words])\n",
    "            \n",
    "        # 불필요한 공백 제거\n",
    "        text = re.sub(r'\\s+', ' ', text).strip()\n",
    "\n",
    "        return text\n",
    "\n",
    "    def transform(self, X):\n",
    "        return np.array([self.preprocess(text) for text in X])\n",
    "\n",
    "    def fit(self, X, y=None):\n",
    "        return self\n",
    "\n",
    "\n",
    "# --- 모델 정의 및 평가 ---\n",
    "\n",
    "\n",
    "# 2. Logistic Regression 모델\n",
    "print(\"\\n\" + \"=\"*50)\n",
    "print(\"2. Logistic Regression 모델\")\n",
    "print(\"=\"*50)\n",
    "\n",
    "model_lr = Pipeline([\n",
    "    ('preprocessor', TextPreprocessor(\n",
    "        remove_headers=True, to_lowercase=True, remove_punctuation=True,\n",
    "        replace_urls=True, replace_numbers=True, perform_stemming=True\n",
    "    )),\n",
    "    ('vectorizer', CountVectorizer()),\n",
    "    ('classifier', LogisticRegression(max_iter=1000, solver='liblinear', random_state=42))\n",
    "])\n",
    "\n",
    "model_lr.fit(X_train_text, y_train)\n",
    "y_pred_lr = model_lr.predict(X_test_text)\n",
    "\n",
    "print(f\"\\n모델 정확도: {accuracy_score(y_test, y_pred_lr):.4f}\\n\")\n",
    "print(\"모델 성능 상세 보고서:\")\n",
    "print(classification_report(y_test, y_pred_lr, target_names=['정상 (Ham)', '스팸 (Spam)']))\n",
    "\n",
    "print(\"\\n--- 새로운 이메일 예측 결과 (Logistic Regression) ---\")\n",
    "predictions_lr = model_lr.predict(np.array(new_emails))\n",
    "for email_text, pred in zip(new_emails, predictions_lr):\n",
    "    label = '스팸 (Spam)' if pred == 1 else '정상 (Ham)'\n",
    "    print(f\"\\n이메일: \\\"{email_text.strip()}\\\"\")\n",
    "    print(f\"예측 결과: {label}\")\n",
    "\n"
   ]
  },
  {
   "cell_type": "code",
   "execution_count": 80,
   "id": "c2c4b516-afe4-4e36-96ea-fe8d85897dc2",
   "metadata": {},
   "outputs": [
    {
     "name": "stdout",
     "output_type": "stream",
     "text": [
      "\n",
      "==================================================\n",
      "3. Linear Support Vector Machine (LinearSVC) 모델\n",
      "==================================================\n"
     ]
    },
    {
     "name": "stderr",
     "output_type": "stream",
     "text": [
      "C:\\Users\\CJ\\anaconda3\\envs\\py3_8_10\\lib\\site-packages\\sklearn\\svm\\_classes.py:32: FutureWarning: The default value of `dual` will change from `True` to `'auto'` in 1.5. Set the value of `dual` explicitly to suppress the warning.\n",
      "  warnings.warn(\n",
      "C:\\Users\\CJ\\anaconda3\\envs\\py3_8_10\\lib\\site-packages\\sklearn\\svm\\_base.py:1250: ConvergenceWarning: Liblinear failed to converge, increase the number of iterations.\n",
      "  warnings.warn(\n"
     ]
    },
    {
     "name": "stdout",
     "output_type": "stream",
     "text": [
      "\n",
      "모델 정확도: 0.9233\n",
      "\n",
      "모델 성능 상세 보고서:\n",
      "              precision    recall  f1-score   support\n",
      "\n",
      "    정상 (Ham)       0.97      0.94      0.95       505\n",
      "   스팸 (Spam)       0.72      0.85      0.78        95\n",
      "\n",
      "    accuracy                           0.92       600\n",
      "   macro avg       0.84      0.89      0.87       600\n",
      "weighted avg       0.93      0.92      0.93       600\n",
      "\n",
      "\n",
      "--- 새로운 이메일 예측 결과 (LinearSVC) ---\n",
      "\n",
      "이메일: \"Subject: Special Offer for You!\n",
      "Hello, claim your 1000 free credits now at this amazing site: http://best-deals.com/free. Limited time!\"\n",
      "예측 결과: 스팸 (Spam)\n",
      "\n",
      "이메일: \"Subject: Meeting Confirmation\n",
      "Hi, confirming our meeting at 3 PM. See you there.\"\n",
      "예측 결과: 스팸 (Spam)\n",
      "\n",
      "이메일: \"Subject: Your personal loan has been approved!\n",
      "Click on this link to activate: https://loan.org/activate?id=345678. Act now!\"\n",
      "예측 결과: 스팸 (Spam)\n"
     ]
    }
   ],
   "source": [
    "\n",
    "# 3. Linear Support Vector Machine (LinearSVC) 모델\n",
    "print(\"\\n\" + \"=\"*50)\n",
    "print(\"3. Linear Support Vector Machine (LinearSVC) 모델\")\n",
    "print(\"=\"*50)\n",
    "\n",
    "from sklearn.svm import LinearSVC\n",
    "\n",
    "model_svc = Pipeline([\n",
    "    ('preprocessor', TextPreprocessor(\n",
    "        remove_headers=True, to_lowercase=True, remove_punctuation=True,\n",
    "        replace_urls=True, replace_numbers=True, perform_stemming=True\n",
    "    )),\n",
    "    ('vectorizer', CountVectorizer()),\n",
    "    ('classifier', LinearSVC(max_iter=2000, random_state=42)) # max_iter 증가\n",
    "])\n",
    "\n",
    "model_svc.fit(X_train_text, y_train)\n",
    "y_pred_svc = model_svc.predict(X_test_text)\n",
    "\n",
    "print(f\"\\n모델 정확도: {accuracy_score(y_test, y_pred_svc):.4f}\\n\")\n",
    "print(\"모델 성능 상세 보고서:\")\n",
    "print(classification_report(y_test, y_pred_svc, target_names=['정상 (Ham)', '스팸 (Spam)']))\n",
    "\n",
    "print(\"\\n--- 새로운 이메일 예측 결과 (LinearSVC) ---\")\n",
    "predictions_svc = model_svc.predict(np.array(new_emails))\n",
    "for email_text, pred in zip(new_emails, predictions_svc):\n",
    "    label = '스팸 (Spam)' if pred == 1 else '정상 (Ham)'\n",
    "    print(f\"\\n이메일: \\\"{email_text.strip()}\\\"\")\n",
    "    print(f\"예측 결과: {label}\")\n",
    "\n"
   ]
  },
  {
   "cell_type": "code",
   "execution_count": 81,
   "id": "ed89f763-dac0-4a1b-96bb-dd3c145ede06",
   "metadata": {},
   "outputs": [
    {
     "name": "stdout",
     "output_type": "stream",
     "text": [
      "\n",
      "==================================================\n",
      "4. Random Forest 모델\n",
      "==================================================\n",
      "\n",
      "모델 정확도: 0.9617\n",
      "\n",
      "모델 성능 상세 보고서:\n",
      "              precision    recall  f1-score   support\n",
      "\n",
      "    정상 (Ham)       0.98      0.98      0.98       505\n",
      "   스팸 (Spam)       0.88      0.87      0.88        95\n",
      "\n",
      "    accuracy                           0.96       600\n",
      "   macro avg       0.93      0.93      0.93       600\n",
      "weighted avg       0.96      0.96      0.96       600\n",
      "\n",
      "\n",
      "--- 새로운 이메일 예측 결과 (Random Forest) ---\n",
      "\n",
      "이메일: \"Subject: Special Offer for You!\n",
      "Hello, claim your 1000 free credits now at this amazing site: http://best-deals.com/free. Limited time!\"\n",
      "예측 결과: 스팸 (Spam)\n",
      "\n",
      "이메일: \"Subject: Meeting Confirmation\n",
      "Hi, confirming our meeting at 3 PM. See you there.\"\n",
      "예측 결과: 스팸 (Spam)\n",
      "\n",
      "이메일: \"Subject: Your personal loan has been approved!\n",
      "Click on this link to activate: https://loan.org/activate?id=345678. Act now!\"\n",
      "예측 결과: 스팸 (Spam)\n"
     ]
    }
   ],
   "source": [
    "\n",
    "# 4. Random Forest 모델\n",
    "print(\"\\n\" + \"=\"*50)\n",
    "print(\"4. Random Forest 모델\")\n",
    "print(\"=\"*50)\n",
    "\n",
    "from sklearn.ensemble import RandomForestClassifier\n",
    "\n",
    "model_rf = Pipeline([\n",
    "    ('preprocessor', TextPreprocessor(\n",
    "        remove_headers=True, to_lowercase=True, remove_punctuation=True,\n",
    "        replace_urls=True, replace_numbers=True, perform_stemming=True\n",
    "    )),\n",
    "    ('vectorizer', CountVectorizer()),\n",
    "    ('classifier', RandomForestClassifier(n_estimators=100, random_state=42))\n",
    "])\n",
    "\n",
    "model_rf.fit(X_train_text, y_train)\n",
    "y_pred_rf = model_rf.predict(X_test_text)\n",
    "\n",
    "print(f\"\\n모델 정확도: {accuracy_score(y_test, y_pred_rf):.4f}\\n\")\n",
    "print(\"모델 성능 상세 보고서:\")\n",
    "print(classification_report(y_test, y_pred_rf, target_names=['정상 (Ham)', '스팸 (Spam)']))\n",
    "\n",
    "print(\"\\n--- 새로운 이메일 예측 결과 (Random Forest) ---\")\n",
    "predictions_rf = model_rf.predict(np.array(new_emails))\n",
    "for email_text, pred in zip(new_emails, predictions_rf):\n",
    "    label = '스팸 (Spam)' if pred == 1 else '정상 (Ham)'\n",
    "    print(f\"\\n이메일: \\\"{email_text.strip()}\\\"\")\n",
    "    print(f\"예측 결과: {label}\")"
   ]
  },
  {
   "cell_type": "code",
   "execution_count": null,
   "id": "117c66aa-eb6f-4405-b45c-70281cb5881f",
   "metadata": {},
   "outputs": [],
   "source": []
  },
  {
   "cell_type": "code",
   "execution_count": null,
   "id": "0cf5bb3e-ea99-4017-aeee-d58a45b2a180",
   "metadata": {},
   "outputs": [],
   "source": []
  },
  {
   "cell_type": "code",
   "execution_count": null,
   "id": "35105457-b426-4af2-ac99-511e36f3e8a2",
   "metadata": {},
   "outputs": [],
   "source": []
  },
  {
   "cell_type": "code",
   "execution_count": null,
   "id": "6b185a54-14b4-484d-96a0-8559ced86dea",
   "metadata": {},
   "outputs": [],
   "source": []
  },
  {
   "cell_type": "code",
   "execution_count": null,
   "id": "58034a51-b376-45fe-a587-6bf836c3fb35",
   "metadata": {},
   "outputs": [],
   "source": []
  },
  {
   "cell_type": "code",
   "execution_count": null,
   "id": "e2d7a6db-0a04-468f-8d52-07f45b89bf46",
   "metadata": {},
   "outputs": [],
   "source": []
  },
  {
   "cell_type": "code",
   "execution_count": null,
   "id": "af7c3385-c1d0-44c4-a479-6c194cc52f92",
   "metadata": {},
   "outputs": [],
   "source": []
  },
  {
   "cell_type": "code",
   "execution_count": null,
   "id": "dadfbf60-8c45-4e9b-aca5-4f5f6be15b77",
   "metadata": {},
   "outputs": [],
   "source": []
  },
  {
   "cell_type": "code",
   "execution_count": null,
   "id": "5b50823a-8588-4d5a-92de-683ed83fe2ae",
   "metadata": {},
   "outputs": [],
   "source": []
  },
  {
   "cell_type": "code",
   "execution_count": null,
   "id": "fa643b1c-bba6-43e2-b3e2-d796ab840559",
   "metadata": {},
   "outputs": [],
   "source": []
  },
  {
   "cell_type": "code",
   "execution_count": null,
   "id": "a8ed0f68-c1b4-4353-beda-b788a144b212",
   "metadata": {},
   "outputs": [],
   "source": []
  }
 ],
 "metadata": {
  "kernelspec": {
   "display_name": "Python 3.8.10 (py3_8_10)",
   "language": "python",
   "name": "py3_8_10"
  },
  "language_info": {
   "codemirror_mode": {
    "name": "ipython",
    "version": 3
   },
   "file_extension": ".py",
   "mimetype": "text/x-python",
   "name": "python",
   "nbconvert_exporter": "python",
   "pygments_lexer": "ipython3",
   "version": "3.8.10"
  }
 },
 "nbformat": 4,
 "nbformat_minor": 5
}
